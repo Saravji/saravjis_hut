{
 "cells": [
  {
   "cell_type": "markdown",
   "metadata": {},
   "source": [
    "<font size=6><strong>Demo Notebook Feature Selection</strong></font>"
   ]
  },
  {
   "cell_type": "markdown",
   "metadata": {
    "heading_collapsed": true
   },
   "source": [
    "# Initializing"
   ]
  },
  {
   "cell_type": "markdown",
   "metadata": {
    "heading_collapsed": true,
    "hidden": true
   },
   "source": [
    "## load packages and set constants"
   ]
  },
  {
   "cell_type": "code",
   "execution_count": 1,
   "metadata": {
    "hidden": true
   },
   "outputs": [],
   "source": [
    "%matplotlib inline\n",
    "%load_ext autotime\n",
    "%load_ext autoreload\n",
    "%autoreload 2\n",
    "%config IPCompleter.greedy=True\n",
    "from IPython.core.debugger import set_trace\n",
    "\n",
    "import pandas as pd\n",
    "import numpy as np\n",
    "import matplotlib.pyplot as plt\n",
    "import matplotlib.ticker as ticker\n",
    "import seaborn as sns\n",
    "import time\n",
    "import importlib\n",
    "import re\n",
    "import math\n",
    "from datetime import datetime\n",
    "from sklearn.linear_model import LogisticRegression\n",
    "from sklearn.linear_model import ElasticNet\n",
    "from sklearn.linear_model import SGDClassifier\n",
    "from sklearn.svm import SVC\n",
    "from sklearn.neighbors import KNeighborsClassifier\n",
    "from sklearn.gaussian_process import GaussianProcessClassifier\n",
    "from sklearn.tree import DecisionTreeClassifier\n",
    "from sklearn.ensemble import AdaBoostClassifier\n",
    "from sklearn.ensemble import RandomForestClassifier\n",
    "from sklearn.ensemble import GradientBoostingClassifier\n",
    "from sklearn.ensemble import ExtraTreesClassifier\n",
    "#from sklearn.preprocessing import LabelEncoder\n",
    "#from sklearn.metrics import r2_score, mean_squared_error\n",
    "from sklearn.metrics import confusion_matrix\n",
    "from sklearn.model_selection import train_test_split\n",
    "from sklearn.model_selection import GridSearchCV\n",
    "from sklearn.feature_selection import SelectKBest\n",
    "from sklearn.feature_selection import chi2\n",
    "from sklearn.feature_selection import SelectFromModel\n",
    "from sklearn.decomposition import PCA\n",
    "\n",
    "pd.set_option(\"display.max_rows\", 101)\n",
    "pd.set_option(\"display.max_columns\", 60)\n",
    "plt.rcParams[\"figure.figsize\"] = (30, 15)\n",
    "#plt.style.use('ggplot')\n",
    "sns.set_style('whitegrid')\n",
    "\n",
    "random_seed = 999"
   ]
  },
  {
   "cell_type": "code",
   "execution_count": 2,
   "metadata": {
    "hidden": true
   },
   "outputs": [
    {
     "name": "stdout",
     "output_type": "stream",
     "text": [
      "time: 56.3 ms\n"
     ]
    }
   ],
   "source": [
    "dict_model = {}\n",
    "dict_model['LR'] = 'Logistic Regression'\n",
    "dict_model['RF'] = 'Random Forest Classifier'\n",
    "dict_model['AB'] = 'AdaBoost Classifier'\n",
    "dict_model['EN'] = 'ElasticNet'\n",
    "dict_model['SVC'] = 'C-Support Vector Classification'\n",
    "dict_model['SGD'] = 'Stochastic Gradient Descent'\n",
    "dict_model['kNN'] = 'Nearest Neighbors Classification'\n",
    "dict_model['GPC'] = 'Gaussian Process Classification'\n",
    "dict_model['DT'] = 'Decision Tree Classifier'\n",
    "dict_model['GB'] = 'Gradient Boosting Classifier'"
   ]
  },
  {
   "cell_type": "markdown",
   "metadata": {
    "heading_collapsed": true,
    "hidden": true
   },
   "source": [
    "## Functions"
   ]
  },
  {
   "cell_type": "code",
   "execution_count": 3,
   "metadata": {
    "hidden": true
   },
   "outputs": [
    {
     "name": "stdout",
     "output_type": "stream",
     "text": [
      "time: 180 ms\n"
     ]
    }
   ],
   "source": [
    "def score_MCC(y_true, y_pred):\n",
    "    tn, fp, fn, tp = confusion_matrix(y_true, y_pred).ravel()\n",
    "    with np.errstate(divide='ignore',invalid='ignore'):\n",
    "        mcc = ((tp * tn) -(fp * fn)) / (math.sqrt((tp + fp) * (tp + fn) * (tn + fp) * (tn + fn)))\n",
    "    return tp, fp, tn, fn, mcc\n",
    "\n",
    "def load_madelon(local=True):\n",
    "    if local:\n",
    "        #URLS for dataset included in package\n",
    "        train_data_url='data/madelon/madelon_train.data'\n",
    "        train_label_url='data/madelon/madelon_train.labels'\n",
    "        test_data_url='data/madelon/madelon_valid.data'\n",
    "        test_label_url='data/madelon/madelon_valid.labels'\n",
    "    else:\n",
    "        # URLS for dataset via UCI\n",
    "        train_data_url='https://archive.ics.uci.edu/ml/machine-learning-databases/madelon/MADELON/madelon_train.data'\n",
    "        train_label_url='https://archive.ics.uci.edu/ml/machine-learning-databases/madelon/MADELON/madelon_train.labels'\n",
    "        test_data_url='https://archive.ics.uci.edu/ml/machine-learning-databases/madelon/MADELON/madelon_valid.data'\n",
    "        test_label_url='https://archive.ics.uci.edu/ml/machine-learning-databases/madelon/MADELON/madelon_valid.labels'\n",
    "    \n",
    "    X_data = pd.read_csv(train_data_url, sep=\" \", header=None)\n",
    "    y_data = pd.read_csv(train_label_url, sep=\" \", header=None)\n",
    "    data = X_data.iloc[:,0:500]\n",
    "    data['target'] = y_data[0]\n",
    "    X_test = pd.read_csv(test_data_url, sep=\" \", header=None)\n",
    "    y_test = pd.read_csv(test_label_url, sep=\" \", header=None)\n",
    "    test = X_test.iloc[:,0:500]\n",
    "    test['target'] = y_test[0]\n",
    "    return data, test\n",
    "\n",
    "def run_alg(dict_alg, X_train, X_test, y_train, y_test):\n",
    "    col_names = ['algorithm', 'TP', 'FP', 'TN', 'FN', 'MCC']\n",
    "    df = pd.DataFrame(columns=col_names)\n",
    "    for key in dict_alg.keys():\n",
    "        model = dict_alg[key]\n",
    "        model.fit(X_train, y_train)\n",
    "        y_pred = model.predict(X_test)\n",
    "        # handling the continuos results and forcing them to binary\n",
    "        if key in ['EN']:\n",
    "            y_pred = [1 if i >=0 else -1 for i in y_pred]\n",
    "        df = df.append(pd.DataFrame([dict(zip(col_names,[dict_model[key]] + list(score_MCC(y_test, y_pred))))]), ignore_index=True)\n",
    "    return df[col_names] # forcing right layout\n",
    "\n",
    "def run_tune_alg(dict_alg, dict_param, X_train, X_test, y_train, y_test):\n",
    "    col_names = ['algorithm', 'TP', 'FP', 'TN', 'FN', 'MCC']\n",
    "    df = pd.DataFrame(columns=col_names)\n",
    "    for key in dict_alg.keys():\n",
    "        print(key)\n",
    "        model = dict_alg[key]\n",
    "        param_grid = dict_param[key]\n",
    "        grid_search = GridSearchCV(model, param_grid=param_grid)\n",
    "        grid_search.fit(X_train, y_train)\n",
    "        y_pred = grid_search.predict(X_test)\n",
    "        if key in ['EN']:\n",
    "            y_pred = [1 if i >=0 else -1 for i in y_pred]\n",
    "        df = df.append(pd.DataFrame([dict(zip(col_names,[dict_model[key]] + list(score_MCC(y_test, y_pred))))]), ignore_index=True)\n",
    "    return df[col_names] # forcing right layout\n",
    "\n",
    "def prep_data(X, y, random_seed):\n",
    "    return train_test_split(X, y, test_size=0.33, random_state=random_seed)\n",
    "\n",
    "def prep_df(df_train, df_test):\n",
    "    X_train = df_train.iloc[:,:-1]\n",
    "    y_train = df_train.iloc[:,-1]\n",
    "    X_test = df_test.iloc[:,:-1]\n",
    "    y_test = df_test.iloc[:,-1]\n",
    "    return X_train, X_test, y_train, y_test"
   ]
  },
  {
   "cell_type": "markdown",
   "metadata": {
    "heading_collapsed": true,
    "hidden": true
   },
   "source": [
    "## Loading Data Sets"
   ]
  },
  {
   "cell_type": "code",
   "execution_count": 4,
   "metadata": {
    "hidden": true
   },
   "outputs": [
    {
     "name": "stdout",
     "output_type": "stream",
     "text": [
      "time: 423 ms\n"
     ]
    }
   ],
   "source": [
    "df_train, df_test = load_madelon()"
   ]
  },
  {
   "cell_type": "code",
   "execution_count": 5,
   "metadata": {
    "hidden": true
   },
   "outputs": [
    {
     "data": {
      "text/html": [
       "<div>\n",
       "<style>\n",
       "    .dataframe thead tr:only-child th {\n",
       "        text-align: right;\n",
       "    }\n",
       "\n",
       "    .dataframe thead th {\n",
       "        text-align: left;\n",
       "    }\n",
       "\n",
       "    .dataframe tbody tr th {\n",
       "        vertical-align: top;\n",
       "    }\n",
       "</style>\n",
       "<table border=\"1\" class=\"dataframe\">\n",
       "  <thead>\n",
       "    <tr style=\"text-align: right;\">\n",
       "      <th></th>\n",
       "      <th>0</th>\n",
       "      <th>1</th>\n",
       "      <th>2</th>\n",
       "      <th>3</th>\n",
       "      <th>4</th>\n",
       "      <th>5</th>\n",
       "      <th>6</th>\n",
       "      <th>7</th>\n",
       "      <th>8</th>\n",
       "      <th>9</th>\n",
       "      <th>10</th>\n",
       "      <th>11</th>\n",
       "      <th>12</th>\n",
       "      <th>13</th>\n",
       "      <th>14</th>\n",
       "      <th>15</th>\n",
       "      <th>16</th>\n",
       "      <th>17</th>\n",
       "      <th>18</th>\n",
       "      <th>19</th>\n",
       "      <th>20</th>\n",
       "      <th>21</th>\n",
       "      <th>22</th>\n",
       "      <th>23</th>\n",
       "      <th>24</th>\n",
       "      <th>25</th>\n",
       "      <th>26</th>\n",
       "      <th>27</th>\n",
       "      <th>28</th>\n",
       "      <th>29</th>\n",
       "      <th>...</th>\n",
       "      <th>471</th>\n",
       "      <th>472</th>\n",
       "      <th>473</th>\n",
       "      <th>474</th>\n",
       "      <th>475</th>\n",
       "      <th>476</th>\n",
       "      <th>477</th>\n",
       "      <th>478</th>\n",
       "      <th>479</th>\n",
       "      <th>480</th>\n",
       "      <th>481</th>\n",
       "      <th>482</th>\n",
       "      <th>483</th>\n",
       "      <th>484</th>\n",
       "      <th>485</th>\n",
       "      <th>486</th>\n",
       "      <th>487</th>\n",
       "      <th>488</th>\n",
       "      <th>489</th>\n",
       "      <th>490</th>\n",
       "      <th>491</th>\n",
       "      <th>492</th>\n",
       "      <th>493</th>\n",
       "      <th>494</th>\n",
       "      <th>495</th>\n",
       "      <th>496</th>\n",
       "      <th>497</th>\n",
       "      <th>498</th>\n",
       "      <th>499</th>\n",
       "      <th>target</th>\n",
       "    </tr>\n",
       "  </thead>\n",
       "  <tbody>\n",
       "    <tr>\n",
       "      <th>0</th>\n",
       "      <td>485</td>\n",
       "      <td>477</td>\n",
       "      <td>537</td>\n",
       "      <td>479</td>\n",
       "      <td>452</td>\n",
       "      <td>471</td>\n",
       "      <td>491</td>\n",
       "      <td>476</td>\n",
       "      <td>475</td>\n",
       "      <td>473</td>\n",
       "      <td>455</td>\n",
       "      <td>500</td>\n",
       "      <td>456</td>\n",
       "      <td>507</td>\n",
       "      <td>478</td>\n",
       "      <td>491</td>\n",
       "      <td>447</td>\n",
       "      <td>422</td>\n",
       "      <td>480</td>\n",
       "      <td>482</td>\n",
       "      <td>515</td>\n",
       "      <td>482</td>\n",
       "      <td>464</td>\n",
       "      <td>484</td>\n",
       "      <td>477</td>\n",
       "      <td>496</td>\n",
       "      <td>509</td>\n",
       "      <td>491</td>\n",
       "      <td>459</td>\n",
       "      <td>482</td>\n",
       "      <td>...</td>\n",
       "      <td>470</td>\n",
       "      <td>515</td>\n",
       "      <td>476</td>\n",
       "      <td>467</td>\n",
       "      <td>401</td>\n",
       "      <td>485</td>\n",
       "      <td>499</td>\n",
       "      <td>495</td>\n",
       "      <td>490</td>\n",
       "      <td>508</td>\n",
       "      <td>463</td>\n",
       "      <td>487</td>\n",
       "      <td>531</td>\n",
       "      <td>515</td>\n",
       "      <td>476</td>\n",
       "      <td>482</td>\n",
       "      <td>463</td>\n",
       "      <td>467</td>\n",
       "      <td>479</td>\n",
       "      <td>477</td>\n",
       "      <td>481</td>\n",
       "      <td>477</td>\n",
       "      <td>485</td>\n",
       "      <td>511</td>\n",
       "      <td>485</td>\n",
       "      <td>481</td>\n",
       "      <td>479</td>\n",
       "      <td>475</td>\n",
       "      <td>496</td>\n",
       "      <td>-1</td>\n",
       "    </tr>\n",
       "    <tr>\n",
       "      <th>1</th>\n",
       "      <td>483</td>\n",
       "      <td>458</td>\n",
       "      <td>460</td>\n",
       "      <td>487</td>\n",
       "      <td>587</td>\n",
       "      <td>475</td>\n",
       "      <td>526</td>\n",
       "      <td>479</td>\n",
       "      <td>485</td>\n",
       "      <td>469</td>\n",
       "      <td>434</td>\n",
       "      <td>483</td>\n",
       "      <td>465</td>\n",
       "      <td>503</td>\n",
       "      <td>472</td>\n",
       "      <td>478</td>\n",
       "      <td>469</td>\n",
       "      <td>518</td>\n",
       "      <td>495</td>\n",
       "      <td>491</td>\n",
       "      <td>478</td>\n",
       "      <td>530</td>\n",
       "      <td>462</td>\n",
       "      <td>494</td>\n",
       "      <td>549</td>\n",
       "      <td>469</td>\n",
       "      <td>516</td>\n",
       "      <td>487</td>\n",
       "      <td>475</td>\n",
       "      <td>486</td>\n",
       "      <td>...</td>\n",
       "      <td>478</td>\n",
       "      <td>465</td>\n",
       "      <td>479</td>\n",
       "      <td>482</td>\n",
       "      <td>549</td>\n",
       "      <td>470</td>\n",
       "      <td>506</td>\n",
       "      <td>481</td>\n",
       "      <td>494</td>\n",
       "      <td>492</td>\n",
       "      <td>448</td>\n",
       "      <td>492</td>\n",
       "      <td>447</td>\n",
       "      <td>598</td>\n",
       "      <td>507</td>\n",
       "      <td>478</td>\n",
       "      <td>483</td>\n",
       "      <td>492</td>\n",
       "      <td>485</td>\n",
       "      <td>463</td>\n",
       "      <td>478</td>\n",
       "      <td>487</td>\n",
       "      <td>338</td>\n",
       "      <td>513</td>\n",
       "      <td>486</td>\n",
       "      <td>483</td>\n",
       "      <td>492</td>\n",
       "      <td>510</td>\n",
       "      <td>517</td>\n",
       "      <td>-1</td>\n",
       "    </tr>\n",
       "    <tr>\n",
       "      <th>2</th>\n",
       "      <td>487</td>\n",
       "      <td>542</td>\n",
       "      <td>499</td>\n",
       "      <td>468</td>\n",
       "      <td>448</td>\n",
       "      <td>471</td>\n",
       "      <td>442</td>\n",
       "      <td>478</td>\n",
       "      <td>480</td>\n",
       "      <td>477</td>\n",
       "      <td>468</td>\n",
       "      <td>497</td>\n",
       "      <td>477</td>\n",
       "      <td>491</td>\n",
       "      <td>493</td>\n",
       "      <td>502</td>\n",
       "      <td>465</td>\n",
       "      <td>567</td>\n",
       "      <td>510</td>\n",
       "      <td>475</td>\n",
       "      <td>474</td>\n",
       "      <td>483</td>\n",
       "      <td>490</td>\n",
       "      <td>492</td>\n",
       "      <td>544</td>\n",
       "      <td>482</td>\n",
       "      <td>454</td>\n",
       "      <td>496</td>\n",
       "      <td>491</td>\n",
       "      <td>495</td>\n",
       "      <td>...</td>\n",
       "      <td>481</td>\n",
       "      <td>485</td>\n",
       "      <td>478</td>\n",
       "      <td>479</td>\n",
       "      <td>454</td>\n",
       "      <td>503</td>\n",
       "      <td>501</td>\n",
       "      <td>500</td>\n",
       "      <td>484</td>\n",
       "      <td>479</td>\n",
       "      <td>470</td>\n",
       "      <td>466</td>\n",
       "      <td>529</td>\n",
       "      <td>482</td>\n",
       "      <td>486</td>\n",
       "      <td>487</td>\n",
       "      <td>480</td>\n",
       "      <td>522</td>\n",
       "      <td>481</td>\n",
       "      <td>487</td>\n",
       "      <td>481</td>\n",
       "      <td>492</td>\n",
       "      <td>650</td>\n",
       "      <td>506</td>\n",
       "      <td>501</td>\n",
       "      <td>480</td>\n",
       "      <td>489</td>\n",
       "      <td>499</td>\n",
       "      <td>498</td>\n",
       "      <td>-1</td>\n",
       "    </tr>\n",
       "    <tr>\n",
       "      <th>3</th>\n",
       "      <td>480</td>\n",
       "      <td>491</td>\n",
       "      <td>510</td>\n",
       "      <td>485</td>\n",
       "      <td>495</td>\n",
       "      <td>472</td>\n",
       "      <td>417</td>\n",
       "      <td>474</td>\n",
       "      <td>502</td>\n",
       "      <td>476</td>\n",
       "      <td>455</td>\n",
       "      <td>520</td>\n",
       "      <td>437</td>\n",
       "      <td>472</td>\n",
       "      <td>481</td>\n",
       "      <td>436</td>\n",
       "      <td>503</td>\n",
       "      <td>522</td>\n",
       "      <td>488</td>\n",
       "      <td>468</td>\n",
       "      <td>492</td>\n",
       "      <td>488</td>\n",
       "      <td>476</td>\n",
       "      <td>479</td>\n",
       "      <td>477</td>\n",
       "      <td>485</td>\n",
       "      <td>506</td>\n",
       "      <td>476</td>\n",
       "      <td>472</td>\n",
       "      <td>506</td>\n",
       "      <td>...</td>\n",
       "      <td>481</td>\n",
       "      <td>457</td>\n",
       "      <td>476</td>\n",
       "      <td>481</td>\n",
       "      <td>602</td>\n",
       "      <td>500</td>\n",
       "      <td>503</td>\n",
       "      <td>481</td>\n",
       "      <td>487</td>\n",
       "      <td>465</td>\n",
       "      <td>473</td>\n",
       "      <td>477</td>\n",
       "      <td>515</td>\n",
       "      <td>525</td>\n",
       "      <td>468</td>\n",
       "      <td>487</td>\n",
       "      <td>458</td>\n",
       "      <td>489</td>\n",
       "      <td>490</td>\n",
       "      <td>491</td>\n",
       "      <td>480</td>\n",
       "      <td>474</td>\n",
       "      <td>572</td>\n",
       "      <td>454</td>\n",
       "      <td>469</td>\n",
       "      <td>475</td>\n",
       "      <td>482</td>\n",
       "      <td>494</td>\n",
       "      <td>461</td>\n",
       "      <td>1</td>\n",
       "    </tr>\n",
       "    <tr>\n",
       "      <th>4</th>\n",
       "      <td>484</td>\n",
       "      <td>502</td>\n",
       "      <td>528</td>\n",
       "      <td>489</td>\n",
       "      <td>466</td>\n",
       "      <td>481</td>\n",
       "      <td>402</td>\n",
       "      <td>478</td>\n",
       "      <td>487</td>\n",
       "      <td>468</td>\n",
       "      <td>432</td>\n",
       "      <td>494</td>\n",
       "      <td>493</td>\n",
       "      <td>434</td>\n",
       "      <td>505</td>\n",
       "      <td>497</td>\n",
       "      <td>486</td>\n",
       "      <td>471</td>\n",
       "      <td>467</td>\n",
       "      <td>476</td>\n",
       "      <td>455</td>\n",
       "      <td>517</td>\n",
       "      <td>483</td>\n",
       "      <td>465</td>\n",
       "      <td>512</td>\n",
       "      <td>552</td>\n",
       "      <td>505</td>\n",
       "      <td>464</td>\n",
       "      <td>472</td>\n",
       "      <td>419</td>\n",
       "      <td>...</td>\n",
       "      <td>476</td>\n",
       "      <td>500</td>\n",
       "      <td>479</td>\n",
       "      <td>483</td>\n",
       "      <td>560</td>\n",
       "      <td>474</td>\n",
       "      <td>486</td>\n",
       "      <td>459</td>\n",
       "      <td>494</td>\n",
       "      <td>509</td>\n",
       "      <td>456</td>\n",
       "      <td>472</td>\n",
       "      <td>520</td>\n",
       "      <td>468</td>\n",
       "      <td>482</td>\n",
       "      <td>473</td>\n",
       "      <td>473</td>\n",
       "      <td>498</td>\n",
       "      <td>485</td>\n",
       "      <td>488</td>\n",
       "      <td>479</td>\n",
       "      <td>452</td>\n",
       "      <td>435</td>\n",
       "      <td>486</td>\n",
       "      <td>508</td>\n",
       "      <td>481</td>\n",
       "      <td>504</td>\n",
       "      <td>495</td>\n",
       "      <td>511</td>\n",
       "      <td>1</td>\n",
       "    </tr>\n",
       "  </tbody>\n",
       "</table>\n",
       "<p>5 rows × 501 columns</p>\n",
       "</div>"
      ],
      "text/plain": [
       "     0    1    2    3    4    5    6    7    8    9   10   11   12   13   14  \\\n",
       "0  485  477  537  479  452  471  491  476  475  473  455  500  456  507  478   \n",
       "1  483  458  460  487  587  475  526  479  485  469  434  483  465  503  472   \n",
       "2  487  542  499  468  448  471  442  478  480  477  468  497  477  491  493   \n",
       "3  480  491  510  485  495  472  417  474  502  476  455  520  437  472  481   \n",
       "4  484  502  528  489  466  481  402  478  487  468  432  494  493  434  505   \n",
       "\n",
       "    15   16   17   18   19   20   21   22   23   24   25   26   27   28   29  \\\n",
       "0  491  447  422  480  482  515  482  464  484  477  496  509  491  459  482   \n",
       "1  478  469  518  495  491  478  530  462  494  549  469  516  487  475  486   \n",
       "2  502  465  567  510  475  474  483  490  492  544  482  454  496  491  495   \n",
       "3  436  503  522  488  468  492  488  476  479  477  485  506  476  472  506   \n",
       "4  497  486  471  467  476  455  517  483  465  512  552  505  464  472  419   \n",
       "\n",
       "    ...    471  472  473  474  475  476  477  478  479  480  481  482  483  \\\n",
       "0   ...    470  515  476  467  401  485  499  495  490  508  463  487  531   \n",
       "1   ...    478  465  479  482  549  470  506  481  494  492  448  492  447   \n",
       "2   ...    481  485  478  479  454  503  501  500  484  479  470  466  529   \n",
       "3   ...    481  457  476  481  602  500  503  481  487  465  473  477  515   \n",
       "4   ...    476  500  479  483  560  474  486  459  494  509  456  472  520   \n",
       "\n",
       "   484  485  486  487  488  489  490  491  492  493  494  495  496  497  498  \\\n",
       "0  515  476  482  463  467  479  477  481  477  485  511  485  481  479  475   \n",
       "1  598  507  478  483  492  485  463  478  487  338  513  486  483  492  510   \n",
       "2  482  486  487  480  522  481  487  481  492  650  506  501  480  489  499   \n",
       "3  525  468  487  458  489  490  491  480  474  572  454  469  475  482  494   \n",
       "4  468  482  473  473  498  485  488  479  452  435  486  508  481  504  495   \n",
       "\n",
       "   499  target  \n",
       "0  496      -1  \n",
       "1  517      -1  \n",
       "2  498      -1  \n",
       "3  461       1  \n",
       "4  511       1  \n",
       "\n",
       "[5 rows x 501 columns]"
      ]
     },
     "execution_count": 5,
     "metadata": {},
     "output_type": "execute_result"
    },
    {
     "name": "stdout",
     "output_type": "stream",
     "text": [
      "time: 107 ms\n"
     ]
    }
   ],
   "source": [
    "df_train.head(5)"
   ]
  },
  {
   "cell_type": "code",
   "execution_count": 6,
   "metadata": {
    "hidden": true
   },
   "outputs": [
    {
     "data": {
      "text/plain": [
       "(2000, 501)"
      ]
     },
     "execution_count": 6,
     "metadata": {},
     "output_type": "execute_result"
    },
    {
     "name": "stdout",
     "output_type": "stream",
     "text": [
      "time: 54.6 ms\n"
     ]
    }
   ],
   "source": [
    "df_train.shape"
   ]
  },
  {
   "cell_type": "code",
   "execution_count": 7,
   "metadata": {
    "hidden": true
   },
   "outputs": [
    {
     "data": {
      "text/html": [
       "<div>\n",
       "<style>\n",
       "    .dataframe thead tr:only-child th {\n",
       "        text-align: right;\n",
       "    }\n",
       "\n",
       "    .dataframe thead th {\n",
       "        text-align: left;\n",
       "    }\n",
       "\n",
       "    .dataframe tbody tr th {\n",
       "        vertical-align: top;\n",
       "    }\n",
       "</style>\n",
       "<table border=\"1\" class=\"dataframe\">\n",
       "  <thead>\n",
       "    <tr style=\"text-align: right;\">\n",
       "      <th></th>\n",
       "      <th>0</th>\n",
       "      <th>1</th>\n",
       "      <th>2</th>\n",
       "      <th>3</th>\n",
       "      <th>4</th>\n",
       "      <th>5</th>\n",
       "      <th>6</th>\n",
       "      <th>7</th>\n",
       "      <th>8</th>\n",
       "      <th>9</th>\n",
       "      <th>10</th>\n",
       "      <th>11</th>\n",
       "      <th>12</th>\n",
       "      <th>13</th>\n",
       "      <th>14</th>\n",
       "      <th>15</th>\n",
       "      <th>16</th>\n",
       "      <th>17</th>\n",
       "      <th>18</th>\n",
       "      <th>19</th>\n",
       "      <th>20</th>\n",
       "      <th>21</th>\n",
       "      <th>22</th>\n",
       "      <th>23</th>\n",
       "      <th>24</th>\n",
       "      <th>25</th>\n",
       "      <th>26</th>\n",
       "      <th>27</th>\n",
       "      <th>28</th>\n",
       "      <th>29</th>\n",
       "      <th>...</th>\n",
       "      <th>471</th>\n",
       "      <th>472</th>\n",
       "      <th>473</th>\n",
       "      <th>474</th>\n",
       "      <th>475</th>\n",
       "      <th>476</th>\n",
       "      <th>477</th>\n",
       "      <th>478</th>\n",
       "      <th>479</th>\n",
       "      <th>480</th>\n",
       "      <th>481</th>\n",
       "      <th>482</th>\n",
       "      <th>483</th>\n",
       "      <th>484</th>\n",
       "      <th>485</th>\n",
       "      <th>486</th>\n",
       "      <th>487</th>\n",
       "      <th>488</th>\n",
       "      <th>489</th>\n",
       "      <th>490</th>\n",
       "      <th>491</th>\n",
       "      <th>492</th>\n",
       "      <th>493</th>\n",
       "      <th>494</th>\n",
       "      <th>495</th>\n",
       "      <th>496</th>\n",
       "      <th>497</th>\n",
       "      <th>498</th>\n",
       "      <th>499</th>\n",
       "      <th>target</th>\n",
       "    </tr>\n",
       "  </thead>\n",
       "  <tbody>\n",
       "    <tr>\n",
       "      <th>0</th>\n",
       "      <td>483</td>\n",
       "      <td>454</td>\n",
       "      <td>513</td>\n",
       "      <td>495</td>\n",
       "      <td>523</td>\n",
       "      <td>469</td>\n",
       "      <td>453</td>\n",
       "      <td>477</td>\n",
       "      <td>506</td>\n",
       "      <td>479</td>\n",
       "      <td>470</td>\n",
       "      <td>510</td>\n",
       "      <td>463</td>\n",
       "      <td>423</td>\n",
       "      <td>511</td>\n",
       "      <td>500</td>\n",
       "      <td>494</td>\n",
       "      <td>493</td>\n",
       "      <td>472</td>\n",
       "      <td>477</td>\n",
       "      <td>497</td>\n",
       "      <td>503</td>\n",
       "      <td>474</td>\n",
       "      <td>472</td>\n",
       "      <td>483</td>\n",
       "      <td>538</td>\n",
       "      <td>454</td>\n",
       "      <td>468</td>\n",
       "      <td>490</td>\n",
       "      <td>510</td>\n",
       "      <td>...</td>\n",
       "      <td>469</td>\n",
       "      <td>454</td>\n",
       "      <td>477</td>\n",
       "      <td>472</td>\n",
       "      <td>538</td>\n",
       "      <td>509</td>\n",
       "      <td>488</td>\n",
       "      <td>493</td>\n",
       "      <td>487</td>\n",
       "      <td>499</td>\n",
       "      <td>486</td>\n",
       "      <td>462</td>\n",
       "      <td>523</td>\n",
       "      <td>432</td>\n",
       "      <td>484</td>\n",
       "      <td>474</td>\n",
       "      <td>458</td>\n",
       "      <td>485</td>\n",
       "      <td>464</td>\n",
       "      <td>455</td>\n",
       "      <td>480</td>\n",
       "      <td>543</td>\n",
       "      <td>259</td>\n",
       "      <td>413</td>\n",
       "      <td>520</td>\n",
       "      <td>485</td>\n",
       "      <td>498</td>\n",
       "      <td>523</td>\n",
       "      <td>510</td>\n",
       "      <td>-1</td>\n",
       "    </tr>\n",
       "    <tr>\n",
       "      <th>1</th>\n",
       "      <td>485</td>\n",
       "      <td>508</td>\n",
       "      <td>493</td>\n",
       "      <td>487</td>\n",
       "      <td>478</td>\n",
       "      <td>472</td>\n",
       "      <td>504</td>\n",
       "      <td>476</td>\n",
       "      <td>479</td>\n",
       "      <td>475</td>\n",
       "      <td>533</td>\n",
       "      <td>495</td>\n",
       "      <td>427</td>\n",
       "      <td>456</td>\n",
       "      <td>482</td>\n",
       "      <td>481</td>\n",
       "      <td>471</td>\n",
       "      <td>466</td>\n",
       "      <td>476</td>\n",
       "      <td>476</td>\n",
       "      <td>485</td>\n",
       "      <td>470</td>\n",
       "      <td>490</td>\n",
       "      <td>488</td>\n",
       "      <td>504</td>\n",
       "      <td>490</td>\n",
       "      <td>483</td>\n",
       "      <td>478</td>\n",
       "      <td>491</td>\n",
       "      <td>490</td>\n",
       "      <td>...</td>\n",
       "      <td>476</td>\n",
       "      <td>439</td>\n",
       "      <td>478</td>\n",
       "      <td>481</td>\n",
       "      <td>429</td>\n",
       "      <td>481</td>\n",
       "      <td>493</td>\n",
       "      <td>501</td>\n",
       "      <td>492</td>\n",
       "      <td>480</td>\n",
       "      <td>465</td>\n",
       "      <td>474</td>\n",
       "      <td>528</td>\n",
       "      <td>472</td>\n",
       "      <td>483</td>\n",
       "      <td>472</td>\n",
       "      <td>492</td>\n",
       "      <td>469</td>\n",
       "      <td>468</td>\n",
       "      <td>486</td>\n",
       "      <td>480</td>\n",
       "      <td>535</td>\n",
       "      <td>534</td>\n",
       "      <td>514</td>\n",
       "      <td>452</td>\n",
       "      <td>484</td>\n",
       "      <td>495</td>\n",
       "      <td>548</td>\n",
       "      <td>477</td>\n",
       "      <td>-1</td>\n",
       "    </tr>\n",
       "    <tr>\n",
       "      <th>2</th>\n",
       "      <td>483</td>\n",
       "      <td>521</td>\n",
       "      <td>507</td>\n",
       "      <td>475</td>\n",
       "      <td>493</td>\n",
       "      <td>486</td>\n",
       "      <td>421</td>\n",
       "      <td>475</td>\n",
       "      <td>496</td>\n",
       "      <td>483</td>\n",
       "      <td>428</td>\n",
       "      <td>481</td>\n",
       "      <td>477</td>\n",
       "      <td>578</td>\n",
       "      <td>480</td>\n",
       "      <td>477</td>\n",
       "      <td>458</td>\n",
       "      <td>516</td>\n",
       "      <td>482</td>\n",
       "      <td>467</td>\n",
       "      <td>466</td>\n",
       "      <td>499</td>\n",
       "      <td>479</td>\n",
       "      <td>476</td>\n",
       "      <td>512</td>\n",
       "      <td>547</td>\n",
       "      <td>457</td>\n",
       "      <td>461</td>\n",
       "      <td>479</td>\n",
       "      <td>474</td>\n",
       "      <td>...</td>\n",
       "      <td>478</td>\n",
       "      <td>494</td>\n",
       "      <td>478</td>\n",
       "      <td>486</td>\n",
       "      <td>517</td>\n",
       "      <td>478</td>\n",
       "      <td>494</td>\n",
       "      <td>462</td>\n",
       "      <td>495</td>\n",
       "      <td>503</td>\n",
       "      <td>502</td>\n",
       "      <td>462</td>\n",
       "      <td>462</td>\n",
       "      <td>507</td>\n",
       "      <td>480</td>\n",
       "      <td>472</td>\n",
       "      <td>446</td>\n",
       "      <td>508</td>\n",
       "      <td>477</td>\n",
       "      <td>491</td>\n",
       "      <td>476</td>\n",
       "      <td>498</td>\n",
       "      <td>495</td>\n",
       "      <td>508</td>\n",
       "      <td>528</td>\n",
       "      <td>486</td>\n",
       "      <td>465</td>\n",
       "      <td>508</td>\n",
       "      <td>503</td>\n",
       "      <td>-1</td>\n",
       "    </tr>\n",
       "    <tr>\n",
       "      <th>3</th>\n",
       "      <td>474</td>\n",
       "      <td>504</td>\n",
       "      <td>576</td>\n",
       "      <td>480</td>\n",
       "      <td>553</td>\n",
       "      <td>483</td>\n",
       "      <td>524</td>\n",
       "      <td>478</td>\n",
       "      <td>483</td>\n",
       "      <td>483</td>\n",
       "      <td>467</td>\n",
       "      <td>547</td>\n",
       "      <td>484</td>\n",
       "      <td>430</td>\n",
       "      <td>489</td>\n",
       "      <td>492</td>\n",
       "      <td>476</td>\n",
       "      <td>481</td>\n",
       "      <td>443</td>\n",
       "      <td>486</td>\n",
       "      <td>508</td>\n",
       "      <td>492</td>\n",
       "      <td>484</td>\n",
       "      <td>468</td>\n",
       "      <td>559</td>\n",
       "      <td>465</td>\n",
       "      <td>491</td>\n",
       "      <td>503</td>\n",
       "      <td>472</td>\n",
       "      <td>485</td>\n",
       "      <td>...</td>\n",
       "      <td>481</td>\n",
       "      <td>540</td>\n",
       "      <td>477</td>\n",
       "      <td>485</td>\n",
       "      <td>386</td>\n",
       "      <td>477</td>\n",
       "      <td>469</td>\n",
       "      <td>474</td>\n",
       "      <td>484</td>\n",
       "      <td>485</td>\n",
       "      <td>506</td>\n",
       "      <td>493</td>\n",
       "      <td>465</td>\n",
       "      <td>562</td>\n",
       "      <td>478</td>\n",
       "      <td>474</td>\n",
       "      <td>498</td>\n",
       "      <td>482</td>\n",
       "      <td>481</td>\n",
       "      <td>521</td>\n",
       "      <td>475</td>\n",
       "      <td>470</td>\n",
       "      <td>463</td>\n",
       "      <td>509</td>\n",
       "      <td>525</td>\n",
       "      <td>479</td>\n",
       "      <td>467</td>\n",
       "      <td>552</td>\n",
       "      <td>517</td>\n",
       "      <td>1</td>\n",
       "    </tr>\n",
       "    <tr>\n",
       "      <th>4</th>\n",
       "      <td>495</td>\n",
       "      <td>474</td>\n",
       "      <td>523</td>\n",
       "      <td>479</td>\n",
       "      <td>495</td>\n",
       "      <td>488</td>\n",
       "      <td>485</td>\n",
       "      <td>476</td>\n",
       "      <td>497</td>\n",
       "      <td>478</td>\n",
       "      <td>510</td>\n",
       "      <td>479</td>\n",
       "      <td>514</td>\n",
       "      <td>446</td>\n",
       "      <td>470</td>\n",
       "      <td>487</td>\n",
       "      <td>480</td>\n",
       "      <td>441</td>\n",
       "      <td>467</td>\n",
       "      <td>485</td>\n",
       "      <td>474</td>\n",
       "      <td>502</td>\n",
       "      <td>492</td>\n",
       "      <td>476</td>\n",
       "      <td>460</td>\n",
       "      <td>505</td>\n",
       "      <td>481</td>\n",
       "      <td>506</td>\n",
       "      <td>469</td>\n",
       "      <td>457</td>\n",
       "      <td>...</td>\n",
       "      <td>482</td>\n",
       "      <td>487</td>\n",
       "      <td>478</td>\n",
       "      <td>471</td>\n",
       "      <td>527</td>\n",
       "      <td>519</td>\n",
       "      <td>478</td>\n",
       "      <td>520</td>\n",
       "      <td>478</td>\n",
       "      <td>470</td>\n",
       "      <td>455</td>\n",
       "      <td>500</td>\n",
       "      <td>488</td>\n",
       "      <td>480</td>\n",
       "      <td>495</td>\n",
       "      <td>481</td>\n",
       "      <td>498</td>\n",
       "      <td>495</td>\n",
       "      <td>464</td>\n",
       "      <td>510</td>\n",
       "      <td>471</td>\n",
       "      <td>522</td>\n",
       "      <td>343</td>\n",
       "      <td>509</td>\n",
       "      <td>520</td>\n",
       "      <td>475</td>\n",
       "      <td>493</td>\n",
       "      <td>506</td>\n",
       "      <td>491</td>\n",
       "      <td>-1</td>\n",
       "    </tr>\n",
       "  </tbody>\n",
       "</table>\n",
       "<p>5 rows × 501 columns</p>\n",
       "</div>"
      ],
      "text/plain": [
       "     0    1    2    3    4    5    6    7    8    9   10   11   12   13   14  \\\n",
       "0  483  454  513  495  523  469  453  477  506  479  470  510  463  423  511   \n",
       "1  485  508  493  487  478  472  504  476  479  475  533  495  427  456  482   \n",
       "2  483  521  507  475  493  486  421  475  496  483  428  481  477  578  480   \n",
       "3  474  504  576  480  553  483  524  478  483  483  467  547  484  430  489   \n",
       "4  495  474  523  479  495  488  485  476  497  478  510  479  514  446  470   \n",
       "\n",
       "    15   16   17   18   19   20   21   22   23   24   25   26   27   28   29  \\\n",
       "0  500  494  493  472  477  497  503  474  472  483  538  454  468  490  510   \n",
       "1  481  471  466  476  476  485  470  490  488  504  490  483  478  491  490   \n",
       "2  477  458  516  482  467  466  499  479  476  512  547  457  461  479  474   \n",
       "3  492  476  481  443  486  508  492  484  468  559  465  491  503  472  485   \n",
       "4  487  480  441  467  485  474  502  492  476  460  505  481  506  469  457   \n",
       "\n",
       "    ...    471  472  473  474  475  476  477  478  479  480  481  482  483  \\\n",
       "0   ...    469  454  477  472  538  509  488  493  487  499  486  462  523   \n",
       "1   ...    476  439  478  481  429  481  493  501  492  480  465  474  528   \n",
       "2   ...    478  494  478  486  517  478  494  462  495  503  502  462  462   \n",
       "3   ...    481  540  477  485  386  477  469  474  484  485  506  493  465   \n",
       "4   ...    482  487  478  471  527  519  478  520  478  470  455  500  488   \n",
       "\n",
       "   484  485  486  487  488  489  490  491  492  493  494  495  496  497  498  \\\n",
       "0  432  484  474  458  485  464  455  480  543  259  413  520  485  498  523   \n",
       "1  472  483  472  492  469  468  486  480  535  534  514  452  484  495  548   \n",
       "2  507  480  472  446  508  477  491  476  498  495  508  528  486  465  508   \n",
       "3  562  478  474  498  482  481  521  475  470  463  509  525  479  467  552   \n",
       "4  480  495  481  498  495  464  510  471  522  343  509  520  475  493  506   \n",
       "\n",
       "   499  target  \n",
       "0  510      -1  \n",
       "1  477      -1  \n",
       "2  503      -1  \n",
       "3  517       1  \n",
       "4  491      -1  \n",
       "\n",
       "[5 rows x 501 columns]"
      ]
     },
     "execution_count": 7,
     "metadata": {},
     "output_type": "execute_result"
    },
    {
     "name": "stdout",
     "output_type": "stream",
     "text": [
      "time: 212 ms\n"
     ]
    }
   ],
   "source": [
    "df_test.head(5)"
   ]
  },
  {
   "cell_type": "code",
   "execution_count": 8,
   "metadata": {
    "hidden": true
   },
   "outputs": [
    {
     "data": {
      "text/plain": [
       "(600, 501)"
      ]
     },
     "execution_count": 8,
     "metadata": {},
     "output_type": "execute_result"
    },
    {
     "name": "stdout",
     "output_type": "stream",
     "text": [
      "time: 37.3 ms\n"
     ]
    }
   ],
   "source": [
    "df_test.shape"
   ]
  },
  {
   "cell_type": "markdown",
   "metadata": {
    "heading_collapsed": true
   },
   "source": [
    "# Setting up stack of algorithms"
   ]
  },
  {
   "cell_type": "markdown",
   "metadata": {
    "hidden": true
   },
   "source": [
    "- Logistic Regression\n",
    "- Random Forest\n",
    "- Ada Boost\n",
    "- Elastic Net\n",
    "- SVC (rbf kernel)\n",
    "- Stochastic Gradient Descent\n",
    "- Nearest Neighbors Classification\n",
    "- Gaussian Process Classification (GPC)\n",
    "- Decision Tree\n",
    "- Gradient Boosting Classifier"
   ]
  },
  {
   "cell_type": "markdown",
   "metadata": {
    "heading_collapsed": true,
    "hidden": true
   },
   "source": [
    "## scoring via Matthews Correlation Coefficient (MCC):"
   ]
  },
  {
   "cell_type": "markdown",
   "metadata": {
    "hidden": true
   },
   "source": [
    "for more details refer https://en.wikipedia.org/wiki/Matthews_correlation_coefficient\n",
    "\n",
    "$\n",
    "MCC = \\frac{TP \\times TN – FP \\times FN}{\\sqrt{ (TP +FP) \\times (TP + FN) \\times (TN + FP) \\times (TN + FN)}}\n",
    "$"
   ]
  },
  {
   "cell_type": "markdown",
   "metadata": {
    "heading_collapsed": true,
    "hidden": true
   },
   "source": [
    "## output from each algorithm to be captured:"
   ]
  },
  {
   "cell_type": "markdown",
   "metadata": {
    "hidden": true
   },
   "source": [
    "| algorithm | TP | FP | TN | FN | MCC |\n",
    "| --- | --- | --- | --- | --- | --- |\n",
    "| Logistic Regression | | | | | |\n",
    "| Random Forest | | | | | |\n",
    "| Ada Boost | | | | | |\n",
    "| Elastic Net | | | | | |\n",
    "| SVC (rbf kernel) | | | | | |\n",
    "| Stochastic Gradient Descent | | | | | |\n",
    "| Nearest Neighbors Classification | | | | | |\n",
    "| Gaussian Process Classification (GPC) | | | | | |\n",
    "| Decision Tree | | | | | | "
   ]
  },
  {
   "cell_type": "markdown",
   "metadata": {
    "heading_collapsed": true,
    "hidden": true
   },
   "source": [
    "## Data preparation:"
   ]
  },
  {
   "cell_type": "code",
   "execution_count": 9,
   "metadata": {
    "hidden": true
   },
   "outputs": [
    {
     "name": "stdout",
     "output_type": "stream",
     "text": [
      "time: 52 ms\n"
     ]
    }
   ],
   "source": [
    "X_train = df_train.iloc[:,:-1]\n",
    "X_test = df_test.iloc[:,:-1]\n",
    "y_train = df_train.iloc[:,-1]\n",
    "y_test = df_test.iloc[:,-1]"
   ]
  },
  {
   "cell_type": "markdown",
   "metadata": {
    "heading_collapsed": true
   },
   "source": [
    "# Naive approach: Fit full dataset to default algorithm"
   ]
  },
  {
   "cell_type": "code",
   "execution_count": 10,
   "metadata": {
    "hidden": true
   },
   "outputs": [
    {
     "name": "stdout",
     "output_type": "stream",
     "text": [
      "time: 42.6 ms\n"
     ]
    }
   ],
   "source": [
    "dict_alg = {}\n",
    "dict_alg['LR'] = LogisticRegression(random_state=random_seed)\n",
    "dict_alg['RF'] = RandomForestClassifier(random_state=random_seed)\n",
    "dict_alg['AB'] = AdaBoostClassifier(random_state=random_seed)\n",
    "dict_alg['EN'] = ElasticNet(random_state=random_seed)\n",
    "dict_alg['SVC'] = SVC(random_state=random_seed) # rbf kernel is default\n",
    "dict_alg['SGD'] = SGDClassifier(random_state=random_seed)\n",
    "dict_alg['kNN'] = KNeighborsClassifier()\n",
    "dict_alg['GPC'] = GaussianProcessClassifier(random_state=random_seed)\n",
    "dict_alg['DT'] = DecisionTreeClassifier(random_state=random_seed)\n",
    "dict_alg['GB'] = GradientBoostingClassifier(random_state=random_seed)"
   ]
  },
  {
   "cell_type": "code",
   "execution_count": 11,
   "metadata": {
    "hidden": true
   },
   "outputs": [
    {
     "name": "stdout",
     "output_type": "stream",
     "text": [
      "time: 44.6 s\n"
     ]
    }
   ],
   "source": [
    "df_naive = run_alg(dict_alg, X_train, X_test, y_train, y_test)"
   ]
  },
  {
   "cell_type": "code",
   "execution_count": 12,
   "metadata": {
    "hidden": true
   },
   "outputs": [
    {
     "data": {
      "text/html": [
       "<div>\n",
       "<style>\n",
       "    .dataframe thead tr:only-child th {\n",
       "        text-align: right;\n",
       "    }\n",
       "\n",
       "    .dataframe thead th {\n",
       "        text-align: left;\n",
       "    }\n",
       "\n",
       "    .dataframe tbody tr th {\n",
       "        vertical-align: top;\n",
       "    }\n",
       "</style>\n",
       "<table border=\"1\" class=\"dataframe\">\n",
       "  <thead>\n",
       "    <tr style=\"text-align: right;\">\n",
       "      <th></th>\n",
       "      <th>algorithm</th>\n",
       "      <th>TP</th>\n",
       "      <th>FP</th>\n",
       "      <th>TN</th>\n",
       "      <th>FN</th>\n",
       "      <th>MCC</th>\n",
       "    </tr>\n",
       "  </thead>\n",
       "  <tbody>\n",
       "    <tr>\n",
       "      <th>0</th>\n",
       "      <td>Logistic Regression</td>\n",
       "      <td>174</td>\n",
       "      <td>120</td>\n",
       "      <td>180</td>\n",
       "      <td>126</td>\n",
       "      <td>0.180036</td>\n",
       "    </tr>\n",
       "    <tr>\n",
       "      <th>1</th>\n",
       "      <td>Random Forest Classifier</td>\n",
       "      <td>143</td>\n",
       "      <td>77</td>\n",
       "      <td>223</td>\n",
       "      <td>157</td>\n",
       "      <td>0.228266</td>\n",
       "    </tr>\n",
       "    <tr>\n",
       "      <th>2</th>\n",
       "      <td>AdaBoost Classifier</td>\n",
       "      <td>183</td>\n",
       "      <td>124</td>\n",
       "      <td>176</td>\n",
       "      <td>117</td>\n",
       "      <td>0.196720</td>\n",
       "    </tr>\n",
       "    <tr>\n",
       "      <th>3</th>\n",
       "      <td>ElasticNet</td>\n",
       "      <td>162</td>\n",
       "      <td>119</td>\n",
       "      <td>181</td>\n",
       "      <td>138</td>\n",
       "      <td>0.143622</td>\n",
       "    </tr>\n",
       "    <tr>\n",
       "      <th>4</th>\n",
       "      <td>C-Support Vector Classification</td>\n",
       "      <td>300</td>\n",
       "      <td>300</td>\n",
       "      <td>0</td>\n",
       "      <td>0</td>\n",
       "      <td>NaN</td>\n",
       "    </tr>\n",
       "    <tr>\n",
       "      <th>5</th>\n",
       "      <td>Stochastic Gradient Descent</td>\n",
       "      <td>254</td>\n",
       "      <td>240</td>\n",
       "      <td>60</td>\n",
       "      <td>46</td>\n",
       "      <td>0.061180</td>\n",
       "    </tr>\n",
       "    <tr>\n",
       "      <th>6</th>\n",
       "      <td>Nearest Neighbors Classification</td>\n",
       "      <td>198</td>\n",
       "      <td>83</td>\n",
       "      <td>217</td>\n",
       "      <td>102</td>\n",
       "      <td>0.384104</td>\n",
       "    </tr>\n",
       "    <tr>\n",
       "      <th>7</th>\n",
       "      <td>Gaussian Process Classification</td>\n",
       "      <td>0</td>\n",
       "      <td>0</td>\n",
       "      <td>300</td>\n",
       "      <td>300</td>\n",
       "      <td>NaN</td>\n",
       "    </tr>\n",
       "    <tr>\n",
       "      <th>8</th>\n",
       "      <td>Decision Tree Classifier</td>\n",
       "      <td>237</td>\n",
       "      <td>83</td>\n",
       "      <td>217</td>\n",
       "      <td>63</td>\n",
       "      <td>0.514478</td>\n",
       "    </tr>\n",
       "    <tr>\n",
       "      <th>9</th>\n",
       "      <td>Gradient Boosting Classifier</td>\n",
       "      <td>221</td>\n",
       "      <td>71</td>\n",
       "      <td>229</td>\n",
       "      <td>79</td>\n",
       "      <td>0.500178</td>\n",
       "    </tr>\n",
       "  </tbody>\n",
       "</table>\n",
       "</div>"
      ],
      "text/plain": [
       "                          algorithm   TP   FP   TN   FN       MCC\n",
       "0               Logistic Regression  174  120  180  126  0.180036\n",
       "1          Random Forest Classifier  143   77  223  157  0.228266\n",
       "2               AdaBoost Classifier  183  124  176  117  0.196720\n",
       "3                        ElasticNet  162  119  181  138  0.143622\n",
       "4   C-Support Vector Classification  300  300    0    0       NaN\n",
       "5       Stochastic Gradient Descent  254  240   60   46  0.061180\n",
       "6  Nearest Neighbors Classification  198   83  217  102  0.384104\n",
       "7   Gaussian Process Classification    0    0  300  300       NaN\n",
       "8          Decision Tree Classifier  237   83  217   63  0.514478\n",
       "9      Gradient Boosting Classifier  221   71  229   79  0.500178"
      ]
     },
     "execution_count": 12,
     "metadata": {},
     "output_type": "execute_result"
    },
    {
     "name": "stdout",
     "output_type": "stream",
     "text": [
      "time: 62.2 ms\n"
     ]
    }
   ],
   "source": [
    "df_naive"
   ]
  },
  {
   "cell_type": "markdown",
   "metadata": {
    "hidden": true
   },
   "source": [
    "Obviously, the results are a mixed bag: <br>\n",
    "As this is a truly naive approach, the results are not truly replicable, as the random states are not set.<br>\n",
    "- In general, LR, RF, AB EN, SGD are better than random guessing, althought not by much.\n",
    "- SVC, GPC are either really bad or inconclusive as they predict all results in the same class.\n",
    "- kNN DT and GB are not really bad, but far from desireable.\n",
    "\n",
    "It takes less then 45 seconds to run all models on this dataset.\n",
    "\n",
    "Best is around 0.51."
   ]
  },
  {
   "cell_type": "markdown",
   "metadata": {
    "heading_collapsed": true
   },
   "source": [
    "# Brute force approach: tune algorithm for optimal parameters and fit full dataset"
   ]
  },
  {
   "cell_type": "code",
   "execution_count": 13,
   "metadata": {
    "hidden": true
   },
   "outputs": [
    {
     "name": "stdout",
     "output_type": "stream",
     "text": [
      "time: 67.7 ms\n"
     ]
    }
   ],
   "source": [
    "dict_param = {}\n",
    "dict_param['LR'] = {'max_iter': [10, 30, 60, 100, 300, 600, 1000],\n",
    "                    'solver': ['liblinear', 'saga'],\n",
    "                    }\n",
    "dict_param['RF'] = {'n_estimators': [100, 300, 600, 1000],\n",
    "                    'max_features': [3, 5, 7],\n",
    "                    'max_depth': [2, 4, 6, 8],\n",
    "                    'min_samples_split': [2, 4, 6, 8],\n",
    "                    'min_samples_leaf': [1, 2, 4]\n",
    "                    }\n",
    "dict_param['AB'] = {'n_estimators': [100, 300, 600, 1000],\n",
    "                    'learning_rate': [0.01, 0.05, 0.1, 0.3, 0.6]\n",
    "                    }\n",
    "dict_param['EN'] = {'alpha': [0.1, 0.3, 0.5, 0.7, 0.9],\n",
    "                    'l1_ratio': [0.1, 0.3, 0.5, 0.7, 0.9],\n",
    "                    'max_iter': [100, 500, 1000]\n",
    "                    }\n",
    "dict_param['SVC']= {'kernel': ['linear', 'poly', 'rbf', 'sigmoid'],\n",
    "                    'C': [0.01, 0.05, 0.1, 0.5, 1.0],\n",
    "                    'degree': [2, 3, 4, 5]\n",
    "                    }\n",
    "dict_param['SGD']= {'loss': ['hinge', 'log', 'modified_huber', 'squared_hinge', 'perceptron'],\n",
    "                    'alpha': [0.0001, 0.001, 0.01, 0.1],\n",
    "                    'fit_intercept': [True, False]\n",
    "                    }\n",
    "dict_param['kNN']= {'n_neighbors': [2, 4, 6, 8, 10],\n",
    "                    }\n",
    "dict_param['GPC']= {'multi_class': ['one_vs_rest', 'one_vs_one'],\n",
    "                    'max_iter_predict': [30, 60, 100, 300]\n",
    "                    }\n",
    "dict_param['DT'] = {'criterion': ['gini', 'entropy'],\n",
    "                    'max_depth': [3, 6, 10, 30, 100],\n",
    "                    'min_samples_split': [2, 3, 6, 10, 30],\n",
    "                    'min_samples_leaf': [1, 3, 6, 10, 30],\n",
    "                    'presort': [True, False]\n",
    "                    }\n",
    "dict_param['GB'] = {'learning_rate': [0.01, 0.05, 0.1, 0.15],\n",
    "                    'n_estimators': [50, 100, 300, 600],\n",
    "                    'max_depth': [3, 6, 10, 30],\n",
    "                    'min_samples_split': [2, 4, 8],\n",
    "                    'min_samples_leaf': [2, 4, 8]}\n"
   ]
  },
  {
   "cell_type": "code",
   "execution_count": 14,
   "metadata": {
    "hidden": true,
    "scrolled": false
   },
   "outputs": [
    {
     "name": "stdout",
     "output_type": "stream",
     "text": [
      "LR\n",
      "RF\n",
      "AB\n",
      "EN\n",
      "SVC\n",
      "SGD\n",
      "kNN\n",
      "GPC\n",
      "DT\n",
      "GB\n",
      "time: 4d 2h 44min 57s\n"
     ]
    }
   ],
   "source": [
    "df_brute = run_tune_alg(dict_alg, dict_param, X_train, X_test, y_train, y_test)"
   ]
  },
  {
   "cell_type": "code",
   "execution_count": 15,
   "metadata": {
    "hidden": true
   },
   "outputs": [
    {
     "data": {
      "text/html": [
       "<div>\n",
       "<style>\n",
       "    .dataframe thead tr:only-child th {\n",
       "        text-align: right;\n",
       "    }\n",
       "\n",
       "    .dataframe thead th {\n",
       "        text-align: left;\n",
       "    }\n",
       "\n",
       "    .dataframe tbody tr th {\n",
       "        vertical-align: top;\n",
       "    }\n",
       "</style>\n",
       "<table border=\"1\" class=\"dataframe\">\n",
       "  <thead>\n",
       "    <tr style=\"text-align: right;\">\n",
       "      <th></th>\n",
       "      <th>algorithm</th>\n",
       "      <th>TP</th>\n",
       "      <th>FP</th>\n",
       "      <th>TN</th>\n",
       "      <th>FN</th>\n",
       "      <th>MCC</th>\n",
       "    </tr>\n",
       "  </thead>\n",
       "  <tbody>\n",
       "    <tr>\n",
       "      <th>0</th>\n",
       "      <td>Logistic Regression</td>\n",
       "      <td>172</td>\n",
       "      <td>106</td>\n",
       "      <td>194</td>\n",
       "      <td>128</td>\n",
       "      <td>0.220594</td>\n",
       "    </tr>\n",
       "    <tr>\n",
       "      <th>1</th>\n",
       "      <td>Random Forest Classifier</td>\n",
       "      <td>182</td>\n",
       "      <td>102</td>\n",
       "      <td>198</td>\n",
       "      <td>118</td>\n",
       "      <td>0.267047</td>\n",
       "    </tr>\n",
       "    <tr>\n",
       "      <th>2</th>\n",
       "      <td>AdaBoost Classifier</td>\n",
       "      <td>194</td>\n",
       "      <td>124</td>\n",
       "      <td>176</td>\n",
       "      <td>106</td>\n",
       "      <td>0.233754</td>\n",
       "    </tr>\n",
       "    <tr>\n",
       "      <th>3</th>\n",
       "      <td>ElasticNet</td>\n",
       "      <td>165</td>\n",
       "      <td>124</td>\n",
       "      <td>176</td>\n",
       "      <td>135</td>\n",
       "      <td>0.136759</td>\n",
       "    </tr>\n",
       "    <tr>\n",
       "      <th>4</th>\n",
       "      <td>C-Support Vector Classification</td>\n",
       "      <td>198</td>\n",
       "      <td>112</td>\n",
       "      <td>188</td>\n",
       "      <td>102</td>\n",
       "      <td>0.286826</td>\n",
       "    </tr>\n",
       "    <tr>\n",
       "      <th>5</th>\n",
       "      <td>Stochastic Gradient Descent</td>\n",
       "      <td>254</td>\n",
       "      <td>240</td>\n",
       "      <td>60</td>\n",
       "      <td>46</td>\n",
       "      <td>0.061180</td>\n",
       "    </tr>\n",
       "    <tr>\n",
       "      <th>6</th>\n",
       "      <td>Nearest Neighbors Classification</td>\n",
       "      <td>178</td>\n",
       "      <td>38</td>\n",
       "      <td>262</td>\n",
       "      <td>122</td>\n",
       "      <td>0.486111</td>\n",
       "    </tr>\n",
       "    <tr>\n",
       "      <th>7</th>\n",
       "      <td>Gaussian Process Classification</td>\n",
       "      <td>0</td>\n",
       "      <td>0</td>\n",
       "      <td>300</td>\n",
       "      <td>300</td>\n",
       "      <td>NaN</td>\n",
       "    </tr>\n",
       "    <tr>\n",
       "      <th>8</th>\n",
       "      <td>Decision Tree Classifier</td>\n",
       "      <td>250</td>\n",
       "      <td>70</td>\n",
       "      <td>230</td>\n",
       "      <td>50</td>\n",
       "      <td>0.601338</td>\n",
       "    </tr>\n",
       "    <tr>\n",
       "      <th>9</th>\n",
       "      <td>Gradient Boosting Classifier</td>\n",
       "      <td>263</td>\n",
       "      <td>47</td>\n",
       "      <td>253</td>\n",
       "      <td>37</td>\n",
       "      <td>0.720400</td>\n",
       "    </tr>\n",
       "  </tbody>\n",
       "</table>\n",
       "</div>"
      ],
      "text/plain": [
       "                          algorithm   TP   FP   TN   FN       MCC\n",
       "0               Logistic Regression  172  106  194  128  0.220594\n",
       "1          Random Forest Classifier  182  102  198  118  0.267047\n",
       "2               AdaBoost Classifier  194  124  176  106  0.233754\n",
       "3                        ElasticNet  165  124  176  135  0.136759\n",
       "4   C-Support Vector Classification  198  112  188  102  0.286826\n",
       "5       Stochastic Gradient Descent  254  240   60   46  0.061180\n",
       "6  Nearest Neighbors Classification  178   38  262  122  0.486111\n",
       "7   Gaussian Process Classification    0    0  300  300       NaN\n",
       "8          Decision Tree Classifier  250   70  230   50  0.601338\n",
       "9      Gradient Boosting Classifier  263   47  253   37  0.720400"
      ]
     },
     "execution_count": 15,
     "metadata": {},
     "output_type": "execute_result"
    },
    {
     "name": "stdout",
     "output_type": "stream",
     "text": [
      "time: 63.9 ms\n"
     ]
    }
   ],
   "source": [
    "df_brute"
   ]
  },
  {
   "cell_type": "markdown",
   "metadata": {
    "hidden": true
   },
   "source": [
    "results: Best around 0.72, but the runtime was over 4 days (nearly 99 hours)!"
   ]
  },
  {
   "cell_type": "markdown",
   "metadata": {
    "heading_collapsed": true
   },
   "source": [
    "# Univariant Feature selection (without tuning)"
   ]
  },
  {
   "cell_type": "markdown",
   "metadata": {
    "hidden": true
   },
   "source": [
    "Univariate feature selection works by selecting the best features based on univariate statistical tests. It can be seen as a preprocessing step to an estimator.\n",
    "\n",
    "The number of \"good\" features needs to be preselected. In this example, 10% (or 50 features out of 500) is chosen."
   ]
  },
  {
   "cell_type": "code",
   "execution_count": 16,
   "metadata": {
    "hidden": true
   },
   "outputs": [
    {
     "name": "stdout",
     "output_type": "stream",
     "text": [
      "time: 69.8 ms\n"
     ]
    }
   ],
   "source": [
    "select = SelectKBest(chi2, k=50)\n",
    "select.fit(X_train, y_train)\n",
    "X_train_select = select.transform(X_train)\n",
    "X_test_select = select.transform(X_test)"
   ]
  },
  {
   "cell_type": "code",
   "execution_count": 17,
   "metadata": {
    "hidden": true
   },
   "outputs": [
    {
     "name": "stdout",
     "output_type": "stream",
     "text": [
      "time: 35.1 ms\n"
     ]
    }
   ],
   "source": [
    "dict_alg = {}\n",
    "dict_alg['LR'] = LogisticRegression(random_state=random_seed)\n",
    "dict_alg['RF'] = RandomForestClassifier(random_state=random_seed)\n",
    "dict_alg['AB'] = AdaBoostClassifier(random_state=random_seed)\n",
    "dict_alg['EN'] = ElasticNet(random_state=random_seed)\n",
    "dict_alg['SVC'] = SVC(random_state=random_seed) # rbf kernel is default\n",
    "dict_alg['SGD'] = SGDClassifier(random_state=random_seed)\n",
    "dict_alg['kNN'] = KNeighborsClassifier()\n",
    "dict_alg['GPC'] = GaussianProcessClassifier(random_state=random_seed)\n",
    "dict_alg['DT'] = DecisionTreeClassifier(random_state=random_seed)\n",
    "dict_alg['GB'] = GradientBoostingClassifier(random_state=random_seed)"
   ]
  },
  {
   "cell_type": "code",
   "execution_count": 18,
   "metadata": {
    "hidden": true
   },
   "outputs": [
    {
     "name": "stdout",
     "output_type": "stream",
     "text": [
      "time: 6.28 s\n"
     ]
    }
   ],
   "source": [
    "df_univariant = run_alg(dict_alg, X_train_select, X_test_select, y_train, y_test)"
   ]
  },
  {
   "cell_type": "code",
   "execution_count": 19,
   "metadata": {
    "hidden": true
   },
   "outputs": [
    {
     "data": {
      "text/html": [
       "<div>\n",
       "<style>\n",
       "    .dataframe thead tr:only-child th {\n",
       "        text-align: right;\n",
       "    }\n",
       "\n",
       "    .dataframe thead th {\n",
       "        text-align: left;\n",
       "    }\n",
       "\n",
       "    .dataframe tbody tr th {\n",
       "        vertical-align: top;\n",
       "    }\n",
       "</style>\n",
       "<table border=\"1\" class=\"dataframe\">\n",
       "  <thead>\n",
       "    <tr style=\"text-align: right;\">\n",
       "      <th></th>\n",
       "      <th>algorithm</th>\n",
       "      <th>TP</th>\n",
       "      <th>FP</th>\n",
       "      <th>TN</th>\n",
       "      <th>FN</th>\n",
       "      <th>MCC</th>\n",
       "    </tr>\n",
       "  </thead>\n",
       "  <tbody>\n",
       "    <tr>\n",
       "      <th>0</th>\n",
       "      <td>Logistic Regression</td>\n",
       "      <td>158</td>\n",
       "      <td>123</td>\n",
       "      <td>177</td>\n",
       "      <td>142</td>\n",
       "      <td>0.116901</td>\n",
       "    </tr>\n",
       "    <tr>\n",
       "      <th>1</th>\n",
       "      <td>Random Forest Classifier</td>\n",
       "      <td>200</td>\n",
       "      <td>45</td>\n",
       "      <td>255</td>\n",
       "      <td>100</td>\n",
       "      <td>0.525575</td>\n",
       "    </tr>\n",
       "    <tr>\n",
       "      <th>2</th>\n",
       "      <td>AdaBoost Classifier</td>\n",
       "      <td>178</td>\n",
       "      <td>129</td>\n",
       "      <td>171</td>\n",
       "      <td>122</td>\n",
       "      <td>0.163378</td>\n",
       "    </tr>\n",
       "    <tr>\n",
       "      <th>3</th>\n",
       "      <td>ElasticNet</td>\n",
       "      <td>164</td>\n",
       "      <td>121</td>\n",
       "      <td>179</td>\n",
       "      <td>136</td>\n",
       "      <td>0.143513</td>\n",
       "    </tr>\n",
       "    <tr>\n",
       "      <th>4</th>\n",
       "      <td>C-Support Vector Classification</td>\n",
       "      <td>300</td>\n",
       "      <td>300</td>\n",
       "      <td>0</td>\n",
       "      <td>0</td>\n",
       "      <td>NaN</td>\n",
       "    </tr>\n",
       "    <tr>\n",
       "      <th>5</th>\n",
       "      <td>Stochastic Gradient Descent</td>\n",
       "      <td>298</td>\n",
       "      <td>292</td>\n",
       "      <td>8</td>\n",
       "      <td>2</td>\n",
       "      <td>0.078113</td>\n",
       "    </tr>\n",
       "    <tr>\n",
       "      <th>6</th>\n",
       "      <td>Nearest Neighbors Classification</td>\n",
       "      <td>241</td>\n",
       "      <td>52</td>\n",
       "      <td>248</td>\n",
       "      <td>59</td>\n",
       "      <td>0.630172</td>\n",
       "    </tr>\n",
       "    <tr>\n",
       "      <th>7</th>\n",
       "      <td>Gaussian Process Classification</td>\n",
       "      <td>0</td>\n",
       "      <td>0</td>\n",
       "      <td>300</td>\n",
       "      <td>300</td>\n",
       "      <td>NaN</td>\n",
       "    </tr>\n",
       "    <tr>\n",
       "      <th>8</th>\n",
       "      <td>Decision Tree Classifier</td>\n",
       "      <td>237</td>\n",
       "      <td>73</td>\n",
       "      <td>227</td>\n",
       "      <td>63</td>\n",
       "      <td>0.546971</td>\n",
       "    </tr>\n",
       "    <tr>\n",
       "      <th>9</th>\n",
       "      <td>Gradient Boosting Classifier</td>\n",
       "      <td>226</td>\n",
       "      <td>69</td>\n",
       "      <td>231</td>\n",
       "      <td>74</td>\n",
       "      <td>0.523406</td>\n",
       "    </tr>\n",
       "  </tbody>\n",
       "</table>\n",
       "</div>"
      ],
      "text/plain": [
       "                          algorithm   TP   FP   TN   FN       MCC\n",
       "0               Logistic Regression  158  123  177  142  0.116901\n",
       "1          Random Forest Classifier  200   45  255  100  0.525575\n",
       "2               AdaBoost Classifier  178  129  171  122  0.163378\n",
       "3                        ElasticNet  164  121  179  136  0.143513\n",
       "4   C-Support Vector Classification  300  300    0    0       NaN\n",
       "5       Stochastic Gradient Descent  298  292    8    2  0.078113\n",
       "6  Nearest Neighbors Classification  241   52  248   59  0.630172\n",
       "7   Gaussian Process Classification    0    0  300  300       NaN\n",
       "8          Decision Tree Classifier  237   73  227   63  0.546971\n",
       "9      Gradient Boosting Classifier  226   69  231   74  0.523406"
      ]
     },
     "execution_count": 19,
     "metadata": {},
     "output_type": "execute_result"
    },
    {
     "name": "stdout",
     "output_type": "stream",
     "text": [
      "time: 61.1 ms\n"
     ]
    }
   ],
   "source": [
    "df_univariant"
   ]
  },
  {
   "cell_type": "markdown",
   "metadata": {
    "hidden": true
   },
   "source": [
    "results: Best around 0.63, with a run time of under 10 seconds."
   ]
  },
  {
   "cell_type": "markdown",
   "metadata": {
    "heading_collapsed": true
   },
   "source": [
    "# Recursive Feature Elimination (without tuning)"
   ]
  },
  {
   "cell_type": "code",
   "execution_count": 20,
   "metadata": {
    "hidden": true
   },
   "outputs": [
    {
     "name": "stdout",
     "output_type": "stream",
     "text": [
      "time: 143 ms\n"
     ]
    }
   ],
   "source": [
    "clf = ExtraTreesClassifier()\n",
    "clf = clf.fit(X_train, y_train)\n",
    "#clf.feature_importances_ "
   ]
  },
  {
   "cell_type": "code",
   "execution_count": 21,
   "metadata": {
    "hidden": true
   },
   "outputs": [
    {
     "name": "stdout",
     "output_type": "stream",
     "text": [
      "time: 58.4 ms\n"
     ]
    }
   ],
   "source": [
    "model = SelectFromModel(clf, prefit=True)\n",
    "X_train_rfe = model.transform(X_train)\n",
    "X_test_rfe = model.transform(X_test)"
   ]
  },
  {
   "cell_type": "code",
   "execution_count": 22,
   "metadata": {
    "hidden": true
   },
   "outputs": [
    {
     "name": "stdout",
     "output_type": "stream",
     "text": [
      "time: 63 ms\n"
     ]
    }
   ],
   "source": [
    "dict_alg = {}\n",
    "dict_alg['LR'] = LogisticRegression(random_state=random_seed)\n",
    "dict_alg['RF'] = RandomForestClassifier(random_state=random_seed)\n",
    "dict_alg['AB'] = AdaBoostClassifier(random_state=random_seed)\n",
    "dict_alg['EN'] = ElasticNet(random_state=random_seed)\n",
    "dict_alg['SVC'] = SVC(random_state=random_seed) # rbf kernel is default\n",
    "dict_alg['SGD'] = SGDClassifier(random_state=random_seed)\n",
    "dict_alg['kNN'] = KNeighborsClassifier()\n",
    "dict_alg['GPC'] = GaussianProcessClassifier(random_state=random_seed)\n",
    "dict_alg['DT'] = DecisionTreeClassifier(random_state=random_seed)\n",
    "dict_alg['GB'] = GradientBoostingClassifier(random_state=random_seed)"
   ]
  },
  {
   "cell_type": "code",
   "execution_count": 23,
   "metadata": {
    "hidden": true
   },
   "outputs": [
    {
     "name": "stdout",
     "output_type": "stream",
     "text": [
      "time: 12.9 s\n"
     ]
    }
   ],
   "source": [
    "df_recursive = run_alg(dict_alg, X_train_rfe, X_test_rfe, y_train, y_test)"
   ]
  },
  {
   "cell_type": "code",
   "execution_count": 24,
   "metadata": {
    "hidden": true
   },
   "outputs": [
    {
     "data": {
      "text/html": [
       "<div>\n",
       "<style>\n",
       "    .dataframe thead tr:only-child th {\n",
       "        text-align: right;\n",
       "    }\n",
       "\n",
       "    .dataframe thead th {\n",
       "        text-align: left;\n",
       "    }\n",
       "\n",
       "    .dataframe tbody tr th {\n",
       "        vertical-align: top;\n",
       "    }\n",
       "</style>\n",
       "<table border=\"1\" class=\"dataframe\">\n",
       "  <thead>\n",
       "    <tr style=\"text-align: right;\">\n",
       "      <th></th>\n",
       "      <th>algorithm</th>\n",
       "      <th>TP</th>\n",
       "      <th>FP</th>\n",
       "      <th>TN</th>\n",
       "      <th>FN</th>\n",
       "      <th>MCC</th>\n",
       "    </tr>\n",
       "  </thead>\n",
       "  <tbody>\n",
       "    <tr>\n",
       "      <th>0</th>\n",
       "      <td>Logistic Regression</td>\n",
       "      <td>159</td>\n",
       "      <td>139</td>\n",
       "      <td>161</td>\n",
       "      <td>141</td>\n",
       "      <td>0.066668</td>\n",
       "    </tr>\n",
       "    <tr>\n",
       "      <th>1</th>\n",
       "      <td>Random Forest Classifier</td>\n",
       "      <td>198</td>\n",
       "      <td>61</td>\n",
       "      <td>239</td>\n",
       "      <td>102</td>\n",
       "      <td>0.460992</td>\n",
       "    </tr>\n",
       "    <tr>\n",
       "      <th>2</th>\n",
       "      <td>AdaBoost Classifier</td>\n",
       "      <td>195</td>\n",
       "      <td>134</td>\n",
       "      <td>166</td>\n",
       "      <td>105</td>\n",
       "      <td>0.204290</td>\n",
       "    </tr>\n",
       "    <tr>\n",
       "      <th>3</th>\n",
       "      <td>ElasticNet</td>\n",
       "      <td>164</td>\n",
       "      <td>119</td>\n",
       "      <td>181</td>\n",
       "      <td>136</td>\n",
       "      <td>0.150241</td>\n",
       "    </tr>\n",
       "    <tr>\n",
       "      <th>4</th>\n",
       "      <td>C-Support Vector Classification</td>\n",
       "      <td>298</td>\n",
       "      <td>294</td>\n",
       "      <td>6</td>\n",
       "      <td>2</td>\n",
       "      <td>0.058124</td>\n",
       "    </tr>\n",
       "    <tr>\n",
       "      <th>5</th>\n",
       "      <td>Stochastic Gradient Descent</td>\n",
       "      <td>287</td>\n",
       "      <td>276</td>\n",
       "      <td>24</td>\n",
       "      <td>13</td>\n",
       "      <td>0.076215</td>\n",
       "    </tr>\n",
       "    <tr>\n",
       "      <th>6</th>\n",
       "      <td>Nearest Neighbors Classification</td>\n",
       "      <td>244</td>\n",
       "      <td>62</td>\n",
       "      <td>238</td>\n",
       "      <td>56</td>\n",
       "      <td>0.606788</td>\n",
       "    </tr>\n",
       "    <tr>\n",
       "      <th>7</th>\n",
       "      <td>Gaussian Process Classification</td>\n",
       "      <td>0</td>\n",
       "      <td>0</td>\n",
       "      <td>300</td>\n",
       "      <td>300</td>\n",
       "      <td>NaN</td>\n",
       "    </tr>\n",
       "    <tr>\n",
       "      <th>8</th>\n",
       "      <td>Decision Tree Classifier</td>\n",
       "      <td>237</td>\n",
       "      <td>73</td>\n",
       "      <td>227</td>\n",
       "      <td>63</td>\n",
       "      <td>0.546971</td>\n",
       "    </tr>\n",
       "    <tr>\n",
       "      <th>9</th>\n",
       "      <td>Gradient Boosting Classifier</td>\n",
       "      <td>235</td>\n",
       "      <td>71</td>\n",
       "      <td>229</td>\n",
       "      <td>65</td>\n",
       "      <td>0.546776</td>\n",
       "    </tr>\n",
       "  </tbody>\n",
       "</table>\n",
       "</div>"
      ],
      "text/plain": [
       "                          algorithm   TP   FP   TN   FN       MCC\n",
       "0               Logistic Regression  159  139  161  141  0.066668\n",
       "1          Random Forest Classifier  198   61  239  102  0.460992\n",
       "2               AdaBoost Classifier  195  134  166  105  0.204290\n",
       "3                        ElasticNet  164  119  181  136  0.150241\n",
       "4   C-Support Vector Classification  298  294    6    2  0.058124\n",
       "5       Stochastic Gradient Descent  287  276   24   13  0.076215\n",
       "6  Nearest Neighbors Classification  244   62  238   56  0.606788\n",
       "7   Gaussian Process Classification    0    0  300  300       NaN\n",
       "8          Decision Tree Classifier  237   73  227   63  0.546971\n",
       "9      Gradient Boosting Classifier  235   71  229   65  0.546776"
      ]
     },
     "execution_count": 24,
     "metadata": {},
     "output_type": "execute_result"
    },
    {
     "name": "stdout",
     "output_type": "stream",
     "text": [
      "time: 47.2 ms\n"
     ]
    }
   ],
   "source": [
    "df_recursive"
   ]
  },
  {
   "cell_type": "markdown",
   "metadata": {
    "hidden": true
   },
   "source": [
    "results: Best around 0.61, with a run time of under 15 seconds."
   ]
  },
  {
   "cell_type": "markdown",
   "metadata": {
    "heading_collapsed": true
   },
   "source": [
    "# Dimensionality Reduction with Principal component analysis (PCA) (without tuning)"
   ]
  },
  {
   "cell_type": "code",
   "execution_count": 25,
   "metadata": {
    "hidden": true
   },
   "outputs": [
    {
     "name": "stdout",
     "output_type": "stream",
     "text": [
      "time: 216 ms\n"
     ]
    }
   ],
   "source": [
    "pca = PCA(n_components=50)\n",
    "pca.fit(X_train)\n",
    "X_train_pca = pca.transform(X_train)\n",
    "X_test_pca = pca.transform(X_test)"
   ]
  },
  {
   "cell_type": "code",
   "execution_count": 26,
   "metadata": {
    "hidden": true
   },
   "outputs": [
    {
     "name": "stdout",
     "output_type": "stream",
     "text": [
      "time: 38.5 ms\n"
     ]
    }
   ],
   "source": [
    "dict_alg = {}\n",
    "dict_alg['LR'] = LogisticRegression(random_state=random_seed)\n",
    "dict_alg['RF'] = RandomForestClassifier(random_state=random_seed)\n",
    "dict_alg['AB'] = AdaBoostClassifier(random_state=random_seed)\n",
    "dict_alg['EN'] = ElasticNet(random_state=random_seed)\n",
    "dict_alg['SVC'] = SVC(random_state=random_seed) # rbf kernel is default\n",
    "dict_alg['SGD'] = SGDClassifier(random_state=random_seed)\n",
    "dict_alg['kNN'] = KNeighborsClassifier()\n",
    "dict_alg['GPC'] = GaussianProcessClassifier(random_state=random_seed)\n",
    "dict_alg['DT'] = DecisionTreeClassifier(random_state=random_seed)\n",
    "dict_alg['GB'] = GradientBoostingClassifier(random_state=random_seed)"
   ]
  },
  {
   "cell_type": "code",
   "execution_count": 27,
   "metadata": {
    "hidden": true
   },
   "outputs": [
    {
     "name": "stdout",
     "output_type": "stream",
     "text": [
      "time: 7.16 s\n"
     ]
    }
   ],
   "source": [
    "df_pca = run_alg(dict_alg, X_train_pca, X_test_pca, y_train, y_test)"
   ]
  },
  {
   "cell_type": "code",
   "execution_count": 28,
   "metadata": {
    "hidden": true
   },
   "outputs": [
    {
     "data": {
      "text/html": [
       "<div>\n",
       "<style>\n",
       "    .dataframe thead tr:only-child th {\n",
       "        text-align: right;\n",
       "    }\n",
       "\n",
       "    .dataframe thead th {\n",
       "        text-align: left;\n",
       "    }\n",
       "\n",
       "    .dataframe tbody tr th {\n",
       "        vertical-align: top;\n",
       "    }\n",
       "</style>\n",
       "<table border=\"1\" class=\"dataframe\">\n",
       "  <thead>\n",
       "    <tr style=\"text-align: right;\">\n",
       "      <th></th>\n",
       "      <th>algorithm</th>\n",
       "      <th>TP</th>\n",
       "      <th>FP</th>\n",
       "      <th>TN</th>\n",
       "      <th>FN</th>\n",
       "      <th>MCC</th>\n",
       "    </tr>\n",
       "  </thead>\n",
       "  <tbody>\n",
       "    <tr>\n",
       "      <th>0</th>\n",
       "      <td>Logistic Regression</td>\n",
       "      <td>170</td>\n",
       "      <td>120</td>\n",
       "      <td>180</td>\n",
       "      <td>130</td>\n",
       "      <td>0.166759</td>\n",
       "    </tr>\n",
       "    <tr>\n",
       "      <th>1</th>\n",
       "      <td>Random Forest Classifier</td>\n",
       "      <td>170</td>\n",
       "      <td>88</td>\n",
       "      <td>212</td>\n",
       "      <td>130</td>\n",
       "      <td>0.276052</td>\n",
       "    </tr>\n",
       "    <tr>\n",
       "      <th>2</th>\n",
       "      <td>AdaBoost Classifier</td>\n",
       "      <td>179</td>\n",
       "      <td>130</td>\n",
       "      <td>170</td>\n",
       "      <td>121</td>\n",
       "      <td>0.163407</td>\n",
       "    </tr>\n",
       "    <tr>\n",
       "      <th>3</th>\n",
       "      <td>ElasticNet</td>\n",
       "      <td>181</td>\n",
       "      <td>119</td>\n",
       "      <td>181</td>\n",
       "      <td>119</td>\n",
       "      <td>0.206667</td>\n",
       "    </tr>\n",
       "    <tr>\n",
       "      <th>4</th>\n",
       "      <td>C-Support Vector Classification</td>\n",
       "      <td>300</td>\n",
       "      <td>300</td>\n",
       "      <td>0</td>\n",
       "      <td>0</td>\n",
       "      <td>NaN</td>\n",
       "    </tr>\n",
       "    <tr>\n",
       "      <th>5</th>\n",
       "      <td>Stochastic Gradient Descent</td>\n",
       "      <td>162</td>\n",
       "      <td>131</td>\n",
       "      <td>169</td>\n",
       "      <td>138</td>\n",
       "      <td>0.103361</td>\n",
       "    </tr>\n",
       "    <tr>\n",
       "      <th>6</th>\n",
       "      <td>Nearest Neighbors Classification</td>\n",
       "      <td>239</td>\n",
       "      <td>73</td>\n",
       "      <td>227</td>\n",
       "      <td>61</td>\n",
       "      <td>0.553777</td>\n",
       "    </tr>\n",
       "    <tr>\n",
       "      <th>7</th>\n",
       "      <td>Gaussian Process Classification</td>\n",
       "      <td>0</td>\n",
       "      <td>0</td>\n",
       "      <td>300</td>\n",
       "      <td>300</td>\n",
       "      <td>NaN</td>\n",
       "    </tr>\n",
       "    <tr>\n",
       "      <th>8</th>\n",
       "      <td>Decision Tree Classifier</td>\n",
       "      <td>226</td>\n",
       "      <td>84</td>\n",
       "      <td>216</td>\n",
       "      <td>74</td>\n",
       "      <td>0.473597</td>\n",
       "    </tr>\n",
       "    <tr>\n",
       "      <th>9</th>\n",
       "      <td>Gradient Boosting Classifier</td>\n",
       "      <td>222</td>\n",
       "      <td>63</td>\n",
       "      <td>237</td>\n",
       "      <td>78</td>\n",
       "      <td>0.530664</td>\n",
       "    </tr>\n",
       "  </tbody>\n",
       "</table>\n",
       "</div>"
      ],
      "text/plain": [
       "                          algorithm   TP   FP   TN   FN       MCC\n",
       "0               Logistic Regression  170  120  180  130  0.166759\n",
       "1          Random Forest Classifier  170   88  212  130  0.276052\n",
       "2               AdaBoost Classifier  179  130  170  121  0.163407\n",
       "3                        ElasticNet  181  119  181  119  0.206667\n",
       "4   C-Support Vector Classification  300  300    0    0       NaN\n",
       "5       Stochastic Gradient Descent  162  131  169  138  0.103361\n",
       "6  Nearest Neighbors Classification  239   73  227   61  0.553777\n",
       "7   Gaussian Process Classification    0    0  300  300       NaN\n",
       "8          Decision Tree Classifier  226   84  216   74  0.473597\n",
       "9      Gradient Boosting Classifier  222   63  237   78  0.530664"
      ]
     },
     "execution_count": 28,
     "metadata": {},
     "output_type": "execute_result"
    },
    {
     "name": "stdout",
     "output_type": "stream",
     "text": [
      "time: 50.8 ms\n"
     ]
    }
   ],
   "source": [
    "df_pca"
   ]
  },
  {
   "cell_type": "markdown",
   "metadata": {
    "hidden": true
   },
   "source": [
    "results: Best around 0.55, with a run time of under 10 seconds."
   ]
  },
  {
   "cell_type": "markdown",
   "metadata": {
    "heading_collapsed": true
   },
   "source": [
    "# Selecting important features based on algorithm (without tuning)"
   ]
  },
  {
   "cell_type": "code",
   "execution_count": 29,
   "metadata": {
    "hidden": true
   },
   "outputs": [
    {
     "data": {
      "text/plain": [
       "RandomForestClassifier(bootstrap=True, class_weight=None, criterion='gini',\n",
       "            max_depth=None, max_features='auto', max_leaf_nodes=None,\n",
       "            min_impurity_decrease=0.0, min_impurity_split=None,\n",
       "            min_samples_leaf=1, min_samples_split=2,\n",
       "            min_weight_fraction_leaf=0.0, n_estimators=10, n_jobs=1,\n",
       "            oob_score=False, random_state=None, verbose=0,\n",
       "            warm_start=False)"
      ]
     },
     "execution_count": 29,
     "metadata": {},
     "output_type": "execute_result"
    },
    {
     "name": "stdout",
     "output_type": "stream",
     "text": [
      "time: 297 ms\n"
     ]
    }
   ],
   "source": [
    "model = RandomForestClassifier()\n",
    "model.fit(X_train, y_train)\n",
    "#model.feature_importances_"
   ]
  },
  {
   "cell_type": "code",
   "execution_count": 30,
   "metadata": {
    "hidden": true
   },
   "outputs": [
    {
     "data": {
      "image/png": "[encoded data removed]",
      "text/plain": [
       "<matplotlib.figure.Figure at 0x7f4709dc11d0>"
      ]
     },
     "metadata": {},
     "output_type": "display_data"
    },
    {
     "name": "stdout",
     "output_type": "stream",
     "text": [
      "time: 1.07 s\n"
     ]
    }
   ],
   "source": [
    "plt.hist(model.feature_importances_, bins=20); "
   ]
  },
  {
   "cell_type": "markdown",
   "metadata": {
    "hidden": true
   },
   "source": [
    "Looks like features with feature importance <= 0.0025(approx.) are the bulk. So let's exclude those."
   ]
  },
  {
   "cell_type": "code",
   "execution_count": 31,
   "metadata": {
    "hidden": true
   },
   "outputs": [
    {
     "name": "stdout",
     "output_type": "stream",
     "text": [
      "time: 595 ms\n"
     ]
    }
   ],
   "source": [
    "li_feat_use = [i for i in range(len(model.feature_importances_)) if model.feature_importances_[i] > 0.0025]\n",
    "X_train_rffi = df_train[li_feat_use]\n",
    "X_test_rffi = df_test[li_feat_use]"
   ]
  },
  {
   "cell_type": "code",
   "execution_count": 32,
   "metadata": {
    "hidden": true
   },
   "outputs": [
    {
     "name": "stdout",
     "output_type": "stream",
     "text": [
      "time: 43.2 ms\n"
     ]
    }
   ],
   "source": [
    "dict_alg = {}\n",
    "dict_alg['LR'] = LogisticRegression(random_state=random_seed)\n",
    "dict_alg['RF'] = RandomForestClassifier(random_state=random_seed)\n",
    "dict_alg['AB'] = AdaBoostClassifier(random_state=random_seed)\n",
    "dict_alg['EN'] = ElasticNet(random_state=random_seed)\n",
    "dict_alg['SVC'] = SVC(random_state=random_seed) # rbf kernel is default\n",
    "dict_alg['SGD'] = SGDClassifier(random_state=random_seed)\n",
    "dict_alg['kNN'] = KNeighborsClassifier()\n",
    "dict_alg['GPC'] = GaussianProcessClassifier(random_state=random_seed)\n",
    "dict_alg['DT'] = DecisionTreeClassifier(random_state=random_seed)\n",
    "dict_alg['GB'] = GradientBoostingClassifier(random_state=random_seed)"
   ]
  },
  {
   "cell_type": "code",
   "execution_count": 33,
   "metadata": {
    "hidden": true
   },
   "outputs": [
    {
     "name": "stdout",
     "output_type": "stream",
     "text": [
      "time: 8.24 s\n"
     ]
    }
   ],
   "source": [
    "df_feat_imp = run_alg(dict_alg, X_train_rffi, X_test_rffi, y_train, y_test)"
   ]
  },
  {
   "cell_type": "code",
   "execution_count": 34,
   "metadata": {
    "hidden": true
   },
   "outputs": [
    {
     "data": {
      "text/html": [
       "<div>\n",
       "<style>\n",
       "    .dataframe thead tr:only-child th {\n",
       "        text-align: right;\n",
       "    }\n",
       "\n",
       "    .dataframe thead th {\n",
       "        text-align: left;\n",
       "    }\n",
       "\n",
       "    .dataframe tbody tr th {\n",
       "        vertical-align: top;\n",
       "    }\n",
       "</style>\n",
       "<table border=\"1\" class=\"dataframe\">\n",
       "  <thead>\n",
       "    <tr style=\"text-align: right;\">\n",
       "      <th></th>\n",
       "      <th>algorithm</th>\n",
       "      <th>TP</th>\n",
       "      <th>FP</th>\n",
       "      <th>TN</th>\n",
       "      <th>FN</th>\n",
       "      <th>MCC</th>\n",
       "    </tr>\n",
       "  </thead>\n",
       "  <tbody>\n",
       "    <tr>\n",
       "      <th>0</th>\n",
       "      <td>Logistic Regression</td>\n",
       "      <td>175</td>\n",
       "      <td>117</td>\n",
       "      <td>183</td>\n",
       "      <td>125</td>\n",
       "      <td>0.193402</td>\n",
       "    </tr>\n",
       "    <tr>\n",
       "      <th>1</th>\n",
       "      <td>Random Forest Classifier</td>\n",
       "      <td>195</td>\n",
       "      <td>58</td>\n",
       "      <td>242</td>\n",
       "      <td>105</td>\n",
       "      <td>0.462376</td>\n",
       "    </tr>\n",
       "    <tr>\n",
       "      <th>2</th>\n",
       "      <td>AdaBoost Classifier</td>\n",
       "      <td>187</td>\n",
       "      <td>111</td>\n",
       "      <td>189</td>\n",
       "      <td>113</td>\n",
       "      <td>0.253339</td>\n",
       "    </tr>\n",
       "    <tr>\n",
       "      <th>3</th>\n",
       "      <td>ElasticNet</td>\n",
       "      <td>175</td>\n",
       "      <td>121</td>\n",
       "      <td>179</td>\n",
       "      <td>125</td>\n",
       "      <td>0.180016</td>\n",
       "    </tr>\n",
       "    <tr>\n",
       "      <th>4</th>\n",
       "      <td>C-Support Vector Classification</td>\n",
       "      <td>299</td>\n",
       "      <td>300</td>\n",
       "      <td>0</td>\n",
       "      <td>1</td>\n",
       "      <td>-0.040859</td>\n",
       "    </tr>\n",
       "    <tr>\n",
       "      <th>5</th>\n",
       "      <td>Stochastic Gradient Descent</td>\n",
       "      <td>273</td>\n",
       "      <td>252</td>\n",
       "      <td>48</td>\n",
       "      <td>27</td>\n",
       "      <td>0.105830</td>\n",
       "    </tr>\n",
       "    <tr>\n",
       "      <th>6</th>\n",
       "      <td>Nearest Neighbors Classification</td>\n",
       "      <td>245</td>\n",
       "      <td>64</td>\n",
       "      <td>236</td>\n",
       "      <td>55</td>\n",
       "      <td>0.603605</td>\n",
       "    </tr>\n",
       "    <tr>\n",
       "      <th>7</th>\n",
       "      <td>Gaussian Process Classification</td>\n",
       "      <td>0</td>\n",
       "      <td>0</td>\n",
       "      <td>300</td>\n",
       "      <td>300</td>\n",
       "      <td>NaN</td>\n",
       "    </tr>\n",
       "    <tr>\n",
       "      <th>8</th>\n",
       "      <td>Decision Tree Classifier</td>\n",
       "      <td>239</td>\n",
       "      <td>70</td>\n",
       "      <td>230</td>\n",
       "      <td>61</td>\n",
       "      <td>0.563587</td>\n",
       "    </tr>\n",
       "    <tr>\n",
       "      <th>9</th>\n",
       "      <td>Gradient Boosting Classifier</td>\n",
       "      <td>223</td>\n",
       "      <td>73</td>\n",
       "      <td>227</td>\n",
       "      <td>77</td>\n",
       "      <td>0.500044</td>\n",
       "    </tr>\n",
       "  </tbody>\n",
       "</table>\n",
       "</div>"
      ],
      "text/plain": [
       "                          algorithm   TP   FP   TN   FN       MCC\n",
       "0               Logistic Regression  175  117  183  125  0.193402\n",
       "1          Random Forest Classifier  195   58  242  105  0.462376\n",
       "2               AdaBoost Classifier  187  111  189  113  0.253339\n",
       "3                        ElasticNet  175  121  179  125  0.180016\n",
       "4   C-Support Vector Classification  299  300    0    1 -0.040859\n",
       "5       Stochastic Gradient Descent  273  252   48   27  0.105830\n",
       "6  Nearest Neighbors Classification  245   64  236   55  0.603605\n",
       "7   Gaussian Process Classification    0    0  300  300       NaN\n",
       "8          Decision Tree Classifier  239   70  230   61  0.563587\n",
       "9      Gradient Boosting Classifier  223   73  227   77  0.500044"
      ]
     },
     "execution_count": 34,
     "metadata": {},
     "output_type": "execute_result"
    },
    {
     "name": "stdout",
     "output_type": "stream",
     "text": [
      "time: 50.2 ms\n"
     ]
    }
   ],
   "source": [
    "df_feat_imp"
   ]
  },
  {
   "cell_type": "markdown",
   "metadata": {
    "hidden": true
   },
   "source": [
    "results: Best around 0.60, with a run time of around 10 seconds."
   ]
  },
  {
   "cell_type": "markdown",
   "metadata": {
    "heading_collapsed": true
   },
   "source": [
    "# reference results (without tuning)"
   ]
  },
  {
   "cell_type": "markdown",
   "metadata": {
    "heading_collapsed": true,
    "hidden": true
   },
   "source": [
    "## secret sauce\n",
    "runtime: approx: 1 min. 45 sec."
   ]
  },
  {
   "cell_type": "code",
   "execution_count": 35,
   "metadata": {
    "hidden": true
   },
   "outputs": [
    {
     "name": "stdout",
     "output_type": "stream",
     "text": [
      "Iteration: \t1 / 100\n",
      "Confirmed: \t0\n",
      "Tentative: \t500\n",
      "Rejected: \t0\n",
      "Iteration: \t2 / 100\n",
      "Confirmed: \t0\n",
      "Tentative: \t500\n",
      "Rejected: \t0\n",
      "Iteration: \t3 / 100\n",
      "Confirmed: \t0\n",
      "Tentative: \t500\n",
      "Rejected: \t0\n",
      "Iteration: \t4 / 100\n",
      "Confirmed: \t0\n",
      "Tentative: \t500\n",
      "Rejected: \t0\n",
      "Iteration: \t5 / 100\n",
      "Confirmed: \t0\n",
      "Tentative: \t500\n",
      "Rejected: \t0\n",
      "Iteration: \t6 / 100\n",
      "Confirmed: \t0\n",
      "Tentative: \t500\n",
      "Rejected: \t0\n",
      "Iteration: \t7 / 100\n",
      "Confirmed: \t0\n",
      "Tentative: \t500\n",
      "Rejected: \t0\n",
      "Iteration: \t8 / 100\n",
      "Confirmed: \t0\n",
      "Tentative: \t26\n",
      "Rejected: \t474\n",
      "Iteration: \t9 / 100\n",
      "Confirmed: \t19\n",
      "Tentative: \t7\n",
      "Rejected: \t474\n",
      "Iteration: \t10 / 100\n",
      "Confirmed: \t19\n",
      "Tentative: \t7\n",
      "Rejected: \t474\n",
      "Iteration: \t11 / 100\n",
      "Confirmed: \t19\n",
      "Tentative: \t7\n",
      "Rejected: \t474\n",
      "Iteration: \t12 / 100\n",
      "Confirmed: \t19\n",
      "Tentative: \t4\n",
      "Rejected: \t477\n",
      "Iteration: \t13 / 100\n",
      "Confirmed: \t19\n",
      "Tentative: \t4\n",
      "Rejected: \t477\n",
      "Iteration: \t14 / 100\n",
      "Confirmed: \t19\n",
      "Tentative: \t4\n",
      "Rejected: \t477\n",
      "Iteration: \t15 / 100\n",
      "Confirmed: \t19\n",
      "Tentative: \t4\n",
      "Rejected: \t477\n",
      "Iteration: \t16 / 100\n",
      "Confirmed: \t19\n",
      "Tentative: \t4\n",
      "Rejected: \t477\n",
      "Iteration: \t17 / 100\n",
      "Confirmed: \t19\n",
      "Tentative: \t4\n",
      "Rejected: \t477\n",
      "Iteration: \t18 / 100\n",
      "Confirmed: \t19\n",
      "Tentative: \t4\n",
      "Rejected: \t477\n",
      "Iteration: \t19 / 100\n",
      "Confirmed: \t19\n",
      "Tentative: \t4\n",
      "Rejected: \t477\n",
      "Iteration: \t20 / 100\n",
      "Confirmed: \t19\n",
      "Tentative: \t3\n",
      "Rejected: \t478\n",
      "Iteration: \t21 / 100\n",
      "Confirmed: \t19\n",
      "Tentative: \t3\n",
      "Rejected: \t478\n",
      "Iteration: \t22 / 100\n",
      "Confirmed: \t19\n",
      "Tentative: \t3\n",
      "Rejected: \t478\n",
      "Iteration: \t23 / 100\n",
      "Confirmed: \t19\n",
      "Tentative: \t3\n",
      "Rejected: \t478\n",
      "Iteration: \t24 / 100\n",
      "Confirmed: \t19\n",
      "Tentative: \t3\n",
      "Rejected: \t478\n",
      "Iteration: \t25 / 100\n",
      "Confirmed: \t19\n",
      "Tentative: \t3\n",
      "Rejected: \t478\n",
      "Iteration: \t26 / 100\n",
      "Confirmed: \t19\n",
      "Tentative: \t3\n",
      "Rejected: \t478\n",
      "Iteration: \t27 / 100\n",
      "Confirmed: \t19\n",
      "Tentative: \t3\n",
      "Rejected: \t478\n",
      "Iteration: \t28 / 100\n",
      "Confirmed: \t19\n",
      "Tentative: \t3\n",
      "Rejected: \t478\n",
      "Iteration: \t29 / 100\n",
      "Confirmed: \t19\n",
      "Tentative: \t3\n",
      "Rejected: \t478\n",
      "Iteration: \t30 / 100\n",
      "Confirmed: \t19\n",
      "Tentative: \t3\n",
      "Rejected: \t478\n",
      "Iteration: \t31 / 100\n",
      "Confirmed: \t19\n",
      "Tentative: \t3\n",
      "Rejected: \t478\n",
      "Iteration: \t32 / 100\n",
      "Confirmed: \t20\n",
      "Tentative: \t2\n",
      "Rejected: \t478\n",
      "Iteration: \t33 / 100\n",
      "Confirmed: \t20\n",
      "Tentative: \t2\n",
      "Rejected: \t478\n",
      "Iteration: \t34 / 100\n",
      "Confirmed: \t20\n",
      "Tentative: \t2\n",
      "Rejected: \t478\n",
      "Iteration: \t35 / 100\n",
      "Confirmed: \t20\n",
      "Tentative: \t2\n",
      "Rejected: \t478\n",
      "Iteration: \t36 / 100\n",
      "Confirmed: \t20\n",
      "Tentative: \t2\n",
      "Rejected: \t478\n",
      "Iteration: \t37 / 100\n",
      "Confirmed: \t21\n",
      "Tentative: \t1\n",
      "Rejected: \t478\n",
      "Iteration: \t38 / 100\n",
      "Confirmed: \t21\n",
      "Tentative: \t1\n",
      "Rejected: \t478\n",
      "Iteration: \t39 / 100\n",
      "Confirmed: \t21\n",
      "Tentative: \t1\n",
      "Rejected: \t478\n",
      "Iteration: \t40 / 100\n",
      "Confirmed: \t21\n",
      "Tentative: \t1\n",
      "Rejected: \t478\n",
      "Iteration: \t41 / 100\n",
      "Confirmed: \t21\n",
      "Tentative: \t1\n",
      "Rejected: \t478\n",
      "Iteration: \t42 / 100\n",
      "Confirmed: \t21\n",
      "Tentative: \t1\n",
      "Rejected: \t478\n",
      "Iteration: \t43 / 100\n",
      "Confirmed: \t21\n",
      "Tentative: \t1\n",
      "Rejected: \t478\n",
      "Iteration: \t44 / 100\n",
      "Confirmed: \t21\n",
      "Tentative: \t1\n",
      "Rejected: \t478\n",
      "Iteration: \t45 / 100\n",
      "Confirmed: \t21\n",
      "Tentative: \t1\n",
      "Rejected: \t478\n",
      "Iteration: \t46 / 100\n",
      "Confirmed: \t21\n",
      "Tentative: \t1\n",
      "Rejected: \t478\n",
      "Iteration: \t47 / 100\n",
      "Confirmed: \t21\n",
      "Tentative: \t1\n",
      "Rejected: \t478\n",
      "Iteration: \t48 / 100\n",
      "Confirmed: \t21\n",
      "Tentative: \t1\n",
      "Rejected: \t478\n",
      "Iteration: \t49 / 100\n",
      "Confirmed: \t21\n",
      "Tentative: \t1\n",
      "Rejected: \t478\n",
      "Iteration: \t50 / 100\n",
      "Confirmed: \t21\n",
      "Tentative: \t1\n",
      "Rejected: \t478\n",
      "Iteration: \t51 / 100\n",
      "Confirmed: \t21\n",
      "Tentative: \t1\n",
      "Rejected: \t478\n",
      "Iteration: \t52 / 100\n",
      "Confirmed: \t21\n",
      "Tentative: \t1\n",
      "Rejected: \t478\n",
      "Iteration: \t53 / 100\n",
      "Confirmed: \t21\n",
      "Tentative: \t1\n",
      "Rejected: \t478\n",
      "Iteration: \t54 / 100\n",
      "Confirmed: \t21\n",
      "Tentative: \t1\n",
      "Rejected: \t478\n",
      "Iteration: \t55 / 100\n",
      "Confirmed: \t21\n",
      "Tentative: \t1\n",
      "Rejected: \t478\n",
      "Iteration: \t56 / 100\n",
      "Confirmed: \t21\n",
      "Tentative: \t1\n",
      "Rejected: \t478\n",
      "Iteration: \t57 / 100\n",
      "Confirmed: \t21\n",
      "Tentative: \t1\n",
      "Rejected: \t478\n",
      "Iteration: \t58 / 100\n",
      "Confirmed: \t21\n",
      "Tentative: \t1\n",
      "Rejected: \t478\n",
      "Iteration: \t59 / 100\n",
      "Confirmed: \t21\n",
      "Tentative: \t1\n",
      "Rejected: \t478\n",
      "Iteration: \t60 / 100\n",
      "Confirmed: \t21\n",
      "Tentative: \t1\n",
      "Rejected: \t478\n",
      "Iteration: \t61 / 100\n",
      "Confirmed: \t21\n",
      "Tentative: \t1\n",
      "Rejected: \t478\n",
      "Iteration: \t62 / 100\n",
      "Confirmed: \t21\n",
      "Tentative: \t1\n",
      "Rejected: \t478\n",
      "Iteration: \t63 / 100\n",
      "Confirmed: \t21\n",
      "Tentative: \t1\n",
      "Rejected: \t478\n",
      "Iteration: \t64 / 100\n",
      "Confirmed: \t21\n",
      "Tentative: \t1\n",
      "Rejected: \t478\n",
      "Iteration: \t65 / 100\n",
      "Confirmed: \t21\n",
      "Tentative: \t1\n",
      "Rejected: \t478\n",
      "Iteration: \t66 / 100\n",
      "Confirmed: \t21\n",
      "Tentative: \t1\n",
      "Rejected: \t478\n",
      "Iteration: \t67 / 100\n",
      "Confirmed: \t21\n",
      "Tentative: \t1\n",
      "Rejected: \t478\n",
      "Iteration: \t68 / 100\n",
      "Confirmed: \t21\n",
      "Tentative: \t1\n",
      "Rejected: \t478\n",
      "Iteration: \t69 / 100\n",
      "Confirmed: \t21\n",
      "Tentative: \t1\n",
      "Rejected: \t478\n",
      "Iteration: \t70 / 100\n",
      "Confirmed: \t21\n",
      "Tentative: \t1\n",
      "Rejected: \t478\n",
      "Iteration: \t71 / 100\n",
      "Confirmed: \t21\n",
      "Tentative: \t1\n",
      "Rejected: \t478\n",
      "Iteration: \t72 / 100\n",
      "Confirmed: \t21\n",
      "Tentative: \t1\n",
      "Rejected: \t478\n",
      "Iteration: \t73 / 100\n",
      "Confirmed: \t21\n",
      "Tentative: \t1\n",
      "Rejected: \t478\n",
      "Iteration: \t74 / 100\n",
      "Confirmed: \t21\n",
      "Tentative: \t1\n",
      "Rejected: \t478\n",
      "Iteration: \t75 / 100\n",
      "Confirmed: \t21\n",
      "Tentative: \t1\n",
      "Rejected: \t478\n",
      "Iteration: \t76 / 100\n",
      "Confirmed: \t21\n",
      "Tentative: \t1\n",
      "Rejected: \t478\n",
      "Iteration: \t77 / 100\n",
      "Confirmed: \t21\n",
      "Tentative: \t1\n",
      "Rejected: \t478\n",
      "Iteration: \t78 / 100\n",
      "Confirmed: \t21\n",
      "Tentative: \t1\n",
      "Rejected: \t478\n",
      "Iteration: \t79 / 100\n",
      "Confirmed: \t21\n",
      "Tentative: \t1\n",
      "Rejected: \t478\n",
      "Iteration: \t80 / 100\n",
      "Confirmed: \t21\n",
      "Tentative: \t1\n",
      "Rejected: \t478\n",
      "Iteration: \t81 / 100\n",
      "Confirmed: \t21\n",
      "Tentative: \t1\n",
      "Rejected: \t478\n",
      "Iteration: \t82 / 100\n",
      "Confirmed: \t21\n",
      "Tentative: \t1\n",
      "Rejected: \t478\n",
      "Iteration: \t83 / 100\n",
      "Confirmed: \t21\n",
      "Tentative: \t1\n",
      "Rejected: \t478\n",
      "Iteration: \t84 / 100\n",
      "Confirmed: \t21\n",
      "Tentative: \t1\n",
      "Rejected: \t478\n",
      "Iteration: \t85 / 100\n",
      "Confirmed: \t21\n",
      "Tentative: \t1\n",
      "Rejected: \t478\n",
      "Iteration: \t86 / 100\n",
      "Confirmed: \t21\n",
      "Tentative: \t1\n",
      "Rejected: \t478\n",
      "Iteration: \t87 / 100\n",
      "Confirmed: \t21\n",
      "Tentative: \t1\n",
      "Rejected: \t478\n",
      "Iteration: \t88 / 100\n",
      "Confirmed: \t21\n",
      "Tentative: \t1\n",
      "Rejected: \t478\n",
      "Iteration: \t89 / 100\n",
      "Confirmed: \t21\n",
      "Tentative: \t1\n",
      "Rejected: \t478\n",
      "Iteration: \t90 / 100\n",
      "Confirmed: \t21\n",
      "Tentative: \t1\n",
      "Rejected: \t478\n",
      "Iteration: \t91 / 100\n",
      "Confirmed: \t21\n",
      "Tentative: \t1\n",
      "Rejected: \t478\n",
      "Iteration: \t92 / 100\n",
      "Confirmed: \t21\n",
      "Tentative: \t1\n",
      "Rejected: \t478\n",
      "Iteration: \t93 / 100\n",
      "Confirmed: \t21\n",
      "Tentative: \t1\n",
      "Rejected: \t478\n",
      "Iteration: \t94 / 100\n",
      "Confirmed: \t21\n",
      "Tentative: \t1\n",
      "Rejected: \t478\n",
      "Iteration: \t95 / 100\n",
      "Confirmed: \t21\n",
      "Tentative: \t1\n",
      "Rejected: \t478\n",
      "Iteration: \t96 / 100\n",
      "Confirmed: \t21\n",
      "Tentative: \t1\n",
      "Rejected: \t478\n",
      "Iteration: \t97 / 100\n",
      "Confirmed: \t21\n",
      "Tentative: \t1\n",
      "Rejected: \t478\n",
      "Iteration: \t98 / 100\n",
      "Confirmed: \t21\n",
      "Tentative: \t1\n",
      "Rejected: \t478\n",
      "Iteration: \t99 / 100\n",
      "Confirmed: \t21\n",
      "Tentative: \t1\n",
      "Rejected: \t478\n",
      "\n",
      "\n",
      "BorutaPy finished running.\n",
      "\n",
      "Iteration: \t100 / 100\n",
      "Confirmed: \t21\n",
      "Tentative: \t1\n",
      "Rejected: \t478\n"
     ]
    },
    {
     "data": {
      "text/plain": [
       "BorutasPy(alpha=0.05,\n",
       "     estimator=RandomForestClassifier(bootstrap=True, class_weight='balanced',\n",
       "            criterion='gini', max_depth=5, max_features='auto',\n",
       "            max_leaf_nodes=None, min_impurity_decrease=0.0,\n",
       "            min_impurity_split=None, min_samples_leaf=1,\n",
       "            min_samples_split=2, min_weight_fraction_leaf=0.0,\n",
       "            n_estimators=132, n_jobs=-1, oob_score=False,\n",
       "            random_state=<mtrand.RandomState object at 0x7f4728010510>,\n",
       "            verbose=0, warm_start=False),\n",
       "     max_iter=100, n_estimators='auto', perc=100,\n",
       "     random_state=<mtrand.RandomState object at 0x7f4728010510>,\n",
       "     two_step=True, verbose=2)"
      ]
     },
     "execution_count": 35,
     "metadata": {},
     "output_type": "execute_result"
    },
    {
     "name": "stdout",
     "output_type": "stream",
     "text": [
      "time: 1min 39s\n"
     ]
    }
   ],
   "source": [
    "from boruta import BorutaPy\n",
    "X = X_train.values\n",
    "y = y_train.ravel()\n",
    "rf = RandomForestClassifier(n_jobs=-1, class_weight='balanced', max_depth=5)\n",
    "feat_selector = BorutaPy(rf, n_estimators='auto', verbose=2)\n",
    "feat_selector.fit(X,y)"
   ]
  },
  {
   "cell_type": "code",
   "execution_count": 36,
   "metadata": {
    "hidden": true
   },
   "outputs": [
    {
     "name": "stdout",
     "output_type": "stream",
     "text": [
      "time: 31.4 ms\n"
     ]
    }
   ],
   "source": [
    "X_train_br = feat_selector.transform(X_train.values)\n",
    "X_test_br = feat_selector.transform(X_test.values)"
   ]
  },
  {
   "cell_type": "markdown",
   "metadata": {
    "hidden": true
   },
   "source": [
    "## you can see"
   ]
  },
  {
   "cell_type": "code",
   "execution_count": 37,
   "metadata": {
    "hidden": true
   },
   "outputs": [
    {
     "name": "stdout",
     "output_type": "stream",
     "text": [
      "time: 42.2 ms\n"
     ]
    }
   ],
   "source": [
    "dict_alg = {}\n",
    "dict_alg['LR'] = LogisticRegression(random_state=random_seed)\n",
    "dict_alg['RF'] = RandomForestClassifier(random_state=random_seed)\n",
    "dict_alg['AB'] = AdaBoostClassifier(random_state=random_seed)\n",
    "dict_alg['EN'] = ElasticNet(random_state=random_seed)\n",
    "dict_alg['SVC'] = SVC(random_state=random_seed) # rbf kernel is default\n",
    "dict_alg['SGD'] = SGDClassifier(random_state=random_seed)\n",
    "dict_alg['kNN'] = KNeighborsClassifier()\n",
    "dict_alg['GPC'] = GaussianProcessClassifier(random_state=random_seed)\n",
    "dict_alg['DT'] = DecisionTreeClassifier(random_state=random_seed)\n",
    "dict_alg['GB'] = GradientBoostingClassifier(random_state=random_seed)"
   ]
  },
  {
   "cell_type": "code",
   "execution_count": 38,
   "metadata": {
    "hidden": true
   },
   "outputs": [
    {
     "name": "stdout",
     "output_type": "stream",
     "text": [
      "time: 5.26 s\n"
     ]
    }
   ],
   "source": [
    "df_reference = run_alg(dict_alg, X_train_br, X_test_br, y_train, y_test)"
   ]
  },
  {
   "cell_type": "code",
   "execution_count": 39,
   "metadata": {
    "hidden": true
   },
   "outputs": [
    {
     "data": {
      "text/html": [
       "<div>\n",
       "<style>\n",
       "    .dataframe thead tr:only-child th {\n",
       "        text-align: right;\n",
       "    }\n",
       "\n",
       "    .dataframe thead th {\n",
       "        text-align: left;\n",
       "    }\n",
       "\n",
       "    .dataframe tbody tr th {\n",
       "        vertical-align: top;\n",
       "    }\n",
       "</style>\n",
       "<table border=\"1\" class=\"dataframe\">\n",
       "  <thead>\n",
       "    <tr style=\"text-align: right;\">\n",
       "      <th></th>\n",
       "      <th>algorithm</th>\n",
       "      <th>TP</th>\n",
       "      <th>FP</th>\n",
       "      <th>TN</th>\n",
       "      <th>FN</th>\n",
       "      <th>MCC</th>\n",
       "    </tr>\n",
       "  </thead>\n",
       "  <tbody>\n",
       "    <tr>\n",
       "      <th>0</th>\n",
       "      <td>Logistic Regression</td>\n",
       "      <td>174</td>\n",
       "      <td>118</td>\n",
       "      <td>182</td>\n",
       "      <td>126</td>\n",
       "      <td>0.186733</td>\n",
       "    </tr>\n",
       "    <tr>\n",
       "      <th>1</th>\n",
       "      <td>Random Forest Classifier</td>\n",
       "      <td>255</td>\n",
       "      <td>41</td>\n",
       "      <td>259</td>\n",
       "      <td>45</td>\n",
       "      <td>0.713397</td>\n",
       "    </tr>\n",
       "    <tr>\n",
       "      <th>2</th>\n",
       "      <td>AdaBoost Classifier</td>\n",
       "      <td>207</td>\n",
       "      <td>114</td>\n",
       "      <td>186</td>\n",
       "      <td>93</td>\n",
       "      <td>0.310762</td>\n",
       "    </tr>\n",
       "    <tr>\n",
       "      <th>3</th>\n",
       "      <td>ElasticNet</td>\n",
       "      <td>179</td>\n",
       "      <td>118</td>\n",
       "      <td>182</td>\n",
       "      <td>121</td>\n",
       "      <td>0.203344</td>\n",
       "    </tr>\n",
       "    <tr>\n",
       "      <th>4</th>\n",
       "      <td>C-Support Vector Classification</td>\n",
       "      <td>2</td>\n",
       "      <td>0</td>\n",
       "      <td>300</td>\n",
       "      <td>298</td>\n",
       "      <td>0.057831</td>\n",
       "    </tr>\n",
       "    <tr>\n",
       "      <th>5</th>\n",
       "      <td>Stochastic Gradient Descent</td>\n",
       "      <td>300</td>\n",
       "      <td>300</td>\n",
       "      <td>0</td>\n",
       "      <td>0</td>\n",
       "      <td>NaN</td>\n",
       "    </tr>\n",
       "    <tr>\n",
       "      <th>6</th>\n",
       "      <td>Nearest Neighbors Classification</td>\n",
       "      <td>270</td>\n",
       "      <td>38</td>\n",
       "      <td>262</td>\n",
       "      <td>30</td>\n",
       "      <td>0.773608</td>\n",
       "    </tr>\n",
       "    <tr>\n",
       "      <th>7</th>\n",
       "      <td>Gaussian Process Classification</td>\n",
       "      <td>4</td>\n",
       "      <td>0</td>\n",
       "      <td>300</td>\n",
       "      <td>296</td>\n",
       "      <td>0.081923</td>\n",
       "    </tr>\n",
       "    <tr>\n",
       "      <th>8</th>\n",
       "      <td>Decision Tree Classifier</td>\n",
       "      <td>256</td>\n",
       "      <td>51</td>\n",
       "      <td>249</td>\n",
       "      <td>44</td>\n",
       "      <td>0.683519</td>\n",
       "    </tr>\n",
       "    <tr>\n",
       "      <th>9</th>\n",
       "      <td>Gradient Boosting Classifier</td>\n",
       "      <td>246</td>\n",
       "      <td>53</td>\n",
       "      <td>247</td>\n",
       "      <td>54</td>\n",
       "      <td>0.643337</td>\n",
       "    </tr>\n",
       "  </tbody>\n",
       "</table>\n",
       "</div>"
      ],
      "text/plain": [
       "                          algorithm   TP   FP   TN   FN       MCC\n",
       "0               Logistic Regression  174  118  182  126  0.186733\n",
       "1          Random Forest Classifier  255   41  259   45  0.713397\n",
       "2               AdaBoost Classifier  207  114  186   93  0.310762\n",
       "3                        ElasticNet  179  118  182  121  0.203344\n",
       "4   C-Support Vector Classification    2    0  300  298  0.057831\n",
       "5       Stochastic Gradient Descent  300  300    0    0       NaN\n",
       "6  Nearest Neighbors Classification  270   38  262   30  0.773608\n",
       "7   Gaussian Process Classification    4    0  300  296  0.081923\n",
       "8          Decision Tree Classifier  256   51  249   44  0.683519\n",
       "9      Gradient Boosting Classifier  246   53  247   54  0.643337"
      ]
     },
     "execution_count": 39,
     "metadata": {},
     "output_type": "execute_result"
    },
    {
     "name": "stdout",
     "output_type": "stream",
     "text": [
      "time: 50.9 ms\n"
     ]
    }
   ],
   "source": [
    "df_reference"
   ]
  },
  {
   "cell_type": "markdown",
   "metadata": {
    "hidden": true
   },
   "source": [
    "results: Best around 0.77, with a run time of around 5 seconds."
   ]
  },
  {
   "cell_type": "markdown",
   "metadata": {},
   "source": [
    "# Summary:"
   ]
  },
  {
   "cell_type": "markdown",
   "metadata": {},
   "source": [
    "| approach | best | runner-up | time|\n",
    "| --- | --- | --- | --- | \n",
    "| naive | 0.51 | 0.50 | < 45 sec. |\n",
    "| brute force | 0.72 | 0.60 | < 99 hrs. (4 days, 3 hrs.) |\n",
    "| univ. feat. sel. | 0.63 | 0.55 | < 10 sec. |\n",
    "| rec. feat elim. | 0.61 | 0.55 | < 15 sec. |\n",
    "| dim reduction w/ PCA | 0.55 | 0.53 | < 10 sec. |\n",
    "| selecting important feat | 0.60 | 0.56 | < 10 sec.(\\*) |\n",
    "| reference results | 0.77 | 0.71 | < 5 sec.(\\*\\*) |\n",
    "\n",
    "(\\*) with manual preparation of a few minutes<br>\n",
    "(\\*\\*) with manual / machine preparation. a few minutes to include the code, approx. 100 sec. to run the machine part"
   ]
  },
  {
   "cell_type": "code",
   "execution_count": null,
   "metadata": {},
   "outputs": [],
   "source": []
  },
  {
   "cell_type": "code",
   "execution_count": null,
   "metadata": {},
   "outputs": [],
   "source": []
  }
 ],
 "metadata": {
  "kernelspec": {
   "display_name": "Python 3",
   "language": "python",
   "name": "python3"
  },
  "language_info": {
   "codemirror_mode": {
    "name": "ipython",
    "version": 3
   },
   "file_extension": ".py",
   "mimetype": "text/x-python",
   "name": "python",
   "nbconvert_exporter": "python",
   "pygments_lexer": "ipython3",
   "version": "3.7.1"
  },
  "toc": {
   "base_numbering": 1,
   "nav_menu": {},
   "number_sections": true,
   "sideBar": true,
   "skip_h1_title": false,
   "title_cell": "Table of Contents",
   "title_sidebar": "Contents",
   "toc_cell": false,
   "toc_position": {
    "height": "calc(100% - 180px)",
    "left": "10px",
    "top": "150px",
    "width": "230px"
   },
   "toc_section_display": true,
   "toc_window_display": true
  },
  "varInspector": {
   "cols": {
    "lenName": 16,
    "lenType": 16,
    "lenVar": 40
   },
   "kernels_config": {
    "python": {
     "delete_cmd_postfix": "",
     "delete_cmd_prefix": "del ",
     "library": "var_list.py",
     "varRefreshCmd": "print(var_dic_list())"
    },
    "r": {
     "delete_cmd_postfix": ") ",
     "delete_cmd_prefix": "rm(",
     "library": "var_list.r",
     "varRefreshCmd": "cat(var_dic_list()) "
    }
   },
   "types_to_exclude": [
    "module",
    "function",
    "builtin_function_or_method",
    "instance",
    "_Feature"
   ],
   "window_display": false
  }
 },
 "nbformat": 4,
 "nbformat_minor": 2
}

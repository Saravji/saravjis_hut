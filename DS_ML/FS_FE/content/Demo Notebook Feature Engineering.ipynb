{
 "cells": [
  {
   "cell_type": "markdown",
   "metadata": {},
   "source": [
    "# Demo Notebook Feature Engineering"
   ]
  },
  {
   "cell_type": "markdown",
   "metadata": {},
   "source": [
    "# Initializing"
   ]
  },
  {
   "cell_type": "markdown",
   "metadata": {
    "heading_collapsed": true
   },
   "source": [
    "## load packages and set constants"
   ]
  },
  {
   "cell_type": "code",
   "execution_count": 1,
   "metadata": {
    "hidden": true
   },
   "outputs": [],
   "source": [
    "%matplotlib inline\n",
    "%load_ext autotime\n",
    "%load_ext autoreload\n",
    "%autoreload 2\n",
    "%config IPCompleter.greedy=True\n",
    "from IPython.core.debugger import set_trace\n",
    "\n",
    "import pandas as pd\n",
    "import numpy as np\n",
    "import matplotlib.pyplot as plt\n",
    "import matplotlib.ticker as ticker\n",
    "import seaborn as sns\n",
    "import time\n",
    "import importlib\n",
    "import re\n",
    "import math\n",
    "import itertools\n",
    "import operator\n",
    "from datetime import datetime\n",
    "from sklearn.linear_model import LogisticRegression\n",
    "from sklearn.linear_model import ElasticNet\n",
    "from sklearn.linear_model import SGDClassifier\n",
    "from sklearn.svm import SVC\n",
    "from sklearn.neighbors import KNeighborsClassifier\n",
    "from sklearn.gaussian_process import GaussianProcessClassifier\n",
    "from sklearn.gaussian_process.kernels import DotProduct\n",
    "from sklearn.tree import DecisionTreeClassifier\n",
    "from sklearn.ensemble import AdaBoostClassifier\n",
    "from sklearn.ensemble import RandomForestClassifier\n",
    "from sklearn.ensemble import GradientBoostingClassifier\n",
    "from sklearn.ensemble import ExtraTreesClassifier\n",
    "from sklearn.preprocessing import StandardScaler\n",
    "from sklearn.preprocessing import MinMaxScaler\n",
    "#from sklearn.preprocessing import LabelEncoder\n",
    "#from sklearn.metrics import r2_score, mean_squared_error\n",
    "from sklearn.metrics import confusion_matrix\n",
    "from sklearn.model_selection import train_test_split\n",
    "from sklearn.model_selection import GridSearchCV\n",
    "from sklearn.feature_selection import SelectKBest\n",
    "from sklearn.feature_selection import chi2\n",
    "from sklearn.feature_selection import SelectFromModel\n",
    "from sklearn.decomposition import PCA\n",
    "\n",
    "pd.set_option(\"display.max_rows\", 101)\n",
    "pd.set_option(\"display.max_columns\", 60)\n",
    "plt.rcParams[\"figure.figsize\"] = (30, 15)\n",
    "#plt.style.use('ggplot')\n",
    "sns.set_style('whitegrid')\n",
    "\n",
    "random_seed = 999"
   ]
  },
  {
   "cell_type": "code",
   "execution_count": 2,
   "metadata": {
    "hidden": true
   },
   "outputs": [
    {
     "name": "stdout",
     "output_type": "stream",
     "text": [
      "time: 42.4 ms\n"
     ]
    }
   ],
   "source": [
    "dict_model = {}\n",
    "dict_model['LR'] = 'Logistic Regression'\n",
    "dict_model['RF'] = 'Random Forest Classifier'\n",
    "dict_model['AB'] = 'AdaBoost Classifier'\n",
    "dict_model['EN'] = 'ElasticNet'\n",
    "dict_model['SVC'] = 'C-Support Vector Classification'\n",
    "dict_model['SGD'] = 'Stochastic Gradient Descent'\n",
    "dict_model['kNN'] = 'Nearest Neighbors Classification'\n",
    "dict_model['GPC'] = 'Gaussian Process Classification'\n",
    "dict_model['DT'] = 'Decision Tree Classifier'\n",
    "dict_model['GB'] = 'Gradient Boosting Classifier'"
   ]
  },
  {
   "cell_type": "markdown",
   "metadata": {
    "heading_collapsed": true
   },
   "source": [
    "## Functions"
   ]
  },
  {
   "cell_type": "code",
   "execution_count": 3,
   "metadata": {
    "hidden": true
   },
   "outputs": [
    {
     "name": "stdout",
     "output_type": "stream",
     "text": [
      "time: 169 ms\n"
     ]
    }
   ],
   "source": [
    "def score_MCC(y_true, y_pred):\n",
    "    tn, fp, fn, tp = confusion_matrix(y_true, y_pred).ravel()\n",
    "    with np.errstate(divide='ignore',invalid='ignore'):\n",
    "        mcc = ((tp * tn) -(fp * fn)) / (math.sqrt((tp + fp) * (tp + fn) * (tn + fp) * (tn + fn)))\n",
    "    return tp, fp, tn, fn, mcc\n",
    "\n",
    "def load_madelon(local=True):\n",
    "    if local:\n",
    "        #URLS for dataset included in package\n",
    "        train_data_url='data/madelon/madelon_train.data'\n",
    "        train_label_url='data/madelon/madelon_train.labels'\n",
    "        test_data_url='data/madelon/madelon_valid.data'\n",
    "        test_label_url='data/madelon/madelon_valid.labels'\n",
    "    else:\n",
    "        # URLS for dataset via UCI\n",
    "        train_data_url='https://archive.ics.uci.edu/ml/machine-learning-databases/madelon/MADELON/madelon_train.data'\n",
    "        train_label_url='https://archive.ics.uci.edu/ml/machine-learning-databases/madelon/MADELON/madelon_train.labels'\n",
    "        test_data_url='https://archive.ics.uci.edu/ml/machine-learning-databases/madelon/MADELON/madelon_valid.data'\n",
    "        test_label_url='https://archive.ics.uci.edu/ml/machine-learning-databases/madelon/MADELON/madelon_valid.labels'\n",
    "    \n",
    "    X_data = pd.read_csv(train_data_url, sep=\" \", header=None)\n",
    "    y_data = pd.read_csv(train_label_url, sep=\" \", header=None)\n",
    "    data = X_data.iloc[:,0:500]\n",
    "    data['target'] = y_data[0]\n",
    "    X_test = pd.read_csv(test_data_url, sep=\" \", header=None)\n",
    "    y_test = pd.read_csv(test_label_url, sep=\" \", header=None)\n",
    "    test = X_test.iloc[:,0:500]\n",
    "    test['target'] = y_test[0]\n",
    "    return data, test\n",
    "\n",
    "def run_alg(dict_alg, X_train, X_test, y_train, y_test):\n",
    "    col_names = ['algorithm', 'TP', 'FP', 'TN', 'FN', 'MCC']\n",
    "    df = pd.DataFrame(columns=col_names)\n",
    "    for key in dict_alg.keys():\n",
    "        model = dict_alg[key]\n",
    "        model.fit(X_train, y_train)\n",
    "        y_pred = model.predict(X_test)\n",
    "        # handling the continuos results and forcing them to binary\n",
    "        if key in ['EN']:\n",
    "            y_pred = [1 if i >=0 else -1 for i in y_pred]\n",
    "        df = df.append(pd.DataFrame([dict(zip(col_names,[dict_model[key]] + list(score_MCC(y_test, y_pred))))]), ignore_index=True)\n",
    "    return df[col_names] # forcing right layout\n",
    "\n",
    "def run_tune_alg(dict_alg, dict_param, X_train, X_test, y_train, y_test):\n",
    "    col_names = ['algorithm', 'TP', 'FP', 'TN', 'FN', 'MCC']\n",
    "    df = pd.DataFrame(columns=col_names)\n",
    "    for key in dict_alg.keys():\n",
    "        print(key)\n",
    "        model = dict_alg[key]\n",
    "        param_grid = dict_param[key]\n",
    "        grid_search = GridSearchCV(model, param_grid=param_grid)\n",
    "        grid_search.fit(X_train, y_train)\n",
    "        y_pred = grid_search.predict(X_test)\n",
    "        if key in ['EN']:\n",
    "            y_pred = [1 if i >=0 else -1 for i in y_pred]\n",
    "        df = df.append(pd.DataFrame([dict(zip(col_names,[dict_model[key]] + list(score_MCC(y_test, y_pred))))]), ignore_index=True)\n",
    "    return df[col_names] # forcing right layout\n",
    "\n",
    "def prep_data(X, y, random_seed):\n",
    "    return train_test_split(X, y, test_size=0.33, random_state=random_seed)\n",
    "\n",
    "def prep_df(df_train, df_test):\n",
    "    X_train = df_train.iloc[:,:-1]\n",
    "    y_train = df_train.iloc[:,-1]\n",
    "    X_test = df_test.iloc[:,:-1]\n",
    "    y_test = df_test.iloc[:,-1]\n",
    "    return X_train, X_test, y_train, y_test"
   ]
  },
  {
   "cell_type": "markdown",
   "metadata": {
    "heading_collapsed": true
   },
   "source": [
    "## Loading Data Sets"
   ]
  },
  {
   "cell_type": "code",
   "execution_count": 4,
   "metadata": {
    "hidden": true
   },
   "outputs": [
    {
     "name": "stdout",
     "output_type": "stream",
     "text": [
      "time: 373 ms\n"
     ]
    }
   ],
   "source": [
    "df_train, df_test = load_madelon()"
   ]
  },
  {
   "cell_type": "code",
   "execution_count": 5,
   "metadata": {
    "hidden": true
   },
   "outputs": [
    {
     "data": {
      "text/html": [
       "<div>\n",
       "<style>\n",
       "    .dataframe thead tr:only-child th {\n",
       "        text-align: right;\n",
       "    }\n",
       "\n",
       "    .dataframe thead th {\n",
       "        text-align: left;\n",
       "    }\n",
       "\n",
       "    .dataframe tbody tr th {\n",
       "        vertical-align: top;\n",
       "    }\n",
       "</style>\n",
       "<table border=\"1\" class=\"dataframe\">\n",
       "  <thead>\n",
       "    <tr style=\"text-align: right;\">\n",
       "      <th></th>\n",
       "      <th>0</th>\n",
       "      <th>1</th>\n",
       "      <th>2</th>\n",
       "      <th>3</th>\n",
       "      <th>4</th>\n",
       "      <th>5</th>\n",
       "      <th>6</th>\n",
       "      <th>7</th>\n",
       "      <th>8</th>\n",
       "      <th>9</th>\n",
       "      <th>10</th>\n",
       "      <th>11</th>\n",
       "      <th>12</th>\n",
       "      <th>13</th>\n",
       "      <th>14</th>\n",
       "      <th>15</th>\n",
       "      <th>16</th>\n",
       "      <th>17</th>\n",
       "      <th>18</th>\n",
       "      <th>19</th>\n",
       "      <th>20</th>\n",
       "      <th>21</th>\n",
       "      <th>22</th>\n",
       "      <th>23</th>\n",
       "      <th>24</th>\n",
       "      <th>25</th>\n",
       "      <th>26</th>\n",
       "      <th>27</th>\n",
       "      <th>28</th>\n",
       "      <th>29</th>\n",
       "      <th>...</th>\n",
       "      <th>471</th>\n",
       "      <th>472</th>\n",
       "      <th>473</th>\n",
       "      <th>474</th>\n",
       "      <th>475</th>\n",
       "      <th>476</th>\n",
       "      <th>477</th>\n",
       "      <th>478</th>\n",
       "      <th>479</th>\n",
       "      <th>480</th>\n",
       "      <th>481</th>\n",
       "      <th>482</th>\n",
       "      <th>483</th>\n",
       "      <th>484</th>\n",
       "      <th>485</th>\n",
       "      <th>486</th>\n",
       "      <th>487</th>\n",
       "      <th>488</th>\n",
       "      <th>489</th>\n",
       "      <th>490</th>\n",
       "      <th>491</th>\n",
       "      <th>492</th>\n",
       "      <th>493</th>\n",
       "      <th>494</th>\n",
       "      <th>495</th>\n",
       "      <th>496</th>\n",
       "      <th>497</th>\n",
       "      <th>498</th>\n",
       "      <th>499</th>\n",
       "      <th>target</th>\n",
       "    </tr>\n",
       "  </thead>\n",
       "  <tbody>\n",
       "    <tr>\n",
       "      <th>0</th>\n",
       "      <td>485</td>\n",
       "      <td>477</td>\n",
       "      <td>537</td>\n",
       "      <td>479</td>\n",
       "      <td>452</td>\n",
       "      <td>471</td>\n",
       "      <td>491</td>\n",
       "      <td>476</td>\n",
       "      <td>475</td>\n",
       "      <td>473</td>\n",
       "      <td>455</td>\n",
       "      <td>500</td>\n",
       "      <td>456</td>\n",
       "      <td>507</td>\n",
       "      <td>478</td>\n",
       "      <td>491</td>\n",
       "      <td>447</td>\n",
       "      <td>422</td>\n",
       "      <td>480</td>\n",
       "      <td>482</td>\n",
       "      <td>515</td>\n",
       "      <td>482</td>\n",
       "      <td>464</td>\n",
       "      <td>484</td>\n",
       "      <td>477</td>\n",
       "      <td>496</td>\n",
       "      <td>509</td>\n",
       "      <td>491</td>\n",
       "      <td>459</td>\n",
       "      <td>482</td>\n",
       "      <td>...</td>\n",
       "      <td>470</td>\n",
       "      <td>515</td>\n",
       "      <td>476</td>\n",
       "      <td>467</td>\n",
       "      <td>401</td>\n",
       "      <td>485</td>\n",
       "      <td>499</td>\n",
       "      <td>495</td>\n",
       "      <td>490</td>\n",
       "      <td>508</td>\n",
       "      <td>463</td>\n",
       "      <td>487</td>\n",
       "      <td>531</td>\n",
       "      <td>515</td>\n",
       "      <td>476</td>\n",
       "      <td>482</td>\n",
       "      <td>463</td>\n",
       "      <td>467</td>\n",
       "      <td>479</td>\n",
       "      <td>477</td>\n",
       "      <td>481</td>\n",
       "      <td>477</td>\n",
       "      <td>485</td>\n",
       "      <td>511</td>\n",
       "      <td>485</td>\n",
       "      <td>481</td>\n",
       "      <td>479</td>\n",
       "      <td>475</td>\n",
       "      <td>496</td>\n",
       "      <td>-1</td>\n",
       "    </tr>\n",
       "    <tr>\n",
       "      <th>1</th>\n",
       "      <td>483</td>\n",
       "      <td>458</td>\n",
       "      <td>460</td>\n",
       "      <td>487</td>\n",
       "      <td>587</td>\n",
       "      <td>475</td>\n",
       "      <td>526</td>\n",
       "      <td>479</td>\n",
       "      <td>485</td>\n",
       "      <td>469</td>\n",
       "      <td>434</td>\n",
       "      <td>483</td>\n",
       "      <td>465</td>\n",
       "      <td>503</td>\n",
       "      <td>472</td>\n",
       "      <td>478</td>\n",
       "      <td>469</td>\n",
       "      <td>518</td>\n",
       "      <td>495</td>\n",
       "      <td>491</td>\n",
       "      <td>478</td>\n",
       "      <td>530</td>\n",
       "      <td>462</td>\n",
       "      <td>494</td>\n",
       "      <td>549</td>\n",
       "      <td>469</td>\n",
       "      <td>516</td>\n",
       "      <td>487</td>\n",
       "      <td>475</td>\n",
       "      <td>486</td>\n",
       "      <td>...</td>\n",
       "      <td>478</td>\n",
       "      <td>465</td>\n",
       "      <td>479</td>\n",
       "      <td>482</td>\n",
       "      <td>549</td>\n",
       "      <td>470</td>\n",
       "      <td>506</td>\n",
       "      <td>481</td>\n",
       "      <td>494</td>\n",
       "      <td>492</td>\n",
       "      <td>448</td>\n",
       "      <td>492</td>\n",
       "      <td>447</td>\n",
       "      <td>598</td>\n",
       "      <td>507</td>\n",
       "      <td>478</td>\n",
       "      <td>483</td>\n",
       "      <td>492</td>\n",
       "      <td>485</td>\n",
       "      <td>463</td>\n",
       "      <td>478</td>\n",
       "      <td>487</td>\n",
       "      <td>338</td>\n",
       "      <td>513</td>\n",
       "      <td>486</td>\n",
       "      <td>483</td>\n",
       "      <td>492</td>\n",
       "      <td>510</td>\n",
       "      <td>517</td>\n",
       "      <td>-1</td>\n",
       "    </tr>\n",
       "    <tr>\n",
       "      <th>2</th>\n",
       "      <td>487</td>\n",
       "      <td>542</td>\n",
       "      <td>499</td>\n",
       "      <td>468</td>\n",
       "      <td>448</td>\n",
       "      <td>471</td>\n",
       "      <td>442</td>\n",
       "      <td>478</td>\n",
       "      <td>480</td>\n",
       "      <td>477</td>\n",
       "      <td>468</td>\n",
       "      <td>497</td>\n",
       "      <td>477</td>\n",
       "      <td>491</td>\n",
       "      <td>493</td>\n",
       "      <td>502</td>\n",
       "      <td>465</td>\n",
       "      <td>567</td>\n",
       "      <td>510</td>\n",
       "      <td>475</td>\n",
       "      <td>474</td>\n",
       "      <td>483</td>\n",
       "      <td>490</td>\n",
       "      <td>492</td>\n",
       "      <td>544</td>\n",
       "      <td>482</td>\n",
       "      <td>454</td>\n",
       "      <td>496</td>\n",
       "      <td>491</td>\n",
       "      <td>495</td>\n",
       "      <td>...</td>\n",
       "      <td>481</td>\n",
       "      <td>485</td>\n",
       "      <td>478</td>\n",
       "      <td>479</td>\n",
       "      <td>454</td>\n",
       "      <td>503</td>\n",
       "      <td>501</td>\n",
       "      <td>500</td>\n",
       "      <td>484</td>\n",
       "      <td>479</td>\n",
       "      <td>470</td>\n",
       "      <td>466</td>\n",
       "      <td>529</td>\n",
       "      <td>482</td>\n",
       "      <td>486</td>\n",
       "      <td>487</td>\n",
       "      <td>480</td>\n",
       "      <td>522</td>\n",
       "      <td>481</td>\n",
       "      <td>487</td>\n",
       "      <td>481</td>\n",
       "      <td>492</td>\n",
       "      <td>650</td>\n",
       "      <td>506</td>\n",
       "      <td>501</td>\n",
       "      <td>480</td>\n",
       "      <td>489</td>\n",
       "      <td>499</td>\n",
       "      <td>498</td>\n",
       "      <td>-1</td>\n",
       "    </tr>\n",
       "    <tr>\n",
       "      <th>3</th>\n",
       "      <td>480</td>\n",
       "      <td>491</td>\n",
       "      <td>510</td>\n",
       "      <td>485</td>\n",
       "      <td>495</td>\n",
       "      <td>472</td>\n",
       "      <td>417</td>\n",
       "      <td>474</td>\n",
       "      <td>502</td>\n",
       "      <td>476</td>\n",
       "      <td>455</td>\n",
       "      <td>520</td>\n",
       "      <td>437</td>\n",
       "      <td>472</td>\n",
       "      <td>481</td>\n",
       "      <td>436</td>\n",
       "      <td>503</td>\n",
       "      <td>522</td>\n",
       "      <td>488</td>\n",
       "      <td>468</td>\n",
       "      <td>492</td>\n",
       "      <td>488</td>\n",
       "      <td>476</td>\n",
       "      <td>479</td>\n",
       "      <td>477</td>\n",
       "      <td>485</td>\n",
       "      <td>506</td>\n",
       "      <td>476</td>\n",
       "      <td>472</td>\n",
       "      <td>506</td>\n",
       "      <td>...</td>\n",
       "      <td>481</td>\n",
       "      <td>457</td>\n",
       "      <td>476</td>\n",
       "      <td>481</td>\n",
       "      <td>602</td>\n",
       "      <td>500</td>\n",
       "      <td>503</td>\n",
       "      <td>481</td>\n",
       "      <td>487</td>\n",
       "      <td>465</td>\n",
       "      <td>473</td>\n",
       "      <td>477</td>\n",
       "      <td>515</td>\n",
       "      <td>525</td>\n",
       "      <td>468</td>\n",
       "      <td>487</td>\n",
       "      <td>458</td>\n",
       "      <td>489</td>\n",
       "      <td>490</td>\n",
       "      <td>491</td>\n",
       "      <td>480</td>\n",
       "      <td>474</td>\n",
       "      <td>572</td>\n",
       "      <td>454</td>\n",
       "      <td>469</td>\n",
       "      <td>475</td>\n",
       "      <td>482</td>\n",
       "      <td>494</td>\n",
       "      <td>461</td>\n",
       "      <td>1</td>\n",
       "    </tr>\n",
       "    <tr>\n",
       "      <th>4</th>\n",
       "      <td>484</td>\n",
       "      <td>502</td>\n",
       "      <td>528</td>\n",
       "      <td>489</td>\n",
       "      <td>466</td>\n",
       "      <td>481</td>\n",
       "      <td>402</td>\n",
       "      <td>478</td>\n",
       "      <td>487</td>\n",
       "      <td>468</td>\n",
       "      <td>432</td>\n",
       "      <td>494</td>\n",
       "      <td>493</td>\n",
       "      <td>434</td>\n",
       "      <td>505</td>\n",
       "      <td>497</td>\n",
       "      <td>486</td>\n",
       "      <td>471</td>\n",
       "      <td>467</td>\n",
       "      <td>476</td>\n",
       "      <td>455</td>\n",
       "      <td>517</td>\n",
       "      <td>483</td>\n",
       "      <td>465</td>\n",
       "      <td>512</td>\n",
       "      <td>552</td>\n",
       "      <td>505</td>\n",
       "      <td>464</td>\n",
       "      <td>472</td>\n",
       "      <td>419</td>\n",
       "      <td>...</td>\n",
       "      <td>476</td>\n",
       "      <td>500</td>\n",
       "      <td>479</td>\n",
       "      <td>483</td>\n",
       "      <td>560</td>\n",
       "      <td>474</td>\n",
       "      <td>486</td>\n",
       "      <td>459</td>\n",
       "      <td>494</td>\n",
       "      <td>509</td>\n",
       "      <td>456</td>\n",
       "      <td>472</td>\n",
       "      <td>520</td>\n",
       "      <td>468</td>\n",
       "      <td>482</td>\n",
       "      <td>473</td>\n",
       "      <td>473</td>\n",
       "      <td>498</td>\n",
       "      <td>485</td>\n",
       "      <td>488</td>\n",
       "      <td>479</td>\n",
       "      <td>452</td>\n",
       "      <td>435</td>\n",
       "      <td>486</td>\n",
       "      <td>508</td>\n",
       "      <td>481</td>\n",
       "      <td>504</td>\n",
       "      <td>495</td>\n",
       "      <td>511</td>\n",
       "      <td>1</td>\n",
       "    </tr>\n",
       "  </tbody>\n",
       "</table>\n",
       "<p>5 rows × 501 columns</p>\n",
       "</div>"
      ],
      "text/plain": [
       "     0    1    2    3    4    5    6    7    8    9   10   11   12   13   14  \\\n",
       "0  485  477  537  479  452  471  491  476  475  473  455  500  456  507  478   \n",
       "1  483  458  460  487  587  475  526  479  485  469  434  483  465  503  472   \n",
       "2  487  542  499  468  448  471  442  478  480  477  468  497  477  491  493   \n",
       "3  480  491  510  485  495  472  417  474  502  476  455  520  437  472  481   \n",
       "4  484  502  528  489  466  481  402  478  487  468  432  494  493  434  505   \n",
       "\n",
       "    15   16   17   18   19   20   21   22   23   24   25   26   27   28   29  \\\n",
       "0  491  447  422  480  482  515  482  464  484  477  496  509  491  459  482   \n",
       "1  478  469  518  495  491  478  530  462  494  549  469  516  487  475  486   \n",
       "2  502  465  567  510  475  474  483  490  492  544  482  454  496  491  495   \n",
       "3  436  503  522  488  468  492  488  476  479  477  485  506  476  472  506   \n",
       "4  497  486  471  467  476  455  517  483  465  512  552  505  464  472  419   \n",
       "\n",
       "    ...    471  472  473  474  475  476  477  478  479  480  481  482  483  \\\n",
       "0   ...    470  515  476  467  401  485  499  495  490  508  463  487  531   \n",
       "1   ...    478  465  479  482  549  470  506  481  494  492  448  492  447   \n",
       "2   ...    481  485  478  479  454  503  501  500  484  479  470  466  529   \n",
       "3   ...    481  457  476  481  602  500  503  481  487  465  473  477  515   \n",
       "4   ...    476  500  479  483  560  474  486  459  494  509  456  472  520   \n",
       "\n",
       "   484  485  486  487  488  489  490  491  492  493  494  495  496  497  498  \\\n",
       "0  515  476  482  463  467  479  477  481  477  485  511  485  481  479  475   \n",
       "1  598  507  478  483  492  485  463  478  487  338  513  486  483  492  510   \n",
       "2  482  486  487  480  522  481  487  481  492  650  506  501  480  489  499   \n",
       "3  525  468  487  458  489  490  491  480  474  572  454  469  475  482  494   \n",
       "4  468  482  473  473  498  485  488  479  452  435  486  508  481  504  495   \n",
       "\n",
       "   499  target  \n",
       "0  496      -1  \n",
       "1  517      -1  \n",
       "2  498      -1  \n",
       "3  461       1  \n",
       "4  511       1  \n",
       "\n",
       "[5 rows x 501 columns]"
      ]
     },
     "execution_count": 5,
     "metadata": {},
     "output_type": "execute_result"
    },
    {
     "name": "stdout",
     "output_type": "stream",
     "text": [
      "time: 108 ms\n"
     ]
    }
   ],
   "source": [
    "df_train.head(5)"
   ]
  },
  {
   "cell_type": "code",
   "execution_count": 6,
   "metadata": {
    "hidden": true
   },
   "outputs": [
    {
     "data": {
      "text/plain": [
       "(2000, 501)"
      ]
     },
     "execution_count": 6,
     "metadata": {},
     "output_type": "execute_result"
    },
    {
     "name": "stdout",
     "output_type": "stream",
     "text": [
      "time: 134 ms\n"
     ]
    }
   ],
   "source": [
    "df_train.shape"
   ]
  },
  {
   "cell_type": "code",
   "execution_count": 7,
   "metadata": {
    "hidden": true
   },
   "outputs": [
    {
     "data": {
      "text/html": [
       "<div>\n",
       "<style>\n",
       "    .dataframe thead tr:only-child th {\n",
       "        text-align: right;\n",
       "    }\n",
       "\n",
       "    .dataframe thead th {\n",
       "        text-align: left;\n",
       "    }\n",
       "\n",
       "    .dataframe tbody tr th {\n",
       "        vertical-align: top;\n",
       "    }\n",
       "</style>\n",
       "<table border=\"1\" class=\"dataframe\">\n",
       "  <thead>\n",
       "    <tr style=\"text-align: right;\">\n",
       "      <th></th>\n",
       "      <th>0</th>\n",
       "      <th>1</th>\n",
       "      <th>2</th>\n",
       "      <th>3</th>\n",
       "      <th>4</th>\n",
       "      <th>5</th>\n",
       "      <th>6</th>\n",
       "      <th>7</th>\n",
       "      <th>8</th>\n",
       "      <th>9</th>\n",
       "      <th>10</th>\n",
       "      <th>11</th>\n",
       "      <th>12</th>\n",
       "      <th>13</th>\n",
       "      <th>14</th>\n",
       "      <th>15</th>\n",
       "      <th>16</th>\n",
       "      <th>17</th>\n",
       "      <th>18</th>\n",
       "      <th>19</th>\n",
       "      <th>20</th>\n",
       "      <th>21</th>\n",
       "      <th>22</th>\n",
       "      <th>23</th>\n",
       "      <th>24</th>\n",
       "      <th>25</th>\n",
       "      <th>26</th>\n",
       "      <th>27</th>\n",
       "      <th>28</th>\n",
       "      <th>29</th>\n",
       "      <th>...</th>\n",
       "      <th>471</th>\n",
       "      <th>472</th>\n",
       "      <th>473</th>\n",
       "      <th>474</th>\n",
       "      <th>475</th>\n",
       "      <th>476</th>\n",
       "      <th>477</th>\n",
       "      <th>478</th>\n",
       "      <th>479</th>\n",
       "      <th>480</th>\n",
       "      <th>481</th>\n",
       "      <th>482</th>\n",
       "      <th>483</th>\n",
       "      <th>484</th>\n",
       "      <th>485</th>\n",
       "      <th>486</th>\n",
       "      <th>487</th>\n",
       "      <th>488</th>\n",
       "      <th>489</th>\n",
       "      <th>490</th>\n",
       "      <th>491</th>\n",
       "      <th>492</th>\n",
       "      <th>493</th>\n",
       "      <th>494</th>\n",
       "      <th>495</th>\n",
       "      <th>496</th>\n",
       "      <th>497</th>\n",
       "      <th>498</th>\n",
       "      <th>499</th>\n",
       "      <th>target</th>\n",
       "    </tr>\n",
       "  </thead>\n",
       "  <tbody>\n",
       "    <tr>\n",
       "      <th>0</th>\n",
       "      <td>483</td>\n",
       "      <td>454</td>\n",
       "      <td>513</td>\n",
       "      <td>495</td>\n",
       "      <td>523</td>\n",
       "      <td>469</td>\n",
       "      <td>453</td>\n",
       "      <td>477</td>\n",
       "      <td>506</td>\n",
       "      <td>479</td>\n",
       "      <td>470</td>\n",
       "      <td>510</td>\n",
       "      <td>463</td>\n",
       "      <td>423</td>\n",
       "      <td>511</td>\n",
       "      <td>500</td>\n",
       "      <td>494</td>\n",
       "      <td>493</td>\n",
       "      <td>472</td>\n",
       "      <td>477</td>\n",
       "      <td>497</td>\n",
       "      <td>503</td>\n",
       "      <td>474</td>\n",
       "      <td>472</td>\n",
       "      <td>483</td>\n",
       "      <td>538</td>\n",
       "      <td>454</td>\n",
       "      <td>468</td>\n",
       "      <td>490</td>\n",
       "      <td>510</td>\n",
       "      <td>...</td>\n",
       "      <td>469</td>\n",
       "      <td>454</td>\n",
       "      <td>477</td>\n",
       "      <td>472</td>\n",
       "      <td>538</td>\n",
       "      <td>509</td>\n",
       "      <td>488</td>\n",
       "      <td>493</td>\n",
       "      <td>487</td>\n",
       "      <td>499</td>\n",
       "      <td>486</td>\n",
       "      <td>462</td>\n",
       "      <td>523</td>\n",
       "      <td>432</td>\n",
       "      <td>484</td>\n",
       "      <td>474</td>\n",
       "      <td>458</td>\n",
       "      <td>485</td>\n",
       "      <td>464</td>\n",
       "      <td>455</td>\n",
       "      <td>480</td>\n",
       "      <td>543</td>\n",
       "      <td>259</td>\n",
       "      <td>413</td>\n",
       "      <td>520</td>\n",
       "      <td>485</td>\n",
       "      <td>498</td>\n",
       "      <td>523</td>\n",
       "      <td>510</td>\n",
       "      <td>-1</td>\n",
       "    </tr>\n",
       "    <tr>\n",
       "      <th>1</th>\n",
       "      <td>485</td>\n",
       "      <td>508</td>\n",
       "      <td>493</td>\n",
       "      <td>487</td>\n",
       "      <td>478</td>\n",
       "      <td>472</td>\n",
       "      <td>504</td>\n",
       "      <td>476</td>\n",
       "      <td>479</td>\n",
       "      <td>475</td>\n",
       "      <td>533</td>\n",
       "      <td>495</td>\n",
       "      <td>427</td>\n",
       "      <td>456</td>\n",
       "      <td>482</td>\n",
       "      <td>481</td>\n",
       "      <td>471</td>\n",
       "      <td>466</td>\n",
       "      <td>476</td>\n",
       "      <td>476</td>\n",
       "      <td>485</td>\n",
       "      <td>470</td>\n",
       "      <td>490</td>\n",
       "      <td>488</td>\n",
       "      <td>504</td>\n",
       "      <td>490</td>\n",
       "      <td>483</td>\n",
       "      <td>478</td>\n",
       "      <td>491</td>\n",
       "      <td>490</td>\n",
       "      <td>...</td>\n",
       "      <td>476</td>\n",
       "      <td>439</td>\n",
       "      <td>478</td>\n",
       "      <td>481</td>\n",
       "      <td>429</td>\n",
       "      <td>481</td>\n",
       "      <td>493</td>\n",
       "      <td>501</td>\n",
       "      <td>492</td>\n",
       "      <td>480</td>\n",
       "      <td>465</td>\n",
       "      <td>474</td>\n",
       "      <td>528</td>\n",
       "      <td>472</td>\n",
       "      <td>483</td>\n",
       "      <td>472</td>\n",
       "      <td>492</td>\n",
       "      <td>469</td>\n",
       "      <td>468</td>\n",
       "      <td>486</td>\n",
       "      <td>480</td>\n",
       "      <td>535</td>\n",
       "      <td>534</td>\n",
       "      <td>514</td>\n",
       "      <td>452</td>\n",
       "      <td>484</td>\n",
       "      <td>495</td>\n",
       "      <td>548</td>\n",
       "      <td>477</td>\n",
       "      <td>-1</td>\n",
       "    </tr>\n",
       "    <tr>\n",
       "      <th>2</th>\n",
       "      <td>483</td>\n",
       "      <td>521</td>\n",
       "      <td>507</td>\n",
       "      <td>475</td>\n",
       "      <td>493</td>\n",
       "      <td>486</td>\n",
       "      <td>421</td>\n",
       "      <td>475</td>\n",
       "      <td>496</td>\n",
       "      <td>483</td>\n",
       "      <td>428</td>\n",
       "      <td>481</td>\n",
       "      <td>477</td>\n",
       "      <td>578</td>\n",
       "      <td>480</td>\n",
       "      <td>477</td>\n",
       "      <td>458</td>\n",
       "      <td>516</td>\n",
       "      <td>482</td>\n",
       "      <td>467</td>\n",
       "      <td>466</td>\n",
       "      <td>499</td>\n",
       "      <td>479</td>\n",
       "      <td>476</td>\n",
       "      <td>512</td>\n",
       "      <td>547</td>\n",
       "      <td>457</td>\n",
       "      <td>461</td>\n",
       "      <td>479</td>\n",
       "      <td>474</td>\n",
       "      <td>...</td>\n",
       "      <td>478</td>\n",
       "      <td>494</td>\n",
       "      <td>478</td>\n",
       "      <td>486</td>\n",
       "      <td>517</td>\n",
       "      <td>478</td>\n",
       "      <td>494</td>\n",
       "      <td>462</td>\n",
       "      <td>495</td>\n",
       "      <td>503</td>\n",
       "      <td>502</td>\n",
       "      <td>462</td>\n",
       "      <td>462</td>\n",
       "      <td>507</td>\n",
       "      <td>480</td>\n",
       "      <td>472</td>\n",
       "      <td>446</td>\n",
       "      <td>508</td>\n",
       "      <td>477</td>\n",
       "      <td>491</td>\n",
       "      <td>476</td>\n",
       "      <td>498</td>\n",
       "      <td>495</td>\n",
       "      <td>508</td>\n",
       "      <td>528</td>\n",
       "      <td>486</td>\n",
       "      <td>465</td>\n",
       "      <td>508</td>\n",
       "      <td>503</td>\n",
       "      <td>-1</td>\n",
       "    </tr>\n",
       "    <tr>\n",
       "      <th>3</th>\n",
       "      <td>474</td>\n",
       "      <td>504</td>\n",
       "      <td>576</td>\n",
       "      <td>480</td>\n",
       "      <td>553</td>\n",
       "      <td>483</td>\n",
       "      <td>524</td>\n",
       "      <td>478</td>\n",
       "      <td>483</td>\n",
       "      <td>483</td>\n",
       "      <td>467</td>\n",
       "      <td>547</td>\n",
       "      <td>484</td>\n",
       "      <td>430</td>\n",
       "      <td>489</td>\n",
       "      <td>492</td>\n",
       "      <td>476</td>\n",
       "      <td>481</td>\n",
       "      <td>443</td>\n",
       "      <td>486</td>\n",
       "      <td>508</td>\n",
       "      <td>492</td>\n",
       "      <td>484</td>\n",
       "      <td>468</td>\n",
       "      <td>559</td>\n",
       "      <td>465</td>\n",
       "      <td>491</td>\n",
       "      <td>503</td>\n",
       "      <td>472</td>\n",
       "      <td>485</td>\n",
       "      <td>...</td>\n",
       "      <td>481</td>\n",
       "      <td>540</td>\n",
       "      <td>477</td>\n",
       "      <td>485</td>\n",
       "      <td>386</td>\n",
       "      <td>477</td>\n",
       "      <td>469</td>\n",
       "      <td>474</td>\n",
       "      <td>484</td>\n",
       "      <td>485</td>\n",
       "      <td>506</td>\n",
       "      <td>493</td>\n",
       "      <td>465</td>\n",
       "      <td>562</td>\n",
       "      <td>478</td>\n",
       "      <td>474</td>\n",
       "      <td>498</td>\n",
       "      <td>482</td>\n",
       "      <td>481</td>\n",
       "      <td>521</td>\n",
       "      <td>475</td>\n",
       "      <td>470</td>\n",
       "      <td>463</td>\n",
       "      <td>509</td>\n",
       "      <td>525</td>\n",
       "      <td>479</td>\n",
       "      <td>467</td>\n",
       "      <td>552</td>\n",
       "      <td>517</td>\n",
       "      <td>1</td>\n",
       "    </tr>\n",
       "    <tr>\n",
       "      <th>4</th>\n",
       "      <td>495</td>\n",
       "      <td>474</td>\n",
       "      <td>523</td>\n",
       "      <td>479</td>\n",
       "      <td>495</td>\n",
       "      <td>488</td>\n",
       "      <td>485</td>\n",
       "      <td>476</td>\n",
       "      <td>497</td>\n",
       "      <td>478</td>\n",
       "      <td>510</td>\n",
       "      <td>479</td>\n",
       "      <td>514</td>\n",
       "      <td>446</td>\n",
       "      <td>470</td>\n",
       "      <td>487</td>\n",
       "      <td>480</td>\n",
       "      <td>441</td>\n",
       "      <td>467</td>\n",
       "      <td>485</td>\n",
       "      <td>474</td>\n",
       "      <td>502</td>\n",
       "      <td>492</td>\n",
       "      <td>476</td>\n",
       "      <td>460</td>\n",
       "      <td>505</td>\n",
       "      <td>481</td>\n",
       "      <td>506</td>\n",
       "      <td>469</td>\n",
       "      <td>457</td>\n",
       "      <td>...</td>\n",
       "      <td>482</td>\n",
       "      <td>487</td>\n",
       "      <td>478</td>\n",
       "      <td>471</td>\n",
       "      <td>527</td>\n",
       "      <td>519</td>\n",
       "      <td>478</td>\n",
       "      <td>520</td>\n",
       "      <td>478</td>\n",
       "      <td>470</td>\n",
       "      <td>455</td>\n",
       "      <td>500</td>\n",
       "      <td>488</td>\n",
       "      <td>480</td>\n",
       "      <td>495</td>\n",
       "      <td>481</td>\n",
       "      <td>498</td>\n",
       "      <td>495</td>\n",
       "      <td>464</td>\n",
       "      <td>510</td>\n",
       "      <td>471</td>\n",
       "      <td>522</td>\n",
       "      <td>343</td>\n",
       "      <td>509</td>\n",
       "      <td>520</td>\n",
       "      <td>475</td>\n",
       "      <td>493</td>\n",
       "      <td>506</td>\n",
       "      <td>491</td>\n",
       "      <td>-1</td>\n",
       "    </tr>\n",
       "  </tbody>\n",
       "</table>\n",
       "<p>5 rows × 501 columns</p>\n",
       "</div>"
      ],
      "text/plain": [
       "     0    1    2    3    4    5    6    7    8    9   10   11   12   13   14  \\\n",
       "0  483  454  513  495  523  469  453  477  506  479  470  510  463  423  511   \n",
       "1  485  508  493  487  478  472  504  476  479  475  533  495  427  456  482   \n",
       "2  483  521  507  475  493  486  421  475  496  483  428  481  477  578  480   \n",
       "3  474  504  576  480  553  483  524  478  483  483  467  547  484  430  489   \n",
       "4  495  474  523  479  495  488  485  476  497  478  510  479  514  446  470   \n",
       "\n",
       "    15   16   17   18   19   20   21   22   23   24   25   26   27   28   29  \\\n",
       "0  500  494  493  472  477  497  503  474  472  483  538  454  468  490  510   \n",
       "1  481  471  466  476  476  485  470  490  488  504  490  483  478  491  490   \n",
       "2  477  458  516  482  467  466  499  479  476  512  547  457  461  479  474   \n",
       "3  492  476  481  443  486  508  492  484  468  559  465  491  503  472  485   \n",
       "4  487  480  441  467  485  474  502  492  476  460  505  481  506  469  457   \n",
       "\n",
       "    ...    471  472  473  474  475  476  477  478  479  480  481  482  483  \\\n",
       "0   ...    469  454  477  472  538  509  488  493  487  499  486  462  523   \n",
       "1   ...    476  439  478  481  429  481  493  501  492  480  465  474  528   \n",
       "2   ...    478  494  478  486  517  478  494  462  495  503  502  462  462   \n",
       "3   ...    481  540  477  485  386  477  469  474  484  485  506  493  465   \n",
       "4   ...    482  487  478  471  527  519  478  520  478  470  455  500  488   \n",
       "\n",
       "   484  485  486  487  488  489  490  491  492  493  494  495  496  497  498  \\\n",
       "0  432  484  474  458  485  464  455  480  543  259  413  520  485  498  523   \n",
       "1  472  483  472  492  469  468  486  480  535  534  514  452  484  495  548   \n",
       "2  507  480  472  446  508  477  491  476  498  495  508  528  486  465  508   \n",
       "3  562  478  474  498  482  481  521  475  470  463  509  525  479  467  552   \n",
       "4  480  495  481  498  495  464  510  471  522  343  509  520  475  493  506   \n",
       "\n",
       "   499  target  \n",
       "0  510      -1  \n",
       "1  477      -1  \n",
       "2  503      -1  \n",
       "3  517       1  \n",
       "4  491      -1  \n",
       "\n",
       "[5 rows x 501 columns]"
      ]
     },
     "execution_count": 7,
     "metadata": {},
     "output_type": "execute_result"
    },
    {
     "name": "stdout",
     "output_type": "stream",
     "text": [
      "time: 104 ms\n"
     ]
    }
   ],
   "source": [
    "df_test.head(5)"
   ]
  },
  {
   "cell_type": "code",
   "execution_count": 8,
   "metadata": {
    "hidden": true
   },
   "outputs": [
    {
     "data": {
      "text/plain": [
       "(600, 501)"
      ]
     },
     "execution_count": 8,
     "metadata": {},
     "output_type": "execute_result"
    },
    {
     "name": "stdout",
     "output_type": "stream",
     "text": [
      "time: 34 ms\n"
     ]
    }
   ],
   "source": [
    "df_test.shape"
   ]
  },
  {
   "cell_type": "markdown",
   "metadata": {
    "heading_collapsed": true
   },
   "source": [
    "# Setting up stack of algorithms"
   ]
  },
  {
   "cell_type": "markdown",
   "metadata": {
    "hidden": true
   },
   "source": [
    "- Logistic Regression\n",
    "- Random Forest\n",
    "- Ada Boost\n",
    "- Elastic Net\n",
    "- SVC (rbf kernel)\n",
    "- Stochastic Gradient Descent\n",
    "- Nearest Neighbors Classification\n",
    "- Gaussian Process Classification (GPC)\n",
    "- Decision Tree\n",
    "- Gradient Boosting Classifier"
   ]
  },
  {
   "cell_type": "code",
   "execution_count": 9,
   "metadata": {
    "hidden": true
   },
   "outputs": [
    {
     "name": "stdout",
     "output_type": "stream",
     "text": [
      "time: 45.2 ms\n"
     ]
    }
   ],
   "source": [
    "dict_alg = {}\n",
    "dict_alg['LR'] = LogisticRegression(random_state=random_seed)\n",
    "dict_alg['RF'] = RandomForestClassifier(random_state=random_seed)\n",
    "dict_alg['AB'] = AdaBoostClassifier(random_state=random_seed)\n",
    "dict_alg['EN'] = ElasticNet(random_state=random_seed)\n",
    "dict_alg['SVC'] = SVC(random_state=random_seed) # rbf kernel is default\n",
    "dict_alg['SGD'] = SGDClassifier(random_state=random_seed)\n",
    "dict_alg['kNN'] = KNeighborsClassifier()\n",
    "dict_alg['GPC'] = GaussianProcessClassifier(random_state=random_seed)\n",
    "dict_alg['DT'] = DecisionTreeClassifier(random_state=random_seed)\n",
    "dict_alg['GB'] = GradientBoostingClassifier(random_state=random_seed)"
   ]
  },
  {
   "cell_type": "markdown",
   "metadata": {
    "heading_collapsed": true,
    "hidden": true
   },
   "source": [
    "## scoring via Matthews Correlation Coefficient (MCC):"
   ]
  },
  {
   "cell_type": "markdown",
   "metadata": {
    "hidden": true
   },
   "source": [
    "for more details refer https://en.wikipedia.org/wiki/Matthews_correlation_coefficient\n",
    "\n",
    "$\n",
    "MCC = \\frac{TP \\times TN – FP \\times FN}{\\sqrt{ (TP +FP) \\times (TP + FN) \\times (TN + FP) \\times (TN + FN)}}\n",
    "$"
   ]
  },
  {
   "cell_type": "markdown",
   "metadata": {
    "heading_collapsed": true,
    "hidden": true
   },
   "source": [
    "## output from each algorithm to be captured:"
   ]
  },
  {
   "cell_type": "markdown",
   "metadata": {
    "hidden": true
   },
   "source": [
    "| algorithm | TP | FP | TN | FN | MCC |\n",
    "| --- | --- | --- | --- | --- | --- |\n",
    "| Logistic Regression | | | | | |\n",
    "| Random Forest | | | | | |\n",
    "| Ada Boost | | | | | |\n",
    "| Elastic Net | | | | | |\n",
    "| SVC (rbf kernel) | | | | | |\n",
    "| Stochastic Gradient Descent | | | | | |\n",
    "| Nearest Neighbors Classification | | | | | |\n",
    "| Gaussian Process Classification (GPC) | | | | | |\n",
    "| Decision Tree | | | | | | "
   ]
  },
  {
   "cell_type": "markdown",
   "metadata": {},
   "source": [
    "# Reducing DataSet"
   ]
  },
  {
   "cell_type": "markdown",
   "metadata": {
    "heading_collapsed": true
   },
   "source": [
    "## Running Boruta"
   ]
  },
  {
   "cell_type": "code",
   "execution_count": 10,
   "metadata": {
    "hidden": true,
    "scrolled": true
   },
   "outputs": [
    {
     "name": "stdout",
     "output_type": "stream",
     "text": [
      "Iteration: 1 / 100\n",
      "Iteration: 2 / 100\n",
      "Iteration: 3 / 100\n",
      "Iteration: 4 / 100\n",
      "Iteration: 5 / 100\n",
      "Iteration: 6 / 100\n",
      "Iteration: 7 / 100\n",
      "Iteration: 8 / 100\n",
      "Iteration: 9 / 100\n",
      "Iteration: 10 / 100\n",
      "Iteration: 11 / 100\n",
      "Iteration: 12 / 100\n",
      "Iteration: 13 / 100\n",
      "Iteration: 14 / 100\n",
      "Iteration: 15 / 100\n",
      "Iteration: 16 / 100\n",
      "Iteration: 17 / 100\n",
      "Iteration: 18 / 100\n",
      "Iteration: 19 / 100\n",
      "Iteration: 20 / 100\n",
      "Iteration: 21 / 100\n",
      "Iteration: 22 / 100\n",
      "Iteration: 23 / 100\n",
      "Iteration: 24 / 100\n",
      "Iteration: 25 / 100\n",
      "Iteration: 26 / 100\n",
      "Iteration: 27 / 100\n",
      "Iteration: 28 / 100\n",
      "Iteration: 29 / 100\n",
      "Iteration: 30 / 100\n",
      "Iteration: 31 / 100\n",
      "Iteration: 32 / 100\n",
      "Iteration: 33 / 100\n",
      "Iteration: 34 / 100\n",
      "Iteration: 35 / 100\n",
      "Iteration: 36 / 100\n",
      "Iteration: 37 / 100\n",
      "Iteration: 38 / 100\n",
      "Iteration: 39 / 100\n",
      "Iteration: 40 / 100\n",
      "Iteration: 41 / 100\n",
      "Iteration: 42 / 100\n",
      "Iteration: 43 / 100\n",
      "Iteration: 44 / 100\n",
      "Iteration: 45 / 100\n",
      "Iteration: 46 / 100\n",
      "Iteration: 47 / 100\n",
      "Iteration: 48 / 100\n",
      "Iteration: 49 / 100\n",
      "Iteration: 50 / 100\n",
      "Iteration: 51 / 100\n",
      "Iteration: 52 / 100\n",
      "Iteration: 53 / 100\n",
      "Iteration: 54 / 100\n",
      "Iteration: 55 / 100\n",
      "Iteration: 56 / 100\n",
      "Iteration: 57 / 100\n",
      "Iteration: 58 / 100\n",
      "Iteration: 59 / 100\n",
      "Iteration: 60 / 100\n",
      "Iteration: 61 / 100\n",
      "Iteration: 62 / 100\n",
      "Iteration: 63 / 100\n",
      "Iteration: 64 / 100\n",
      "Iteration: 65 / 100\n",
      "Iteration: 66 / 100\n",
      "Iteration: 67 / 100\n",
      "Iteration: 68 / 100\n",
      "Iteration: 69 / 100\n",
      "Iteration: 70 / 100\n",
      "Iteration: 71 / 100\n",
      "Iteration: 72 / 100\n",
      "Iteration: 73 / 100\n",
      "Iteration: 74 / 100\n",
      "Iteration: 75 / 100\n",
      "Iteration: 76 / 100\n",
      "Iteration: 77 / 100\n",
      "Iteration: 78 / 100\n",
      "Iteration: 79 / 100\n",
      "Iteration: 80 / 100\n",
      "Iteration: 81 / 100\n",
      "Iteration: 82 / 100\n",
      "Iteration: 83 / 100\n",
      "Iteration: 84 / 100\n",
      "Iteration: 85 / 100\n",
      "Iteration: 86 / 100\n",
      "Iteration: 87 / 100\n",
      "Iteration: 88 / 100\n",
      "Iteration: 89 / 100\n",
      "Iteration: 90 / 100\n",
      "Iteration: 91 / 100\n",
      "Iteration: 92 / 100\n",
      "Iteration: 93 / 100\n",
      "Iteration: 94 / 100\n",
      "Iteration: 95 / 100\n",
      "Iteration: 96 / 100\n",
      "Iteration: 97 / 100\n",
      "Iteration: 98 / 100\n",
      "Iteration: 99 / 100\n",
      "\n",
      "\n",
      "BorutaPy finished running.\n",
      "\n",
      "Iteration: \t100 / 100\n",
      "Confirmed: \t20\n",
      "Tentative: \t1\n",
      "Rejected: \t479\n",
      "Confirmed   1: 28\n",
      "Confirmed   1: 48\n",
      "Confirmed   1: 64\n",
      "Confirmed   1: 105\n",
      "Confirmed   1: 128\n",
      "Confirmed   1: 153\n",
      "Confirmed   1: 204\n",
      "Confirmed   1: 241\n",
      "Confirmed   1: 281\n",
      "Confirmed   1: 318\n",
      "Confirmed   1: 336\n",
      "Confirmed   1: 338\n",
      "Confirmed   1: 378\n",
      "Confirmed   1: 433\n",
      "Confirmed   1: 442\n",
      "Confirmed   1: 451\n",
      "Confirmed   1: 453\n",
      "Confirmed   1: 472\n",
      "Confirmed   1: 475\n",
      "Confirmed   1: 493\n",
      "Rejected    2: 10\n",
      "Rejected    3: 349\n",
      "Rejected    4: 431\n",
      "Rejected    5: 455\n",
      "Rejected    7: 278\n",
      "Rejected    7: 334\n",
      "Rejected    7: 348\n",
      "Rejected    9: 4\n",
      "Rejected   10: 282\n",
      "Rejected   10: 417\n",
      "Rejected   12: 296\n",
      "Rejected   13: 136\n",
      "Rejected   14: 411\n",
      "Rejected   15: 481\n",
      "Rejected   16: 424\n",
      "Rejected   17: 286\n",
      "Rejected   18: 199\n",
      "Rejected   18: 410\n",
      "Rejected   20: 298\n",
      "Rejected   21: 149\n",
      "Rejected   22: 38\n",
      "Rejected   23: 184\n",
      "Rejected   24: 13\n",
      "Rejected   25: 323\n",
      "Rejected   26: 55\n",
      "Rejected   27: 211\n",
      "Rejected   28: 303\n",
      "Rejected   29: 285\n",
      "Rejected   30: 430\n",
      "Rejected   31: 377\n",
      "Rejected   32: 244\n",
      "Rejected   33: 56\n",
      "Rejected   34: 343\n",
      "Rejected   35: 363\n",
      "Rejected   36: 457\n",
      "Rejected   37: 243\n",
      "Rejected   38: 116\n",
      "Rejected   39: 119\n",
      "Rejected   40: 329\n",
      "Rejected   41: 310\n",
      "Rejected   42: 467\n",
      "Rejected   43: 317\n",
      "Rejected   44: 347\n",
      "Rejected   45: 137\n",
      "Rejected   46: 238\n",
      "Rejected   47: 147\n",
      "Rejected   48: 32\n",
      "Rejected   49: 44\n",
      "Rejected   49: 384\n",
      "Rejected   51: 180\n",
      "Rejected   52: 43\n",
      "Rejected   54: 217\n",
      "Rejected   54: 389\n",
      "Rejected   54: 478\n",
      "Rejected   56: 129\n",
      "Rejected   56: 130\n",
      "Rejected   58: 73\n",
      "Rejected   59: 370\n",
      "Rejected   60: 156\n",
      "Rejected   60: 412\n",
      "Rejected   62: 106\n",
      "Rejected   63: 494\n",
      "Rejected   64: 294\n",
      "Rejected   65: 444\n",
      "Rejected   66: 284\n",
      "Rejected   67: 259\n",
      "Rejected   67: 419\n",
      "Rejected   69: 300\n",
      "Rejected   70: 425\n",
      "Rejected   71: 374\n",
      "Rejected   72: 60\n",
      "Rejected   72: 175\n",
      "Rejected   74: 490\n",
      "Rejected   75: 131\n",
      "Rejected   76: 152\n",
      "Rejected   77: 111\n",
      "Rejected   78: 358\n",
      "Rejected   78: 463\n",
      "Rejected   80: 413\n",
      "Rejected   81: 361\n",
      "Rejected   82: 436\n",
      "Rejected   83: 277\n",
      "Rejected   84: 367\n",
      "Rejected   85: 177\n",
      "Rejected   86: 354\n",
      "Rejected   87: 46\n",
      "Rejected   88: 81\n",
      "Rejected   88: 458\n",
      "Rejected   90: 301\n",
      "Rejected   91: 251\n",
      "Rejected   92: 6\n",
      "Rejected   93: 26\n",
      "Rejected   93: 140\n",
      "Rejected   95: 306\n",
      "Rejected   96: 226\n",
      "Rejected   97: 420\n",
      "Rejected   98: 12\n",
      "Rejected   99: 264\n",
      "Rejected  100: 321\n",
      "Rejected  101: 496\n",
      "Rejected  102: 224\n",
      "Rejected  103: 171\n",
      "Rejected  104: 59\n",
      "Rejected  105: 468\n",
      "Rejected  106: 202\n",
      "Rejected  107: 319\n",
      "Rejected  107: 359\n",
      "Rejected  111: 51\n",
      "Rejected  111: 109\n",
      "Rejected  111: 245\n",
      "Rejected  111: 326\n",
      "Rejected  111: 382\n",
      "Rejected  114: 79\n",
      "Rejected  115: 77\n",
      "Rejected  116: 74\n",
      "Rejected  117: 406\n",
      "Rejected  118: 99\n",
      "Rejected  119: 5\n",
      "Rejected  120: 54\n",
      "Rejected  120: 68\n",
      "Rejected  122: 340\n",
      "Rejected  122: 397\n",
      "Rejected  124: 191\n",
      "Rejected  126: 85\n",
      "Rejected  126: 235\n",
      "Rejected  126: 287\n",
      "Rejected  128: 250\n",
      "Rejected  129: 84\n",
      "Rejected  129: 127\n",
      "Rejected  131: 18\n",
      "Rejected  132: 295\n",
      "Rejected  133: 125\n",
      "Rejected  134: 188\n",
      "Rejected  135: 42\n",
      "Rejected  135: 49\n",
      "Rejected  137: 213\n",
      "Rejected  138: 362\n",
      "Rejected  139: 408\n",
      "Rejected  140: 379\n",
      "Rejected  141: 215\n",
      "Rejected  141: 432\n",
      "Rejected  143: 448\n",
      "Rejected  144: 33\n",
      "Rejected  144: 351\n",
      "Rejected  146: 29\n",
      "Rejected  146: 279\n",
      "Rejected  148: 139\n",
      "Rejected  149: 159\n",
      "Rejected  150: 150\n",
      "Rejected  151: 104\n",
      "Rejected  152: 372\n",
      "Rejected  152: 391\n",
      "Rejected  154: 337\n",
      "Rejected  155: 271\n",
      "Rejected  156: 393\n",
      "Rejected  157: 158\n",
      "Rejected  157: 403\n",
      "Rejected  159: 209\n",
      "Rejected  159: 484\n",
      "Rejected  161: 66\n",
      "Rejected  162: 262\n",
      "Rejected  163: 386\n",
      "Rejected  164: 269\n",
      "Rejected  165: 465\n",
      "Rejected  165: 495\n",
      "Rejected  167: 164\n",
      "Rejected  168: 192\n",
      "Rejected  169: 135\n",
      "Rejected  170: 121\n",
      "Rejected  171: 221\n",
      "Rejected  172: 330\n",
      "Rejected  173: 477\n",
      "Rejected  174: 273\n",
      "Rejected  175: 308\n",
      "Rejected  175: 314\n",
      "Rejected  177: 82\n",
      "Rejected  177: 234\n",
      "Rejected  179: 246\n",
      "Rejected  180: 488\n",
      "Rejected  181: 255\n",
      "Rejected  182: 89\n",
      "Rejected  182: 454\n",
      "Rejected  184: 441\n",
      "Rejected  185: 445\n",
      "Rejected  187: 193\n",
      "Rejected  187: 270\n",
      "Rejected  187: 456\n",
      "Rejected  189: 229\n",
      "Rejected  190: 331\n",
      "Rejected  191: 356\n",
      "Rejected  192: 100\n",
      "Rejected  193: 265\n",
      "Rejected  194: 434\n",
      "Rejected  195: 200\n",
      "Rejected  196: 290\n",
      "Rejected  197: 339\n",
      "Rejected  197: 414\n",
      "Rejected  199: 346\n",
      "Rejected  199: 487\n",
      "Rejected  202: 36\n",
      "Rejected  202: 223\n",
      "Rejected  202: 352\n",
      "Rejected  204: 98\n",
      "Rejected  204: 302\n",
      "Rejected  206: 427\n",
      "Rejected  207: 25\n",
      "Rejected  208: 95\n",
      "Rejected  209: 464\n",
      "Rejected  210: 24\n",
      "Rejected  211: 114\n",
      "Rejected  211: 305\n",
      "Rejected  213: 78\n",
      "Rejected  213: 220\n",
      "Rejected  215: 83\n",
      "Rejected  216: 483\n",
      "Rejected  217: 65\n",
      "Rejected  217: 375\n",
      "Rejected  220: 144\n",
      "Rejected  220: 155\n",
      "Rejected  220: 161\n",
      "Rejected  220: 466\n",
      "Rejected  223: 172\n",
      "Rejected  224: 292\n",
      "Rejected  225: 47\n",
      "Rejected  225: 240\n",
      "Rejected  227: 383\n",
      "Rejected  228: 15\n",
      "Rejected  229: 124\n",
      "Rejected  230: 497\n",
      "Rejected  231: 443\n",
      "Rejected  232: 91\n",
      "Rejected  233: 88\n",
      "Rejected  235: 289\n",
      "Rejected  235: 365\n",
      "Rejected  235: 366\n",
      "Rejected  237: 17\n",
      "Rejected  237: 459\n",
      "Rejected  239: 206\n",
      "Rejected  240: 471\n",
      "Rejected  241: 260\n",
      "Rejected  242: 72\n",
      "Rejected  243: 52\n",
      "Rejected  243: 174\n",
      "Rejected  245: 31\n",
      "Rejected  245: 304\n",
      "Rejected  247: 409\n",
      "Rejected  248: 480\n",
      "Rejected  249: 97\n",
      "Rejected  250: 388\n",
      "Rejected  251: 45\n",
      "Rejected  251: 267\n",
      "Rejected  253: 182\n",
      "Rejected  254: 233\n",
      "Rejected  255: 201\n",
      "Rejected  256: 181\n",
      "Rejected  256: 263\n",
      "Rejected  258: 16\n",
      "Rejected  259: 163\n",
      "Rejected  259: 256\n",
      "Rejected  261: 462\n",
      "Rejected  262: 416\n",
      "Rejected  263: 11\n",
      "Rejected  263: 41\n",
      "Rejected  265: 190\n",
      "Rejected  266: 107\n",
      "Rejected  267: 103\n",
      "Rejected  268: 1\n",
      "Rejected  269: 333\n",
      "Rejected  269: 470\n",
      "Rejected  271: 27\n",
      "Rejected  271: 422\n",
      "Rejected  273: 57\n",
      "Rejected  273: 160\n",
      "Rejected  275: 313\n",
      "Rejected  276: 148\n",
      "Rejected  277: 162\n",
      "Rejected  277: 341\n",
      "Rejected  279: 75\n",
      "Rejected  280: 87\n",
      "Rejected  281: 34\n",
      "Rejected  282: 371\n",
      "Rejected  283: 257\n",
      "Rejected  283: 268\n",
      "Rejected  285: 115\n",
      "Rejected  286: 415\n",
      "Rejected  287: 117\n",
      "Rejected  288: 437\n",
      "Rejected  289: 179\n",
      "Rejected  291: 118\n",
      "Rejected  291: 134\n",
      "Rejected  291: 486\n",
      "Rejected  293: 35\n",
      "Rejected  294: 50\n",
      "Rejected  294: 61\n",
      "Rejected  297: 165\n",
      "Rejected  297: 207\n",
      "Rejected  297: 450\n",
      "Rejected  299: 381\n",
      "Rejected  300: 342\n",
      "Rejected  301: 19\n",
      "Rejected  302: 492\n",
      "Rejected  303: 212\n",
      "Rejected  304: 62\n",
      "Rejected  305: 266\n",
      "Rejected  306: 170\n",
      "Rejected  307: 438\n",
      "Rejected  308: 307\n",
      "Rejected  309: 328\n",
      "Rejected  310: 418\n",
      "Rejected  310: 440\n",
      "Rejected  312: 58\n",
      "Rejected  312: 498\n",
      "Rejected  314: 146\n",
      "Rejected  314: 275\n",
      "Rejected  316: 315\n",
      "Rejected  317: 299\n",
      "Rejected  318: 222\n",
      "Rejected  319: 369\n",
      "Rejected  320: 67\n",
      "Rejected  321: 141\n",
      "Rejected  321: 312\n",
      "Rejected  323: 110\n",
      "Rejected  323: 218\n",
      "Rejected  326: 183\n",
      "Rejected  326: 187\n",
      "Rejected  326: 236\n",
      "Rejected  329: 53\n",
      "Rejected  329: 216\n",
      "Rejected  329: 469\n",
      "Rejected  331: 196\n",
      "Rejected  332: 208\n",
      "Rejected  333: 194\n",
      "Rejected  333: 291\n",
      "Rejected  335: 449\n",
      "Rejected  336: 373\n",
      "Rejected  337: 421\n",
      "Rejected  338: 185\n",
      "Rejected  339: 231\n",
      "Rejected  340: 157\n",
      "Rejected  341: 145\n",
      "Rejected  342: 167\n",
      "Rejected  342: 225\n",
      "Rejected  344: 380\n",
      "Rejected  346: 93\n",
      "Rejected  346: 335\n",
      "Rejected  346: 344\n",
      "Rejected  346: 395\n",
      "Rejected  349: 186\n",
      "Rejected  350: 70\n",
      "Rejected  350: 460\n",
      "Rejected  352: 197\n",
      "Rejected  353: 71\n",
      "Rejected  354: 398\n",
      "Rejected  355: 151\n",
      "Rejected  356: 368\n",
      "Rejected  357: 272\n",
      "Rejected  358: 499\n",
      "Rejected  359: 37\n",
      "Rejected  359: 253\n",
      "Rejected  361: 297\n",
      "Rejected  361: 309\n",
      "Rejected  363: 2\n",
      "Rejected  364: 320\n",
      "Rejected  364: 435\n",
      "Rejected  366: 446\n",
      "Rejected  367: 92\n",
      "Rejected  368: 126\n",
      "Rejected  368: 401\n",
      "Rejected  370: 94\n",
      "Rejected  370: 360\n",
      "Rejected  372: 258\n",
      "Rejected  373: 396\n",
      "Rejected  374: 489\n",
      "Rejected  375: 123\n",
      "Rejected  376: 210\n",
      "Rejected  376: 316\n",
      "Rejected  378: 21\n",
      "Rejected  379: 214\n",
      "Rejected  379: 428\n",
      "Rejected  381: 355\n",
      "Rejected  382: 176\n",
      "Rejected  383: 138\n",
      "Rejected  383: 232\n",
      "Rejected  385: 461\n",
      "Rejected  386: 23\n",
      "Rejected  386: 324\n",
      "Rejected  388: 447\n",
      "Rejected  389: 327\n",
      "Rejected  390: 195\n",
      "Rejected  390: 429\n",
      "Rejected  392: 426\n",
      "Rejected  393: 169\n",
      "Rejected  394: 242\n",
      "Rejected  395: 230\n",
      "Rejected  395: 400\n",
      "Rejected  397: 8\n",
      "Rejected  398: 102\n",
      "Rejected  399: 30\n",
      "Rejected  400: 80\n",
      "Rejected  401: 178\n",
      "Rejected  402: 203\n",
      "Rejected  403: 76\n",
      "Rejected  404: 353\n",
      "Rejected  405: 14\n",
      "Rejected  405: 108\n",
      "Rejected  407: 249\n",
      "Rejected  408: 293\n",
      "Rejected  408: 311\n",
      "Rejected  410: 452\n",
      "Rejected  411: 132\n",
      "Rejected  411: 248\n",
      "Rejected  413: 405\n",
      "Rejected  413: 479\n",
      "Rejected  415: 345\n",
      "Rejected  416: 474\n",
      "Rejected  417: 239\n",
      "Rejected  419: 261\n",
      "Rejected  419: 322\n",
      "Rejected  419: 350\n",
      "Rejected  419: 439\n",
      "Rejected  422: 482\n",
      "Rejected  423: 69\n",
      "Rejected  424: 385\n",
      "Rejected  425: 40\n",
      "Rejected  425: 476\n",
      "Rejected  427: 122\n",
      "Rejected  428: 86\n",
      "Rejected  429: 112\n",
      "Rejected  430: 189\n",
      "Rejected  431: 63\n",
      "Rejected  431: 254\n",
      "Rejected  433: 205\n",
      "Rejected  434: 274\n",
      "Rejected  435: 113\n",
      "Rejected  436: 96\n",
      "Rejected  437: 101\n",
      "Rejected  438: 0\n",
      "Rejected  438: 142\n",
      "Rejected  440: 485\n",
      "Rejected  441: 133\n",
      "Rejected  442: 20\n",
      "Rejected  443: 143\n",
      "Rejected  444: 22\n",
      "Rejected  444: 376\n",
      "Rejected  446: 9\n",
      "Rejected  447: 364\n",
      "Rejected  448: 392\n",
      "Rejected  449: 3\n",
      "Rejected  449: 491\n",
      "Rejected  451: 399\n",
      "Rejected  452: 394\n",
      "Rejected  453: 407\n",
      "Rejected  454: 219\n",
      "Rejected  455: 252\n",
      "Rejected  456: 120\n",
      "Rejected  456: 237\n",
      "Rejected  458: 390\n",
      "Rejected  459: 283\n",
      "Rejected  460: 173\n",
      "Rejected  461: 332\n",
      "Rejected  462: 198\n",
      "Rejected  463: 325\n",
      "Rejected  464: 227\n",
      "Rejected  465: 473\n",
      "Rejected  466: 247\n",
      "Rejected  467: 168\n",
      "Rejected  468: 154\n",
      "Rejected  469: 357\n",
      "Rejected  470: 7\n",
      "Rejected  470: 280\n",
      "Rejected  472: 166\n",
      "Rejected  473: 288\n",
      "Rejected  474: 39\n",
      "Rejected  475: 387\n",
      "Rejected  476: 402\n",
      "Rejected  477: 423\n",
      "Rejected  478: 276\n",
      "Rejected  479: 90\n",
      "Rejected  479: 404\n",
      "Rejected  481: 228\n",
      "time: 1min 38s\n"
     ]
    }
   ],
   "source": [
    "from boruta import BorutaPy\n",
    "\n",
    "def borutas_rank(li_dum_feat, ranking_):\n",
    "    dict_rank = dict(zip(li_dum_feat, ranking_))\n",
    "    ranked = sorted(dict_rank.items(), key=operator.itemgetter(1))\n",
    "    for i in range(len(ranked)):\n",
    "        if ranked[i][1] == 1:\n",
    "            print('Confirmed {:>3}: {}'.format(ranked[i][1], ranked[i][0]))\n",
    "        else:\n",
    "            print('Rejected {:>4}: {}'.format(ranked[i][1], ranked[i][0]))\n",
    "\n",
    "X_train = df_train.iloc[:,:-1].values\n",
    "y_train = df_train.iloc[:,-1].ravel()\n",
    "X_test = df_test.iloc[:,:-1].values\n",
    "y_test = df_test.iloc[:,-1].ravel()\n",
    "li_dum_feat = list(df_train.iloc[:,:-1].columns.values)\n",
    "rf = RandomForestClassifier(n_jobs=-1, class_weight='balanced', max_depth=5)\n",
    "feat_selector = BorutaPy(rf, n_estimators='auto', verbose=1, random_state=1)\n",
    "feat_selector.fit(X_train,y_train)\n",
    "X_train = feat_selector.transform(X_train)\n",
    "X_test = feat_selector.transform(X_test)\n",
    "borutas_rank(li_dum_feat, feat_selector.ranking_)"
   ]
  },
  {
   "cell_type": "markdown",
   "metadata": {
    "heading_collapsed": true
   },
   "source": [
    "## Closer look at the selection\n",
    "Comment: I have evaluated the burota package used above in-depth. Although I agree with the principle idea in the paper (but I think it does not constitute a universally viable and usable solution), I take issue with the ACTUAL implementation: The packages presented, apart from having un-fixed bugs and poor maintenance do not follow the algorithm and logic laid out in the academic paper. The result is an approximation that does a more or less close guess of what the actual paper asks for.<br>\n",
    "**So let's have a closer look:**"
   ]
  },
  {
   "cell_type": "code",
   "execution_count": 11,
   "metadata": {
    "hidden": true
   },
   "outputs": [
    {
     "name": "stdout",
     "output_type": "stream",
     "text": [
      "time: 39.2 ms\n"
     ]
    }
   ],
   "source": [
    "def borutas_confirmed(li_dum_feat, ranking_):\n",
    "    dict_rank = dict(zip(li_dum_feat, ranking_))\n",
    "    ranked = sorted(dict_rank.items(), key=operator.itemgetter(1))\n",
    "    result = []\n",
    "    for i in range(len(ranked)):\n",
    "        if ranked[i][1] == 1:\n",
    "            result += [ranked[i][0]]\n",
    "    return result\n",
    "li_keep = borutas_confirmed(li_dum_feat, feat_selector.ranking_)\n",
    "li_target = ['target']\n"
   ]
  },
  {
   "cell_type": "code",
   "execution_count": 12,
   "metadata": {
    "hidden": true
   },
   "outputs": [
    {
     "name": "stdout",
     "output_type": "stream",
     "text": [
      "time: 65.9 ms\n"
     ]
    }
   ],
   "source": [
    "df_explore = df_train[li_keep + li_target].copy()"
   ]
  },
  {
   "cell_type": "code",
   "execution_count": 13,
   "metadata": {
    "hidden": true
   },
   "outputs": [
    {
     "data": {
      "image/png": "[encoded data removed]",
      "text/plain": [
       "<matplotlib.figure.Figure at 0x7fe841f30828>"
      ]
     },
     "metadata": {},
     "output_type": "display_data"
    },
    {
     "name": "stdout",
     "output_type": "stream",
     "text": [
      "time: 677 ms\n"
     ]
    }
   ],
   "source": [
    "f, ax = plt.subplots(figsize=(10, 8))\n",
    "corr = df_explore.corr()\n",
    "sns.heatmap(corr, mask=np.zeros_like(corr, dtype=np.bool), cmap=sns.diverging_palette(220, 10, as_cmap=True),\n",
    "            square=True, ax=ax);"
   ]
  },
  {
   "cell_type": "markdown",
   "metadata": {
    "hidden": true
   },
   "source": [
    "Yes, the odd one that does not belong is feature 204. But knowing a bit about this dataset, I know that there are 20 features in it that carry signal. So let's run a baseline model fit for a start."
   ]
  },
  {
   "cell_type": "markdown",
   "metadata": {
    "heading_collapsed": true
   },
   "source": [
    "## Setting Baseline"
   ]
  },
  {
   "cell_type": "code",
   "execution_count": 14,
   "metadata": {
    "hidden": true
   },
   "outputs": [
    {
     "name": "stdout",
     "output_type": "stream",
     "text": [
      "time: 5.8 s\n"
     ]
    }
   ],
   "source": [
    "df_base = run_alg(dict_alg, X_train, X_test, y_train, y_test)"
   ]
  },
  {
   "cell_type": "code",
   "execution_count": 15,
   "metadata": {
    "hidden": true
   },
   "outputs": [
    {
     "data": {
      "text/html": [
       "<div>\n",
       "<style>\n",
       "    .dataframe thead tr:only-child th {\n",
       "        text-align: right;\n",
       "    }\n",
       "\n",
       "    .dataframe thead th {\n",
       "        text-align: left;\n",
       "    }\n",
       "\n",
       "    .dataframe tbody tr th {\n",
       "        vertical-align: top;\n",
       "    }\n",
       "</style>\n",
       "<table border=\"1\" class=\"dataframe\">\n",
       "  <thead>\n",
       "    <tr style=\"text-align: right;\">\n",
       "      <th></th>\n",
       "      <th>algorithm</th>\n",
       "      <th>TP</th>\n",
       "      <th>FP</th>\n",
       "      <th>TN</th>\n",
       "      <th>FN</th>\n",
       "      <th>MCC</th>\n",
       "    </tr>\n",
       "  </thead>\n",
       "  <tbody>\n",
       "    <tr>\n",
       "      <th>0</th>\n",
       "      <td>Logistic Regression</td>\n",
       "      <td>175</td>\n",
       "      <td>119</td>\n",
       "      <td>181</td>\n",
       "      <td>125</td>\n",
       "      <td>0.186704</td>\n",
       "    </tr>\n",
       "    <tr>\n",
       "      <th>1</th>\n",
       "      <td>Random Forest Classifier</td>\n",
       "      <td>264</td>\n",
       "      <td>36</td>\n",
       "      <td>264</td>\n",
       "      <td>36</td>\n",
       "      <td>0.760000</td>\n",
       "    </tr>\n",
       "    <tr>\n",
       "      <th>2</th>\n",
       "      <td>AdaBoost Classifier</td>\n",
       "      <td>198</td>\n",
       "      <td>123</td>\n",
       "      <td>177</td>\n",
       "      <td>102</td>\n",
       "      <td>0.250615</td>\n",
       "    </tr>\n",
       "    <tr>\n",
       "      <th>3</th>\n",
       "      <td>ElasticNet</td>\n",
       "      <td>179</td>\n",
       "      <td>118</td>\n",
       "      <td>182</td>\n",
       "      <td>121</td>\n",
       "      <td>0.203344</td>\n",
       "    </tr>\n",
       "    <tr>\n",
       "      <th>4</th>\n",
       "      <td>C-Support Vector Classification</td>\n",
       "      <td>2</td>\n",
       "      <td>0</td>\n",
       "      <td>300</td>\n",
       "      <td>298</td>\n",
       "      <td>0.057831</td>\n",
       "    </tr>\n",
       "    <tr>\n",
       "      <th>5</th>\n",
       "      <td>Stochastic Gradient Descent</td>\n",
       "      <td>300</td>\n",
       "      <td>300</td>\n",
       "      <td>0</td>\n",
       "      <td>0</td>\n",
       "      <td>NaN</td>\n",
       "    </tr>\n",
       "    <tr>\n",
       "      <th>6</th>\n",
       "      <td>Nearest Neighbors Classification</td>\n",
       "      <td>266</td>\n",
       "      <td>37</td>\n",
       "      <td>263</td>\n",
       "      <td>34</td>\n",
       "      <td>0.763372</td>\n",
       "    </tr>\n",
       "    <tr>\n",
       "      <th>7</th>\n",
       "      <td>Gaussian Process Classification</td>\n",
       "      <td>4</td>\n",
       "      <td>0</td>\n",
       "      <td>300</td>\n",
       "      <td>296</td>\n",
       "      <td>0.081923</td>\n",
       "    </tr>\n",
       "    <tr>\n",
       "      <th>8</th>\n",
       "      <td>Decision Tree Classifier</td>\n",
       "      <td>256</td>\n",
       "      <td>55</td>\n",
       "      <td>245</td>\n",
       "      <td>44</td>\n",
       "      <td>0.670451</td>\n",
       "    </tr>\n",
       "    <tr>\n",
       "      <th>9</th>\n",
       "      <td>Gradient Boosting Classifier</td>\n",
       "      <td>248</td>\n",
       "      <td>58</td>\n",
       "      <td>242</td>\n",
       "      <td>52</td>\n",
       "      <td>0.633460</td>\n",
       "    </tr>\n",
       "  </tbody>\n",
       "</table>\n",
       "</div>"
      ],
      "text/plain": [
       "                          algorithm   TP   FP   TN   FN       MCC\n",
       "0               Logistic Regression  175  119  181  125  0.186704\n",
       "1          Random Forest Classifier  264   36  264   36  0.760000\n",
       "2               AdaBoost Classifier  198  123  177  102  0.250615\n",
       "3                        ElasticNet  179  118  182  121  0.203344\n",
       "4   C-Support Vector Classification    2    0  300  298  0.057831\n",
       "5       Stochastic Gradient Descent  300  300    0    0       NaN\n",
       "6  Nearest Neighbors Classification  266   37  263   34  0.763372\n",
       "7   Gaussian Process Classification    4    0  300  296  0.081923\n",
       "8          Decision Tree Classifier  256   55  245   44  0.670451\n",
       "9      Gradient Boosting Classifier  248   58  242   52  0.633460"
      ]
     },
     "execution_count": 15,
     "metadata": {},
     "output_type": "execute_result"
    },
    {
     "name": "stdout",
     "output_type": "stream",
     "text": [
      "time: 65.3 ms\n"
     ]
    }
   ],
   "source": [
    "df_base"
   ]
  },
  {
   "cell_type": "markdown",
   "metadata": {
    "heading_collapsed": true
   },
   "source": [
    "## Diving deeper"
   ]
  },
  {
   "cell_type": "code",
   "execution_count": 16,
   "metadata": {
    "hidden": true
   },
   "outputs": [
    {
     "name": "stdout",
     "output_type": "stream",
     "text": [
      "time: 315 ms\n"
     ]
    }
   ],
   "source": [
    "X = df_train.iloc[:,:-1]\n",
    "y = df_train.iloc[:,-1]\n",
    "model = RandomForestClassifier(random_state=random_seed)\n",
    "model.fit(X, y)\n",
    "\n",
    "dict_rank = dict(zip(li_dum_feat, model.feature_importances_))\n",
    "ranked = sorted(dict_rank.items(), key=operator.itemgetter(1))\n",
    "\n",
    "dic_top = ranked[-30:]"
   ]
  },
  {
   "cell_type": "code",
   "execution_count": 17,
   "metadata": {
    "hidden": true
   },
   "outputs": [
    {
     "data": {
      "text/plain": [
       "[(326, 0.0043743811091274702),\n",
       " (342, 0.004392572238136239),\n",
       " (278, 0.0043946488729463499),\n",
       " (45, 0.004401840213279949),\n",
       " (389, 0.0044353502928818987),\n",
       " (344, 0.0045144348635325973),\n",
       " (108, 0.0046220156420849132),\n",
       " (140, 0.0046357174533606105),\n",
       " (427, 0.0046647413335699061),\n",
       " (481, 0.0048679308986957995),\n",
       " (431, 0.005090092243996096),\n",
       " (434, 0.005594778806843251),\n",
       " (472, 0.0057183232520326656),\n",
       " (281, 0.0057307057213648229),\n",
       " (493, 0.0058081235656055078),\n",
       " (453, 0.0058391723602477562),\n",
       " (64, 0.0067001194971565937),\n",
       " (451, 0.0069999614047553714),\n",
       " (318, 0.0072034489585373358),\n",
       " (455, 0.0073330518611686383),\n",
       " (336, 0.0081585056893605512),\n",
       " (48, 0.0086445393948557034),\n",
       " (442, 0.0092396534918066184),\n",
       " (475, 0.0093723482182482588),\n",
       " (378, 0.0094064154818299522),\n",
       " (28, 0.0098226505157841155),\n",
       " (128, 0.011334410374096575),\n",
       " (338, 0.020204571457461944),\n",
       " (105, 0.021293717052790533),\n",
       " (241, 0.022774417333280238)]"
      ]
     },
     "execution_count": 17,
     "metadata": {},
     "output_type": "execute_result"
    },
    {
     "name": "stdout",
     "output_type": "stream",
     "text": [
      "time: 36.8 ms\n"
     ]
    }
   ],
   "source": [
    "dic_top"
   ]
  },
  {
   "cell_type": "markdown",
   "metadata": {
    "hidden": true
   },
   "source": [
    "Most in here are \"old\" customers. After some back-and forth, it is clear that '455' is valuable, but was rejected by the boruta package (actually as 5th feature to be rejected).<br>\n",
    "So lets do the correlation matrix agian without 204 but with 455:"
   ]
  },
  {
   "cell_type": "code",
   "execution_count": 18,
   "metadata": {
    "hidden": true
   },
   "outputs": [
    {
     "data": {
      "image/png": "[encoded data removed]",
      "text/plain": [
       "<matplotlib.figure.Figure at 0x7fe841f30ba8>"
      ]
     },
     "metadata": {},
     "output_type": "display_data"
    },
    {
     "name": "stdout",
     "output_type": "stream",
     "text": [
      "time: 799 ms\n"
     ]
    }
   ],
   "source": [
    "li_keep.remove(204)\n",
    "li_keep += [455]\n",
    "df_explore = df_train[li_keep + li_target].copy()\n",
    "f, ax = plt.subplots(figsize=(10, 8))\n",
    "corr = df_explore.corr()\n",
    "sns.heatmap(corr, mask=np.zeros_like(corr, dtype=np.bool), cmap=sns.diverging_palette(220, 10, as_cmap=True),\n",
    "            square=True, ax=ax);"
   ]
  },
  {
   "cell_type": "code",
   "execution_count": 19,
   "metadata": {
    "hidden": true
   },
   "outputs": [
    {
     "data": {
      "image/png": "[encoded data removed]",
      "text/plain": [
       "<matplotlib.figure.Figure at 0x7fe841bcaac8>"
      ]
     },
     "metadata": {},
     "output_type": "display_data"
    },
    {
     "name": "stdout",
     "output_type": "stream",
     "text": [
      "time: 875 ms\n"
     ]
    }
   ],
   "source": [
    "li_seq = [48, 378, 451, 318, 28, 475, 241, 128, 105, 493, 453, 433, 281, 153, 472, 442, 338, 455, 64, 336, 'target']\n",
    "df_train_sml = df_train[li_seq].copy()\n",
    "df_test_sml = df_test[li_seq].copy()\n",
    "f, ax = plt.subplots(figsize=(10, 8))\n",
    "corr = df_train_sml.corr()\n",
    "sns.heatmap(corr, mask=np.zeros_like(corr, dtype=np.bool), cmap=sns.diverging_palette(220, 10, as_cmap=True),\n",
    "            square=True, ax=ax);"
   ]
  },
  {
   "cell_type": "code",
   "execution_count": 20,
   "metadata": {
    "hidden": true
   },
   "outputs": [
    {
     "name": "stdout",
     "output_type": "stream",
     "text": [
      "time: 5.66 s\n"
     ]
    }
   ],
   "source": [
    "X_train, X_test, y_train, y_test = prep_df(df_train_sml, df_test_sml)\n",
    "df_deeper = run_alg(dict_alg, X_train, X_test, y_train, y_test)"
   ]
  },
  {
   "cell_type": "code",
   "execution_count": 21,
   "metadata": {
    "hidden": true
   },
   "outputs": [
    {
     "data": {
      "text/html": [
       "<div>\n",
       "<style>\n",
       "    .dataframe thead tr:only-child th {\n",
       "        text-align: right;\n",
       "    }\n",
       "\n",
       "    .dataframe thead th {\n",
       "        text-align: left;\n",
       "    }\n",
       "\n",
       "    .dataframe tbody tr th {\n",
       "        vertical-align: top;\n",
       "    }\n",
       "</style>\n",
       "<table border=\"1\" class=\"dataframe\">\n",
       "  <thead>\n",
       "    <tr style=\"text-align: right;\">\n",
       "      <th></th>\n",
       "      <th>algorithm</th>\n",
       "      <th>TP</th>\n",
       "      <th>FP</th>\n",
       "      <th>TN</th>\n",
       "      <th>FN</th>\n",
       "      <th>MCC</th>\n",
       "    </tr>\n",
       "  </thead>\n",
       "  <tbody>\n",
       "    <tr>\n",
       "      <th>0</th>\n",
       "      <td>Logistic Regression</td>\n",
       "      <td>175</td>\n",
       "      <td>122</td>\n",
       "      <td>178</td>\n",
       "      <td>125</td>\n",
       "      <td>0.176676</td>\n",
       "    </tr>\n",
       "    <tr>\n",
       "      <th>1</th>\n",
       "      <td>Random Forest Classifier</td>\n",
       "      <td>260</td>\n",
       "      <td>36</td>\n",
       "      <td>264</td>\n",
       "      <td>40</td>\n",
       "      <td>0.746733</td>\n",
       "    </tr>\n",
       "    <tr>\n",
       "      <th>2</th>\n",
       "      <td>AdaBoost Classifier</td>\n",
       "      <td>200</td>\n",
       "      <td>103</td>\n",
       "      <td>197</td>\n",
       "      <td>100</td>\n",
       "      <td>0.323350</td>\n",
       "    </tr>\n",
       "    <tr>\n",
       "      <th>3</th>\n",
       "      <td>ElasticNet</td>\n",
       "      <td>180</td>\n",
       "      <td>119</td>\n",
       "      <td>181</td>\n",
       "      <td>120</td>\n",
       "      <td>0.203334</td>\n",
       "    </tr>\n",
       "    <tr>\n",
       "      <th>4</th>\n",
       "      <td>C-Support Vector Classification</td>\n",
       "      <td>1</td>\n",
       "      <td>0</td>\n",
       "      <td>300</td>\n",
       "      <td>299</td>\n",
       "      <td>0.040859</td>\n",
       "    </tr>\n",
       "    <tr>\n",
       "      <th>5</th>\n",
       "      <td>Stochastic Gradient Descent</td>\n",
       "      <td>229</td>\n",
       "      <td>218</td>\n",
       "      <td>82</td>\n",
       "      <td>71</td>\n",
       "      <td>0.042062</td>\n",
       "    </tr>\n",
       "    <tr>\n",
       "      <th>6</th>\n",
       "      <td>Nearest Neighbors Classification</td>\n",
       "      <td>272</td>\n",
       "      <td>34</td>\n",
       "      <td>266</td>\n",
       "      <td>28</td>\n",
       "      <td>0.793492</td>\n",
       "    </tr>\n",
       "    <tr>\n",
       "      <th>7</th>\n",
       "      <td>Gaussian Process Classification</td>\n",
       "      <td>7</td>\n",
       "      <td>0</td>\n",
       "      <td>300</td>\n",
       "      <td>293</td>\n",
       "      <td>0.108648</td>\n",
       "    </tr>\n",
       "    <tr>\n",
       "      <th>8</th>\n",
       "      <td>Decision Tree Classifier</td>\n",
       "      <td>255</td>\n",
       "      <td>58</td>\n",
       "      <td>242</td>\n",
       "      <td>45</td>\n",
       "      <td>0.657284</td>\n",
       "    </tr>\n",
       "    <tr>\n",
       "      <th>9</th>\n",
       "      <td>Gradient Boosting Classifier</td>\n",
       "      <td>245</td>\n",
       "      <td>54</td>\n",
       "      <td>246</td>\n",
       "      <td>55</td>\n",
       "      <td>0.636670</td>\n",
       "    </tr>\n",
       "  </tbody>\n",
       "</table>\n",
       "</div>"
      ],
      "text/plain": [
       "                          algorithm   TP   FP   TN   FN       MCC\n",
       "0               Logistic Regression  175  122  178  125  0.176676\n",
       "1          Random Forest Classifier  260   36  264   40  0.746733\n",
       "2               AdaBoost Classifier  200  103  197  100  0.323350\n",
       "3                        ElasticNet  180  119  181  120  0.203334\n",
       "4   C-Support Vector Classification    1    0  300  299  0.040859\n",
       "5       Stochastic Gradient Descent  229  218   82   71  0.042062\n",
       "6  Nearest Neighbors Classification  272   34  266   28  0.793492\n",
       "7   Gaussian Process Classification    7    0  300  293  0.108648\n",
       "8          Decision Tree Classifier  255   58  242   45  0.657284\n",
       "9      Gradient Boosting Classifier  245   54  246   55  0.636670"
      ]
     },
     "execution_count": 21,
     "metadata": {},
     "output_type": "execute_result"
    },
    {
     "name": "stdout",
     "output_type": "stream",
     "text": [
      "time: 69.5 ms\n"
     ]
    }
   ],
   "source": [
    "df_deeper"
   ]
  },
  {
   "cell_type": "markdown",
   "metadata": {
    "hidden": true
   },
   "source": [
    "So let's have a closer look at these features:"
   ]
  },
  {
   "cell_type": "code",
   "execution_count": 22,
   "metadata": {
    "hidden": true
   },
   "outputs": [
    {
     "data": {
      "image/png": "[encoded data removed]",
      "text/plain": [
       "<matplotlib.figure.Figure at 0x7fe84172cac8>"
      ]
     },
     "metadata": {},
     "output_type": "display_data"
    },
    {
     "name": "stdout",
     "output_type": "stream",
     "text": [
      "time: 6.05 s\n"
     ]
    }
   ],
   "source": [
    "fig = plt.figure(figsize = (15, 20))\n",
    "for i, col in enumerate(X_train.columns):\n",
    "    plt.subplot(5, 4, 1+i)\n",
    "    sns.distplot(X_train[col])"
   ]
  },
  {
   "cell_type": "markdown",
   "metadata": {
    "hidden": true
   },
   "source": [
    "This figure shows the normalized histograms of the 20 relevant features. Most features show relatively normal or bimodal distribution."
   ]
  },
  {
   "cell_type": "code",
   "execution_count": 23,
   "metadata": {
    "hidden": true
   },
   "outputs": [
    {
     "data": {
      "image/png": "[encoded data removed]",
      "text/plain": [
       "<matplotlib.figure.Figure at 0x7fe83f581b70>"
      ]
     },
     "metadata": {},
     "output_type": "display_data"
    },
    {
     "name": "stdout",
     "output_type": "stream",
     "text": [
      "time: 838 ms\n"
     ]
    }
   ],
   "source": [
    "fig = plt.figure(figsize = (20, 15))\n",
    "plt.errorbar(range(20), X_train.mean(), yerr=X_train.std(), fmt='ko', ecolor='b')\n",
    "plt.xticks(range(20), X_train.columns)\n",
    "plt.title('Mean and STD for Important Features')\n",
    "plt.show();"
   ]
  },
  {
   "cell_type": "markdown",
   "metadata": {
    "hidden": true
   },
   "source": [
    "This figure shows the means plotted with their standard deviations of the 20 features. While the means fall within a fairly small range, the standard deviations vary greatly between features."
   ]
  },
  {
   "cell_type": "markdown",
   "metadata": {
    "heading_collapsed": true
   },
   "source": [
    "# Feature Engineering 1st step"
   ]
  },
  {
   "cell_type": "markdown",
   "metadata": {
    "hidden": true
   },
   "source": [
    "As above graphs show, the scale of the features varies greatly. Alo, the mean of all features is roughly between 480 and 510. The target is either 1 or -1.<br>\n",
    "This imbalance in values, amplitude and mean can be a factor deteriorating the results. So it is good practice to scale the values."
   ]
  },
  {
   "cell_type": "markdown",
   "metadata": {
    "heading_collapsed": true,
    "hidden": true
   },
   "source": [
    "## Scaling the features"
   ]
  },
  {
   "cell_type": "markdown",
   "metadata": {
    "heading_collapsed": true,
    "hidden": true
   },
   "source": [
    "### StandardScaler"
   ]
  },
  {
   "cell_type": "code",
   "execution_count": 24,
   "metadata": {
    "hidden": true
   },
   "outputs": [
    {
     "name": "stdout",
     "output_type": "stream",
     "text": [
      "time: 33.9 ms\n"
     ]
    }
   ],
   "source": [
    "X_train, X_test, y_train, y_test = prep_df(df_train_sml, df_test_sml)\n",
    "scaler = StandardScaler(copy=True, with_mean=True, with_std=True)\n",
    "scaler.fit(X_train)\n",
    "X_train_scale = scaler.transform(X_train)\n",
    "X_test_scale = scaler.transform(X_test)"
   ]
  },
  {
   "cell_type": "code",
   "execution_count": 25,
   "metadata": {
    "hidden": true
   },
   "outputs": [
    {
     "name": "stdout",
     "output_type": "stream",
     "text": [
      "time: 7.78 s\n"
     ]
    }
   ],
   "source": [
    "df_StdScaler = run_alg(dict_alg, X_train_scale, X_test_scale, y_train, y_test)"
   ]
  },
  {
   "cell_type": "code",
   "execution_count": 26,
   "metadata": {
    "hidden": true
   },
   "outputs": [
    {
     "data": {
      "text/html": [
       "<div>\n",
       "<style>\n",
       "    .dataframe thead tr:only-child th {\n",
       "        text-align: right;\n",
       "    }\n",
       "\n",
       "    .dataframe thead th {\n",
       "        text-align: left;\n",
       "    }\n",
       "\n",
       "    .dataframe tbody tr th {\n",
       "        vertical-align: top;\n",
       "    }\n",
       "</style>\n",
       "<table border=\"1\" class=\"dataframe\">\n",
       "  <thead>\n",
       "    <tr style=\"text-align: right;\">\n",
       "      <th></th>\n",
       "      <th>algorithm</th>\n",
       "      <th>TP</th>\n",
       "      <th>FP</th>\n",
       "      <th>TN</th>\n",
       "      <th>FN</th>\n",
       "      <th>MCC</th>\n",
       "    </tr>\n",
       "  </thead>\n",
       "  <tbody>\n",
       "    <tr>\n",
       "      <th>0</th>\n",
       "      <td>Logistic Regression</td>\n",
       "      <td>177</td>\n",
       "      <td>119</td>\n",
       "      <td>181</td>\n",
       "      <td>123</td>\n",
       "      <td>0.193351</td>\n",
       "    </tr>\n",
       "    <tr>\n",
       "      <th>1</th>\n",
       "      <td>Random Forest Classifier</td>\n",
       "      <td>260</td>\n",
       "      <td>38</td>\n",
       "      <td>262</td>\n",
       "      <td>40</td>\n",
       "      <td>0.740016</td>\n",
       "    </tr>\n",
       "    <tr>\n",
       "      <th>2</th>\n",
       "      <td>AdaBoost Classifier</td>\n",
       "      <td>200</td>\n",
       "      <td>103</td>\n",
       "      <td>197</td>\n",
       "      <td>100</td>\n",
       "      <td>0.323350</td>\n",
       "    </tr>\n",
       "    <tr>\n",
       "      <th>3</th>\n",
       "      <td>ElasticNet</td>\n",
       "      <td>300</td>\n",
       "      <td>300</td>\n",
       "      <td>0</td>\n",
       "      <td>0</td>\n",
       "      <td>NaN</td>\n",
       "    </tr>\n",
       "    <tr>\n",
       "      <th>4</th>\n",
       "      <td>C-Support Vector Classification</td>\n",
       "      <td>261</td>\n",
       "      <td>49</td>\n",
       "      <td>251</td>\n",
       "      <td>39</td>\n",
       "      <td>0.707060</td>\n",
       "    </tr>\n",
       "    <tr>\n",
       "      <th>5</th>\n",
       "      <td>Stochastic Gradient Descent</td>\n",
       "      <td>153</td>\n",
       "      <td>142</td>\n",
       "      <td>158</td>\n",
       "      <td>147</td>\n",
       "      <td>0.036672</td>\n",
       "    </tr>\n",
       "    <tr>\n",
       "      <th>6</th>\n",
       "      <td>Nearest Neighbors Classification</td>\n",
       "      <td>278</td>\n",
       "      <td>30</td>\n",
       "      <td>270</td>\n",
       "      <td>22</td>\n",
       "      <td>0.826961</td>\n",
       "    </tr>\n",
       "    <tr>\n",
       "      <th>7</th>\n",
       "      <td>Gaussian Process Classification</td>\n",
       "      <td>283</td>\n",
       "      <td>25</td>\n",
       "      <td>275</td>\n",
       "      <td>17</td>\n",
       "      <td>0.860306</td>\n",
       "    </tr>\n",
       "    <tr>\n",
       "      <th>8</th>\n",
       "      <td>Decision Tree Classifier</td>\n",
       "      <td>254</td>\n",
       "      <td>58</td>\n",
       "      <td>242</td>\n",
       "      <td>46</td>\n",
       "      <td>0.653857</td>\n",
       "    </tr>\n",
       "    <tr>\n",
       "      <th>9</th>\n",
       "      <td>Gradient Boosting Classifier</td>\n",
       "      <td>245</td>\n",
       "      <td>54</td>\n",
       "      <td>246</td>\n",
       "      <td>55</td>\n",
       "      <td>0.636670</td>\n",
       "    </tr>\n",
       "  </tbody>\n",
       "</table>\n",
       "</div>"
      ],
      "text/plain": [
       "                          algorithm   TP   FP   TN   FN       MCC\n",
       "0               Logistic Regression  177  119  181  123  0.193351\n",
       "1          Random Forest Classifier  260   38  262   40  0.740016\n",
       "2               AdaBoost Classifier  200  103  197  100  0.323350\n",
       "3                        ElasticNet  300  300    0    0       NaN\n",
       "4   C-Support Vector Classification  261   49  251   39  0.707060\n",
       "5       Stochastic Gradient Descent  153  142  158  147  0.036672\n",
       "6  Nearest Neighbors Classification  278   30  270   22  0.826961\n",
       "7   Gaussian Process Classification  283   25  275   17  0.860306\n",
       "8          Decision Tree Classifier  254   58  242   46  0.653857\n",
       "9      Gradient Boosting Classifier  245   54  246   55  0.636670"
      ]
     },
     "execution_count": 26,
     "metadata": {},
     "output_type": "execute_result"
    },
    {
     "name": "stdout",
     "output_type": "stream",
     "text": [
      "time: 51.8 ms\n"
     ]
    }
   ],
   "source": [
    "df_StdScaler"
   ]
  },
  {
   "cell_type": "markdown",
   "metadata": {
    "hidden": true
   },
   "source": [
    "Particular of interest here is that the Gaussian Process (GPC) comes in really high. This is starting to look interesting, considering the shape of the dataset."
   ]
  },
  {
   "cell_type": "markdown",
   "metadata": {
    "heading_collapsed": true,
    "hidden": true
   },
   "source": [
    "### MinMaxScaler"
   ]
  },
  {
   "cell_type": "code",
   "execution_count": 27,
   "metadata": {
    "hidden": true
   },
   "outputs": [
    {
     "name": "stdout",
     "output_type": "stream",
     "text": [
      "time: 34.6 ms\n"
     ]
    }
   ],
   "source": [
    "X_train, X_test, y_train, y_test = prep_df(df_train_sml, df_test_sml)\n",
    "scaler = MinMaxScaler(feature_range=(-1, 1), copy=True)\n",
    "scaler.fit(X_train)\n",
    "X_train_scale = scaler.transform(X_train)\n",
    "X_test_scale = scaler.transform(X_test)"
   ]
  },
  {
   "cell_type": "code",
   "execution_count": 28,
   "metadata": {
    "hidden": true
   },
   "outputs": [
    {
     "name": "stdout",
     "output_type": "stream",
     "text": [
      "time: 7.76 s\n"
     ]
    }
   ],
   "source": [
    "df_MinMaxScaler = run_alg(dict_alg, X_train_scale, X_test_scale, y_train, y_test)"
   ]
  },
  {
   "cell_type": "code",
   "execution_count": 29,
   "metadata": {
    "hidden": true
   },
   "outputs": [
    {
     "data": {
      "text/html": [
       "<div>\n",
       "<style>\n",
       "    .dataframe thead tr:only-child th {\n",
       "        text-align: right;\n",
       "    }\n",
       "\n",
       "    .dataframe thead th {\n",
       "        text-align: left;\n",
       "    }\n",
       "\n",
       "    .dataframe tbody tr th {\n",
       "        vertical-align: top;\n",
       "    }\n",
       "</style>\n",
       "<table border=\"1\" class=\"dataframe\">\n",
       "  <thead>\n",
       "    <tr style=\"text-align: right;\">\n",
       "      <th></th>\n",
       "      <th>algorithm</th>\n",
       "      <th>TP</th>\n",
       "      <th>FP</th>\n",
       "      <th>TN</th>\n",
       "      <th>FN</th>\n",
       "      <th>MCC</th>\n",
       "    </tr>\n",
       "  </thead>\n",
       "  <tbody>\n",
       "    <tr>\n",
       "      <th>0</th>\n",
       "      <td>Logistic Regression</td>\n",
       "      <td>180</td>\n",
       "      <td>116</td>\n",
       "      <td>184</td>\n",
       "      <td>120</td>\n",
       "      <td>0.213352</td>\n",
       "    </tr>\n",
       "    <tr>\n",
       "      <th>1</th>\n",
       "      <td>Random Forest Classifier</td>\n",
       "      <td>261</td>\n",
       "      <td>36</td>\n",
       "      <td>264</td>\n",
       "      <td>39</td>\n",
       "      <td>0.750038</td>\n",
       "    </tr>\n",
       "    <tr>\n",
       "      <th>2</th>\n",
       "      <td>AdaBoost Classifier</td>\n",
       "      <td>200</td>\n",
       "      <td>103</td>\n",
       "      <td>197</td>\n",
       "      <td>100</td>\n",
       "      <td>0.323350</td>\n",
       "    </tr>\n",
       "    <tr>\n",
       "      <th>3</th>\n",
       "      <td>ElasticNet</td>\n",
       "      <td>300</td>\n",
       "      <td>300</td>\n",
       "      <td>0</td>\n",
       "      <td>0</td>\n",
       "      <td>NaN</td>\n",
       "    </tr>\n",
       "    <tr>\n",
       "      <th>4</th>\n",
       "      <td>C-Support Vector Classification</td>\n",
       "      <td>196</td>\n",
       "      <td>74</td>\n",
       "      <td>226</td>\n",
       "      <td>104</td>\n",
       "      <td>0.408715</td>\n",
       "    </tr>\n",
       "    <tr>\n",
       "      <th>5</th>\n",
       "      <td>Stochastic Gradient Descent</td>\n",
       "      <td>232</td>\n",
       "      <td>229</td>\n",
       "      <td>71</td>\n",
       "      <td>68</td>\n",
       "      <td>0.011851</td>\n",
       "    </tr>\n",
       "    <tr>\n",
       "      <th>6</th>\n",
       "      <td>Nearest Neighbors Classification</td>\n",
       "      <td>282</td>\n",
       "      <td>32</td>\n",
       "      <td>268</td>\n",
       "      <td>18</td>\n",
       "      <td>0.834242</td>\n",
       "    </tr>\n",
       "    <tr>\n",
       "      <th>7</th>\n",
       "      <td>Gaussian Process Classification</td>\n",
       "      <td>260</td>\n",
       "      <td>50</td>\n",
       "      <td>250</td>\n",
       "      <td>40</td>\n",
       "      <td>0.700389</td>\n",
       "    </tr>\n",
       "    <tr>\n",
       "      <th>8</th>\n",
       "      <td>Decision Tree Classifier</td>\n",
       "      <td>255</td>\n",
       "      <td>59</td>\n",
       "      <td>241</td>\n",
       "      <td>45</td>\n",
       "      <td>0.654046</td>\n",
       "    </tr>\n",
       "    <tr>\n",
       "      <th>9</th>\n",
       "      <td>Gradient Boosting Classifier</td>\n",
       "      <td>245</td>\n",
       "      <td>54</td>\n",
       "      <td>246</td>\n",
       "      <td>55</td>\n",
       "      <td>0.636670</td>\n",
       "    </tr>\n",
       "  </tbody>\n",
       "</table>\n",
       "</div>"
      ],
      "text/plain": [
       "                          algorithm   TP   FP   TN   FN       MCC\n",
       "0               Logistic Regression  180  116  184  120  0.213352\n",
       "1          Random Forest Classifier  261   36  264   39  0.750038\n",
       "2               AdaBoost Classifier  200  103  197  100  0.323350\n",
       "3                        ElasticNet  300  300    0    0       NaN\n",
       "4   C-Support Vector Classification  196   74  226  104  0.408715\n",
       "5       Stochastic Gradient Descent  232  229   71   68  0.011851\n",
       "6  Nearest Neighbors Classification  282   32  268   18  0.834242\n",
       "7   Gaussian Process Classification  260   50  250   40  0.700389\n",
       "8          Decision Tree Classifier  255   59  241   45  0.654046\n",
       "9      Gradient Boosting Classifier  245   54  246   55  0.636670"
      ]
     },
     "execution_count": 29,
     "metadata": {},
     "output_type": "execute_result"
    },
    {
     "name": "stdout",
     "output_type": "stream",
     "text": [
      "time: 52.1 ms\n"
     ]
    }
   ],
   "source": [
    "df_MinMaxScaler"
   ]
  },
  {
   "cell_type": "markdown",
   "metadata": {
    "hidden": true
   },
   "source": [
    "Seems like both scalers have the positive sides, this means we might want to consider running both in comparission on the next steps."
   ]
  },
  {
   "cell_type": "markdown",
   "metadata": {
    "heading_collapsed": true
   },
   "source": [
    "# Feature Engineering 2nd step:"
   ]
  },
  {
   "cell_type": "markdown",
   "metadata": {
    "hidden": true
   },
   "source": [
    "I know about this dataset that it consists of five original features that get transformed, noise added, then made redundant, out of these ten are randomly selected (with replacement) for duplication, followed by additional manipulation and noise overlay.<br>\n",
    "Bottom line is the dataset has five dimensions. So let's use PCA to reduce the 20 features to 5 dimensions:"
   ]
  },
  {
   "cell_type": "markdown",
   "metadata": {
    "heading_collapsed": true,
    "hidden": true
   },
   "source": [
    "## PCA without scaler:"
   ]
  },
  {
   "cell_type": "code",
   "execution_count": 30,
   "metadata": {
    "hidden": true
   },
   "outputs": [
    {
     "name": "stdout",
     "output_type": "stream",
     "text": [
      "time: 76.3 ms\n"
     ]
    }
   ],
   "source": [
    "X_train, X_test, y_train, y_test = prep_df(df_train_sml, df_test_sml)\n",
    "pca = PCA(n_components=5)\n",
    "pca.fit(X_train)\n",
    "X_train = pca.transform(X_train)\n",
    "X_test = pca.transform(X_test)"
   ]
  },
  {
   "cell_type": "code",
   "execution_count": 31,
   "metadata": {
    "hidden": true
   },
   "outputs": [
    {
     "name": "stdout",
     "output_type": "stream",
     "text": [
      "time: 5.12 s\n"
     ]
    }
   ],
   "source": [
    "df_pca_none = run_alg(dict_alg, X_train, X_test, y_train, y_test)"
   ]
  },
  {
   "cell_type": "code",
   "execution_count": 32,
   "metadata": {
    "hidden": true
   },
   "outputs": [
    {
     "data": {
      "text/html": [
       "<div>\n",
       "<style>\n",
       "    .dataframe thead tr:only-child th {\n",
       "        text-align: right;\n",
       "    }\n",
       "\n",
       "    .dataframe thead th {\n",
       "        text-align: left;\n",
       "    }\n",
       "\n",
       "    .dataframe tbody tr th {\n",
       "        vertical-align: top;\n",
       "    }\n",
       "</style>\n",
       "<table border=\"1\" class=\"dataframe\">\n",
       "  <thead>\n",
       "    <tr style=\"text-align: right;\">\n",
       "      <th></th>\n",
       "      <th>algorithm</th>\n",
       "      <th>TP</th>\n",
       "      <th>FP</th>\n",
       "      <th>TN</th>\n",
       "      <th>FN</th>\n",
       "      <th>MCC</th>\n",
       "    </tr>\n",
       "  </thead>\n",
       "  <tbody>\n",
       "    <tr>\n",
       "      <th>0</th>\n",
       "      <td>Logistic Regression</td>\n",
       "      <td>178</td>\n",
       "      <td>122</td>\n",
       "      <td>178</td>\n",
       "      <td>122</td>\n",
       "      <td>0.186667</td>\n",
       "    </tr>\n",
       "    <tr>\n",
       "      <th>1</th>\n",
       "      <td>Random Forest Classifier</td>\n",
       "      <td>253</td>\n",
       "      <td>31</td>\n",
       "      <td>269</td>\n",
       "      <td>47</td>\n",
       "      <td>0.741055</td>\n",
       "    </tr>\n",
       "    <tr>\n",
       "      <th>2</th>\n",
       "      <td>AdaBoost Classifier</td>\n",
       "      <td>190</td>\n",
       "      <td>108</td>\n",
       "      <td>192</td>\n",
       "      <td>110</td>\n",
       "      <td>0.273339</td>\n",
       "    </tr>\n",
       "    <tr>\n",
       "      <th>3</th>\n",
       "      <td>ElasticNet</td>\n",
       "      <td>177</td>\n",
       "      <td>119</td>\n",
       "      <td>181</td>\n",
       "      <td>123</td>\n",
       "      <td>0.193351</td>\n",
       "    </tr>\n",
       "    <tr>\n",
       "      <th>4</th>\n",
       "      <td>C-Support Vector Classification</td>\n",
       "      <td>0</td>\n",
       "      <td>0</td>\n",
       "      <td>300</td>\n",
       "      <td>300</td>\n",
       "      <td>NaN</td>\n",
       "    </tr>\n",
       "    <tr>\n",
       "      <th>5</th>\n",
       "      <td>Stochastic Gradient Descent</td>\n",
       "      <td>137</td>\n",
       "      <td>158</td>\n",
       "      <td>142</td>\n",
       "      <td>163</td>\n",
       "      <td>-0.070010</td>\n",
       "    </tr>\n",
       "    <tr>\n",
       "      <th>6</th>\n",
       "      <td>Nearest Neighbors Classification</td>\n",
       "      <td>271</td>\n",
       "      <td>38</td>\n",
       "      <td>262</td>\n",
       "      <td>29</td>\n",
       "      <td>0.777016</td>\n",
       "    </tr>\n",
       "    <tr>\n",
       "      <th>7</th>\n",
       "      <td>Gaussian Process Classification</td>\n",
       "      <td>45</td>\n",
       "      <td>1</td>\n",
       "      <td>299</td>\n",
       "      <td>255</td>\n",
       "      <td>0.275625</td>\n",
       "    </tr>\n",
       "    <tr>\n",
       "      <th>8</th>\n",
       "      <td>Decision Tree Classifier</td>\n",
       "      <td>245</td>\n",
       "      <td>66</td>\n",
       "      <td>234</td>\n",
       "      <td>55</td>\n",
       "      <td>0.597068</td>\n",
       "    </tr>\n",
       "    <tr>\n",
       "      <th>9</th>\n",
       "      <td>Gradient Boosting Classifier</td>\n",
       "      <td>251</td>\n",
       "      <td>56</td>\n",
       "      <td>244</td>\n",
       "      <td>49</td>\n",
       "      <td>0.650177</td>\n",
       "    </tr>\n",
       "  </tbody>\n",
       "</table>\n",
       "</div>"
      ],
      "text/plain": [
       "                          algorithm   TP   FP   TN   FN       MCC\n",
       "0               Logistic Regression  178  122  178  122  0.186667\n",
       "1          Random Forest Classifier  253   31  269   47  0.741055\n",
       "2               AdaBoost Classifier  190  108  192  110  0.273339\n",
       "3                        ElasticNet  177  119  181  123  0.193351\n",
       "4   C-Support Vector Classification    0    0  300  300       NaN\n",
       "5       Stochastic Gradient Descent  137  158  142  163 -0.070010\n",
       "6  Nearest Neighbors Classification  271   38  262   29  0.777016\n",
       "7   Gaussian Process Classification   45    1  299  255  0.275625\n",
       "8          Decision Tree Classifier  245   66  234   55  0.597068\n",
       "9      Gradient Boosting Classifier  251   56  244   49  0.650177"
      ]
     },
     "execution_count": 32,
     "metadata": {},
     "output_type": "execute_result"
    },
    {
     "name": "stdout",
     "output_type": "stream",
     "text": [
      "time: 49.6 ms\n"
     ]
    }
   ],
   "source": [
    "df_pca_none"
   ]
  },
  {
   "cell_type": "markdown",
   "metadata": {
    "heading_collapsed": true,
    "hidden": true
   },
   "source": [
    "## PCA with Standard Scaler:"
   ]
  },
  {
   "cell_type": "code",
   "execution_count": 33,
   "metadata": {
    "hidden": true
   },
   "outputs": [
    {
     "name": "stdout",
     "output_type": "stream",
     "text": [
      "time: 73 ms\n"
     ]
    }
   ],
   "source": [
    "X_train, X_test, y_train, y_test = prep_df(df_train_sml, df_test_sml)\n",
    "scaler = StandardScaler(copy=True, with_mean=True, with_std=True)\n",
    "scaler.fit(X_train)\n",
    "X_train = scaler.transform(X_train)\n",
    "X_test = scaler.transform(X_test)\n",
    "pca = PCA(n_components=5)\n",
    "pca.fit(X_train)\n",
    "X_train = pca.transform(X_train)\n",
    "X_test = pca.transform(X_test)"
   ]
  },
  {
   "cell_type": "code",
   "execution_count": 34,
   "metadata": {
    "hidden": true
   },
   "outputs": [
    {
     "name": "stdout",
     "output_type": "stream",
     "text": [
      "time: 7.46 s\n"
     ]
    }
   ],
   "source": [
    "df_pca_std = run_alg(dict_alg, X_train, X_test, y_train, y_test)"
   ]
  },
  {
   "cell_type": "code",
   "execution_count": 35,
   "metadata": {
    "hidden": true
   },
   "outputs": [
    {
     "data": {
      "text/html": [
       "<div>\n",
       "<style>\n",
       "    .dataframe thead tr:only-child th {\n",
       "        text-align: right;\n",
       "    }\n",
       "\n",
       "    .dataframe thead th {\n",
       "        text-align: left;\n",
       "    }\n",
       "\n",
       "    .dataframe tbody tr th {\n",
       "        vertical-align: top;\n",
       "    }\n",
       "</style>\n",
       "<table border=\"1\" class=\"dataframe\">\n",
       "  <thead>\n",
       "    <tr style=\"text-align: right;\">\n",
       "      <th></th>\n",
       "      <th>algorithm</th>\n",
       "      <th>TP</th>\n",
       "      <th>FP</th>\n",
       "      <th>TN</th>\n",
       "      <th>FN</th>\n",
       "      <th>MCC</th>\n",
       "    </tr>\n",
       "  </thead>\n",
       "  <tbody>\n",
       "    <tr>\n",
       "      <th>0</th>\n",
       "      <td>Logistic Regression</td>\n",
       "      <td>178</td>\n",
       "      <td>123</td>\n",
       "      <td>177</td>\n",
       "      <td>122</td>\n",
       "      <td>0.183334</td>\n",
       "    </tr>\n",
       "    <tr>\n",
       "      <th>1</th>\n",
       "      <td>Random Forest Classifier</td>\n",
       "      <td>259</td>\n",
       "      <td>36</td>\n",
       "      <td>264</td>\n",
       "      <td>41</td>\n",
       "      <td>0.743437</td>\n",
       "    </tr>\n",
       "    <tr>\n",
       "      <th>2</th>\n",
       "      <td>AdaBoost Classifier</td>\n",
       "      <td>197</td>\n",
       "      <td>107</td>\n",
       "      <td>193</td>\n",
       "      <td>103</td>\n",
       "      <td>0.300027</td>\n",
       "    </tr>\n",
       "    <tr>\n",
       "      <th>3</th>\n",
       "      <td>ElasticNet</td>\n",
       "      <td>300</td>\n",
       "      <td>300</td>\n",
       "      <td>0</td>\n",
       "      <td>0</td>\n",
       "      <td>NaN</td>\n",
       "    </tr>\n",
       "    <tr>\n",
       "      <th>4</th>\n",
       "      <td>C-Support Vector Classification</td>\n",
       "      <td>280</td>\n",
       "      <td>28</td>\n",
       "      <td>272</td>\n",
       "      <td>20</td>\n",
       "      <td>0.840299</td>\n",
       "    </tr>\n",
       "    <tr>\n",
       "      <th>5</th>\n",
       "      <td>Stochastic Gradient Descent</td>\n",
       "      <td>184</td>\n",
       "      <td>141</td>\n",
       "      <td>159</td>\n",
       "      <td>116</td>\n",
       "      <td>0.143834</td>\n",
       "    </tr>\n",
       "    <tr>\n",
       "      <th>6</th>\n",
       "      <td>Nearest Neighbors Classification</td>\n",
       "      <td>278</td>\n",
       "      <td>30</td>\n",
       "      <td>270</td>\n",
       "      <td>22</td>\n",
       "      <td>0.826961</td>\n",
       "    </tr>\n",
       "    <tr>\n",
       "      <th>7</th>\n",
       "      <td>Gaussian Process Classification</td>\n",
       "      <td>283</td>\n",
       "      <td>26</td>\n",
       "      <td>274</td>\n",
       "      <td>17</td>\n",
       "      <td>0.857052</td>\n",
       "    </tr>\n",
       "    <tr>\n",
       "      <th>8</th>\n",
       "      <td>Decision Tree Classifier</td>\n",
       "      <td>230</td>\n",
       "      <td>57</td>\n",
       "      <td>243</td>\n",
       "      <td>70</td>\n",
       "      <td>0.577209</td>\n",
       "    </tr>\n",
       "    <tr>\n",
       "      <th>9</th>\n",
       "      <td>Gradient Boosting Classifier</td>\n",
       "      <td>248</td>\n",
       "      <td>65</td>\n",
       "      <td>235</td>\n",
       "      <td>52</td>\n",
       "      <td>0.610574</td>\n",
       "    </tr>\n",
       "  </tbody>\n",
       "</table>\n",
       "</div>"
      ],
      "text/plain": [
       "                          algorithm   TP   FP   TN   FN       MCC\n",
       "0               Logistic Regression  178  123  177  122  0.183334\n",
       "1          Random Forest Classifier  259   36  264   41  0.743437\n",
       "2               AdaBoost Classifier  197  107  193  103  0.300027\n",
       "3                        ElasticNet  300  300    0    0       NaN\n",
       "4   C-Support Vector Classification  280   28  272   20  0.840299\n",
       "5       Stochastic Gradient Descent  184  141  159  116  0.143834\n",
       "6  Nearest Neighbors Classification  278   30  270   22  0.826961\n",
       "7   Gaussian Process Classification  283   26  274   17  0.857052\n",
       "8          Decision Tree Classifier  230   57  243   70  0.577209\n",
       "9      Gradient Boosting Classifier  248   65  235   52  0.610574"
      ]
     },
     "execution_count": 35,
     "metadata": {},
     "output_type": "execute_result"
    },
    {
     "name": "stdout",
     "output_type": "stream",
     "text": [
      "time: 46.2 ms\n"
     ]
    }
   ],
   "source": [
    "df_pca_std"
   ]
  },
  {
   "cell_type": "markdown",
   "metadata": {
    "heading_collapsed": true,
    "hidden": true
   },
   "source": [
    "## PCA with MinMax Scaler"
   ]
  },
  {
   "cell_type": "code",
   "execution_count": 36,
   "metadata": {
    "hidden": true
   },
   "outputs": [
    {
     "name": "stdout",
     "output_type": "stream",
     "text": [
      "time: 51.1 ms\n"
     ]
    }
   ],
   "source": [
    "X_train, X_test, y_train, y_test = prep_df(df_train_sml, df_test_sml)\n",
    "scaler = MinMaxScaler(feature_range=(-1, 1), copy=True)\n",
    "scaler.fit(X_train)\n",
    "X_train = scaler.transform(X_train)\n",
    "X_test = scaler.transform(X_test)\n",
    "pca = PCA(n_components=5)\n",
    "pca.fit(X_train)\n",
    "X_train = pca.transform(X_train)\n",
    "X_test = pca.transform(X_test)"
   ]
  },
  {
   "cell_type": "code",
   "execution_count": 37,
   "metadata": {
    "hidden": true
   },
   "outputs": [
    {
     "name": "stdout",
     "output_type": "stream",
     "text": [
      "time: 7.17 s\n"
     ]
    }
   ],
   "source": [
    "df_pca_minmax = run_alg(dict_alg, X_train, X_test, y_train, y_test)"
   ]
  },
  {
   "cell_type": "code",
   "execution_count": 38,
   "metadata": {
    "hidden": true
   },
   "outputs": [
    {
     "data": {
      "text/html": [
       "<div>\n",
       "<style>\n",
       "    .dataframe thead tr:only-child th {\n",
       "        text-align: right;\n",
       "    }\n",
       "\n",
       "    .dataframe thead th {\n",
       "        text-align: left;\n",
       "    }\n",
       "\n",
       "    .dataframe tbody tr th {\n",
       "        vertical-align: top;\n",
       "    }\n",
       "</style>\n",
       "<table border=\"1\" class=\"dataframe\">\n",
       "  <thead>\n",
       "    <tr style=\"text-align: right;\">\n",
       "      <th></th>\n",
       "      <th>algorithm</th>\n",
       "      <th>TP</th>\n",
       "      <th>FP</th>\n",
       "      <th>TN</th>\n",
       "      <th>FN</th>\n",
       "      <th>MCC</th>\n",
       "    </tr>\n",
       "  </thead>\n",
       "  <tbody>\n",
       "    <tr>\n",
       "      <th>0</th>\n",
       "      <td>Logistic Regression</td>\n",
       "      <td>178</td>\n",
       "      <td>123</td>\n",
       "      <td>177</td>\n",
       "      <td>122</td>\n",
       "      <td>0.183334</td>\n",
       "    </tr>\n",
       "    <tr>\n",
       "      <th>1</th>\n",
       "      <td>Random Forest Classifier</td>\n",
       "      <td>250</td>\n",
       "      <td>35</td>\n",
       "      <td>265</td>\n",
       "      <td>50</td>\n",
       "      <td>0.717564</td>\n",
       "    </tr>\n",
       "    <tr>\n",
       "      <th>2</th>\n",
       "      <td>AdaBoost Classifier</td>\n",
       "      <td>190</td>\n",
       "      <td>121</td>\n",
       "      <td>179</td>\n",
       "      <td>110</td>\n",
       "      <td>0.230155</td>\n",
       "    </tr>\n",
       "    <tr>\n",
       "      <th>3</th>\n",
       "      <td>ElasticNet</td>\n",
       "      <td>300</td>\n",
       "      <td>300</td>\n",
       "      <td>0</td>\n",
       "      <td>0</td>\n",
       "      <td>NaN</td>\n",
       "    </tr>\n",
       "    <tr>\n",
       "      <th>4</th>\n",
       "      <td>C-Support Vector Classification</td>\n",
       "      <td>230</td>\n",
       "      <td>53</td>\n",
       "      <td>247</td>\n",
       "      <td>70</td>\n",
       "      <td>0.590950</td>\n",
       "    </tr>\n",
       "    <tr>\n",
       "      <th>5</th>\n",
       "      <td>Stochastic Gradient Descent</td>\n",
       "      <td>255</td>\n",
       "      <td>261</td>\n",
       "      <td>39</td>\n",
       "      <td>45</td>\n",
       "      <td>-0.028820</td>\n",
       "    </tr>\n",
       "    <tr>\n",
       "      <th>6</th>\n",
       "      <td>Nearest Neighbors Classification</td>\n",
       "      <td>281</td>\n",
       "      <td>34</td>\n",
       "      <td>266</td>\n",
       "      <td>19</td>\n",
       "      <td>0.824364</td>\n",
       "    </tr>\n",
       "    <tr>\n",
       "      <th>7</th>\n",
       "      <td>Gaussian Process Classification</td>\n",
       "      <td>260</td>\n",
       "      <td>52</td>\n",
       "      <td>248</td>\n",
       "      <td>40</td>\n",
       "      <td>0.693889</td>\n",
       "    </tr>\n",
       "    <tr>\n",
       "      <th>8</th>\n",
       "      <td>Decision Tree Classifier</td>\n",
       "      <td>239</td>\n",
       "      <td>72</td>\n",
       "      <td>228</td>\n",
       "      <td>61</td>\n",
       "      <td>0.557041</td>\n",
       "    </tr>\n",
       "    <tr>\n",
       "      <th>9</th>\n",
       "      <td>Gradient Boosting Classifier</td>\n",
       "      <td>252</td>\n",
       "      <td>65</td>\n",
       "      <td>235</td>\n",
       "      <td>48</td>\n",
       "      <td>0.624337</td>\n",
       "    </tr>\n",
       "  </tbody>\n",
       "</table>\n",
       "</div>"
      ],
      "text/plain": [
       "                          algorithm   TP   FP   TN   FN       MCC\n",
       "0               Logistic Regression  178  123  177  122  0.183334\n",
       "1          Random Forest Classifier  250   35  265   50  0.717564\n",
       "2               AdaBoost Classifier  190  121  179  110  0.230155\n",
       "3                        ElasticNet  300  300    0    0       NaN\n",
       "4   C-Support Vector Classification  230   53  247   70  0.590950\n",
       "5       Stochastic Gradient Descent  255  261   39   45 -0.028820\n",
       "6  Nearest Neighbors Classification  281   34  266   19  0.824364\n",
       "7   Gaussian Process Classification  260   52  248   40  0.693889\n",
       "8          Decision Tree Classifier  239   72  228   61  0.557041\n",
       "9      Gradient Boosting Classifier  252   65  235   48  0.624337"
      ]
     },
     "execution_count": 38,
     "metadata": {},
     "output_type": "execute_result"
    },
    {
     "name": "stdout",
     "output_type": "stream",
     "text": [
      "time: 65.2 ms\n"
     ]
    }
   ],
   "source": [
    "df_pca_minmax"
   ]
  },
  {
   "cell_type": "markdown",
   "metadata": {
    "heading_collapsed": true
   },
   "source": [
    "# with Standard Scaler, PCA, Standard Scaler and tuned algorithm"
   ]
  },
  {
   "cell_type": "code",
   "execution_count": 39,
   "metadata": {
    "hidden": true
   },
   "outputs": [
    {
     "name": "stdout",
     "output_type": "stream",
     "text": [
      "time: 81.3 ms\n"
     ]
    }
   ],
   "source": [
    "X_train, X_test, y_train, y_test = prep_df(df_train_sml, df_test_sml)\n",
    "scaler = StandardScaler(copy=True, with_mean=True, with_std=True)\n",
    "scaler.fit(X_train)\n",
    "X_train = scaler.transform(X_train)\n",
    "X_test = scaler.transform(X_test)\n",
    "pca = PCA(n_components=5)\n",
    "pca.fit(X_train)\n",
    "X_train = pca.transform(X_train)\n",
    "X_test = pca.transform(X_test)\n",
    "scaler2 = StandardScaler(copy=True, with_mean=True, with_std=True)\n",
    "scaler2.fit(X_train)\n",
    "X_train = scaler2.transform(X_train)\n",
    "X_test = scaler2.transform(X_test)"
   ]
  },
  {
   "cell_type": "code",
   "execution_count": 40,
   "metadata": {
    "hidden": true
   },
   "outputs": [
    {
     "name": "stdout",
     "output_type": "stream",
     "text": [
      "time: 40.7 ms\n"
     ]
    }
   ],
   "source": [
    "dict_alg = {}\n",
    "dict_alg['LR'] = LogisticRegression(random_state=random_seed)\n",
    "dict_alg['RF'] = RandomForestClassifier(n_estimators=500, criterion='entropy', max_depth=64, random_state=random_seed)\n",
    "dict_alg['AB'] = AdaBoostClassifier(random_state=random_seed)\n",
    "dict_alg['EN'] = ElasticNet(random_state=random_seed)\n",
    "dict_alg['SVC'] = SVC(decision_function_shape='ovo', C=1, gamma=.9, random_state=random_seed)\n",
    "dict_alg['SGD'] = SGDClassifier(random_state=random_seed)\n",
    "dict_alg['kNN'] = KNeighborsClassifier(algorithm='auto', leaf_size=2, n_neighbors=10, weights='distance')\n",
    "dict_alg['GPC'] = GaussianProcessClassifier(random_state=random_seed)\n",
    "dict_alg['DT'] = DecisionTreeClassifier(random_state=random_seed)\n",
    "dict_alg['GB'] = GradientBoostingClassifier(random_state=random_seed)"
   ]
  },
  {
   "cell_type": "code",
   "execution_count": 41,
   "metadata": {
    "hidden": true
   },
   "outputs": [
    {
     "name": "stdout",
     "output_type": "stream",
     "text": [
      "time: 12.1 s\n"
     ]
    }
   ],
   "source": [
    "df_pca_tuned = run_alg(dict_alg, X_train, X_test, y_train, y_test)"
   ]
  },
  {
   "cell_type": "code",
   "execution_count": 42,
   "metadata": {
    "hidden": true
   },
   "outputs": [
    {
     "data": {
      "text/html": [
       "<div>\n",
       "<style>\n",
       "    .dataframe thead tr:only-child th {\n",
       "        text-align: right;\n",
       "    }\n",
       "\n",
       "    .dataframe thead th {\n",
       "        text-align: left;\n",
       "    }\n",
       "\n",
       "    .dataframe tbody tr th {\n",
       "        vertical-align: top;\n",
       "    }\n",
       "</style>\n",
       "<table border=\"1\" class=\"dataframe\">\n",
       "  <thead>\n",
       "    <tr style=\"text-align: right;\">\n",
       "      <th></th>\n",
       "      <th>algorithm</th>\n",
       "      <th>TP</th>\n",
       "      <th>FP</th>\n",
       "      <th>TN</th>\n",
       "      <th>FN</th>\n",
       "      <th>MCC</th>\n",
       "    </tr>\n",
       "  </thead>\n",
       "  <tbody>\n",
       "    <tr>\n",
       "      <th>0</th>\n",
       "      <td>Logistic Regression</td>\n",
       "      <td>178</td>\n",
       "      <td>123</td>\n",
       "      <td>177</td>\n",
       "      <td>122</td>\n",
       "      <td>0.183334</td>\n",
       "    </tr>\n",
       "    <tr>\n",
       "      <th>1</th>\n",
       "      <td>Random Forest Classifier</td>\n",
       "      <td>268</td>\n",
       "      <td>40</td>\n",
       "      <td>260</td>\n",
       "      <td>32</td>\n",
       "      <td>0.760270</td>\n",
       "    </tr>\n",
       "    <tr>\n",
       "      <th>2</th>\n",
       "      <td>AdaBoost Classifier</td>\n",
       "      <td>197</td>\n",
       "      <td>107</td>\n",
       "      <td>193</td>\n",
       "      <td>103</td>\n",
       "      <td>0.300027</td>\n",
       "    </tr>\n",
       "    <tr>\n",
       "      <th>3</th>\n",
       "      <td>ElasticNet</td>\n",
       "      <td>300</td>\n",
       "      <td>300</td>\n",
       "      <td>0</td>\n",
       "      <td>0</td>\n",
       "      <td>NaN</td>\n",
       "    </tr>\n",
       "    <tr>\n",
       "      <th>4</th>\n",
       "      <td>C-Support Vector Classification</td>\n",
       "      <td>282</td>\n",
       "      <td>23</td>\n",
       "      <td>277</td>\n",
       "      <td>18</td>\n",
       "      <td>0.863453</td>\n",
       "    </tr>\n",
       "    <tr>\n",
       "      <th>5</th>\n",
       "      <td>Stochastic Gradient Descent</td>\n",
       "      <td>191</td>\n",
       "      <td>196</td>\n",
       "      <td>104</td>\n",
       "      <td>109</td>\n",
       "      <td>-0.017415</td>\n",
       "    </tr>\n",
       "    <tr>\n",
       "      <th>6</th>\n",
       "      <td>Nearest Neighbors Classification</td>\n",
       "      <td>281</td>\n",
       "      <td>29</td>\n",
       "      <td>271</td>\n",
       "      <td>19</td>\n",
       "      <td>0.840467</td>\n",
       "    </tr>\n",
       "    <tr>\n",
       "      <th>7</th>\n",
       "      <td>Gaussian Process Classification</td>\n",
       "      <td>279</td>\n",
       "      <td>36</td>\n",
       "      <td>264</td>\n",
       "      <td>21</td>\n",
       "      <td>0.811014</td>\n",
       "    </tr>\n",
       "    <tr>\n",
       "      <th>8</th>\n",
       "      <td>Decision Tree Classifier</td>\n",
       "      <td>230</td>\n",
       "      <td>57</td>\n",
       "      <td>243</td>\n",
       "      <td>70</td>\n",
       "      <td>0.577209</td>\n",
       "    </tr>\n",
       "    <tr>\n",
       "      <th>9</th>\n",
       "      <td>Gradient Boosting Classifier</td>\n",
       "      <td>248</td>\n",
       "      <td>65</td>\n",
       "      <td>235</td>\n",
       "      <td>52</td>\n",
       "      <td>0.610574</td>\n",
       "    </tr>\n",
       "  </tbody>\n",
       "</table>\n",
       "</div>"
      ],
      "text/plain": [
       "                          algorithm   TP   FP   TN   FN       MCC\n",
       "0               Logistic Regression  178  123  177  122  0.183334\n",
       "1          Random Forest Classifier  268   40  260   32  0.760270\n",
       "2               AdaBoost Classifier  197  107  193  103  0.300027\n",
       "3                        ElasticNet  300  300    0    0       NaN\n",
       "4   C-Support Vector Classification  282   23  277   18  0.863453\n",
       "5       Stochastic Gradient Descent  191  196  104  109 -0.017415\n",
       "6  Nearest Neighbors Classification  281   29  271   19  0.840467\n",
       "7   Gaussian Process Classification  279   36  264   21  0.811014\n",
       "8          Decision Tree Classifier  230   57  243   70  0.577209\n",
       "9      Gradient Boosting Classifier  248   65  235   52  0.610574"
      ]
     },
     "execution_count": 42,
     "metadata": {},
     "output_type": "execute_result"
    },
    {
     "name": "stdout",
     "output_type": "stream",
     "text": [
      "time: 48.9 ms\n"
     ]
    }
   ],
   "source": [
    "df_pca_tuned"
   ]
  },
  {
   "cell_type": "markdown",
   "metadata": {},
   "source": [
    "# Summary"
   ]
  },
  {
   "cell_type": "markdown",
   "metadata": {},
   "source": [
    "| approach | best | runner-up | time|\n",
    "| --- | --- | --- | --- | \n",
    "| baseline | 0.763 | 0.60 | < 10 sec. |\n",
    "| modified features | 0.793 | 0.47 | < 10 sec.(\\*) |\n",
    "| Standard Scaler | 0.860 | 0.827 | < 10 sec. |\n",
    "| MinMax Scaler | 0.834 | 0.750 | < 10 sec. |\n",
    "| PCA | 0.777 | 0.741 | < 10 sec. |\n",
    "| Std. Scaler, PCA | 0.857 | 0.840 | < 10 sec. |\n",
    "| MinMax Scaler, PCA | 0.824 | 0.718 | < 10 sec. |\n",
    "| Std. Scaler, PCA, Std. Scaler, tuned algo | 0.863 | 0.840 | < 15 sec.(\\*\\*) |\n",
    "\n",
    "(\\*) with manual preparation of a few minutes<br>\n",
    "(\\*\\*) with manual effort to tune algorithm to demonstrate effort not worth the gains over Standard Scaler alone or Std. Sclr + PCA solution (with default algo)"
   ]
  },
  {
   "cell_type": "code",
   "execution_count": null,
   "metadata": {},
   "outputs": [],
   "source": []
  }
 ],
 "metadata": {
  "kernelspec": {
   "display_name": "Python 3",
   "language": "python",
   "name": "python3"
  },
  "language_info": {
   "codemirror_mode": {
    "name": "ipython",
    "version": 3
   },
   "file_extension": ".py",
   "mimetype": "text/x-python",
   "name": "python",
   "nbconvert_exporter": "python",
   "pygments_lexer": "ipython3",
   "version": "3.7.1"
  },
  "toc": {
   "base_numbering": 1,
   "nav_menu": {},
   "number_sections": true,
   "sideBar": true,
   "skip_h1_title": false,
   "title_cell": "Table of Contents",
   "title_sidebar": "Contents",
   "toc_cell": false,
   "toc_position": {
    "height": "calc(100% - 180px)",
    "left": "10px",
    "top": "150px",
    "width": "200px"
   },
   "toc_section_display": true,
   "toc_window_display": true
  },
  "varInspector": {
   "cols": {
    "lenName": 16,
    "lenType": 16,
    "lenVar": 40
   },
   "kernels_config": {
    "python": {
     "delete_cmd_postfix": "",
     "delete_cmd_prefix": "del ",
     "library": "var_list.py",
     "varRefreshCmd": "print(var_dic_list())"
    },
    "r": {
     "delete_cmd_postfix": ") ",
     "delete_cmd_prefix": "rm(",
     "library": "var_list.r",
     "varRefreshCmd": "cat(var_dic_list()) "
    }
   },
   "types_to_exclude": [
    "module",
    "function",
    "builtin_function_or_method",
    "instance",
    "_Feature"
   ],
   "window_display": false
  }
 },
 "nbformat": 4,
 "nbformat_minor": 2
}
